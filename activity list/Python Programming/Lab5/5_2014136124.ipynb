{
 "cells": [
  {
   "cell_type": "markdown",
   "metadata": {},
   "source": [
    "# 문제 1번.\n",
    "\n",
    "## (0과 1의 행렬 출력하기) n * n 행렬을 출력하는 함수를 작성하시오. 함수 헤더는 다음과 같다. \n",
    "~~~\n",
    "def printMatrix(n):\n",
    "~~~\n",
    "## 각 원소는 0이나 1의 값을 가지며 랜덤하게 생성된다. 사용자로부터 n을 입력받고 n * n 행렬을 출\n",
    "## 력하는 테스트 프로그램을 작성하시오.\n",
    "> n을 입력하세요: 3 (enter)\n",
    "\n",
    "> 0 1 0 \n",
    "\n",
    "> 0 0 0\n",
    "\n",
    "> 1 1 1"
   ]
  },
  {
   "cell_type": "code",
   "execution_count": 21,
   "metadata": {},
   "outputs": [
    {
     "name": "stdout",
     "output_type": "stream",
     "text": [
      "n을 입력하세요:3\n",
      "\n",
      "1 0 0 \n",
      "\n",
      "1 1 1 \n",
      "\n",
      "0 0 1 \n",
      "\n"
     ]
    }
   ],
   "source": [
    "import random # 행렬의 값을 랜덤하게 생성해주어야 하므로 \n",
    "\n",
    "n = eval(input(\"n을 입력하세요:\")) # 행렬의 n값을 입력받는다\n",
    "print() # 실행 예와 같게 해주기 위한 한 행을 띄어쓰기\n",
    "\n",
    "def printMatrix(n):  \n",
    "    for i in range(n): # 행렬의 n행만큼의 개수 출력\n",
    "        for j in range(n): # 행렬의 n열만큼의 개수 출력\n",
    "            num = random.randint(0,1) # 0이나 1의 값을 출력하기 위해 num을 randint()를 이용하여 난수 발생해준다\n",
    "            print(num, end =' ') # 다음 행으로 바로 넘어가지않고 띄어쓰기를 해주고 열의 값이 끝나면 넘어간다\n",
    "        print('\\n') # 행을 구분하기 위한 띄어쓰기\n",
    "        \n",
    "printMatrix(n) # 함수 호출\n",
    "    "
   ]
  },
  {
   "cell_type": "markdown",
   "metadata": {},
   "source": [
    "### 코드에 대한 설명\n",
    "\n",
    "#### 1번 문제는 n * n 행렬을 만들어주는데 이 때, n은 사용자가 입력해준다. 주어진 문제에서 printMatrix(n)라는 함수를 작\n",
    "#### 성하여 호출하라고 하였다. printMatrix(n)은 행렬을 출력해주는 알고리즘이 필요하다. 이때, 행렬은 for문을 중첩하여\n",
    "#### 만들 수 있다. i와 j를 for문을 중첩시켜서 틀을 만든다. C언어에서 배열을 배웠던것과 같은 형식으로 배열의 각각의 인\n",
    "#### 덱스 값에 값을 넣어준다. 이때, 값은 random함수를 이용하여 0 또는 1을 넣는다. num에 random.randint(0,1)을 하면\n",
    "#### 0 또는 1이 랜덤으로 발생하여 할당되어진다. 적절하게 띄어쓰기를 통해 행을 구분해준다."
   ]
  },
  {
   "cell_type": "markdown",
   "metadata": {},
   "source": [
    "# 문제 2번.\n",
    "\n",
    "## (수소) 수소(emirp, 영문 prime의 역순)는 비대칭 소수(nonpalindromic prime number)이고 이 \n",
    "## 소수의 역순도 소수이다. 예를 들어, 17과 71은 소수인 동시에 수소이다. 최초 100개의 수소를 출\n",
    "## 력하는 프로그램을 작성하시오. 한 행당 10개의 수소를 출력하고 다음과 같이 적절히 정렬하시오.\n",
    "> 13 17 31 71 73 79 97 107 113\n",
    "\n",
    ">  149 157 167 179 199 311 337 347 359 389"
   ]
  },
  {
   "cell_type": "code",
   "execution_count": 6,
   "metadata": {},
   "outputs": [
    {
     "name": "stdout",
     "output_type": "stream",
     "text": [
      "   13    17    31    37    71    73    79    97   107   113 \n",
      "\n",
      "  149   157   167   179   199   311   337   347   359   389 \n",
      "\n",
      "  701   709   733   739   743   751   761   769   907   937 \n",
      "\n",
      "  941   953   967   971   983   991  1009  1021  1031  1033 \n",
      "\n",
      " 1061  1069  1091  1097  1103  1109  1151  1153  1181  1193 \n",
      "\n",
      " 1201  1213  1217  1223  1229  1231  1237  1249  1259  1279 \n",
      "\n",
      " 1283  1301  1321  1381  1399  1409  1429  1439  1453  1471 \n",
      "\n",
      " 1487  1499  1511  1523  1559  1583  1597  1601  1619  1657 \n",
      "\n",
      " 1669  1723  1733  1741  1753  1789  1811  1831  1847  1867 \n",
      "\n",
      " 1879  1901  1913  1933  1949  1979  3011  3019  3023  3049 "
     ]
    }
   ],
   "source": [
    "PerLine = 0 # 개행을 위해 수소의 개수를 세주는 변수\n",
    "printPerLine = 10 # 10개씩 수소를 출력해야 하므로 수소의 개수를 세주는 변수를 나눠주어 10의 배수로 출력하는 역할\n",
    "\n",
    "# 소수를 판별해주는 함수\n",
    "def Prime(n): \n",
    "    cnt = 0 # 1부터 자기자신까지 나눠줄 때 나누어 떨어지는 개수를 세주는 변수 \n",
    "    for j in range(1,n+1): # n을 1부터 자기자신까지 나누어준다 \n",
    "        if n % j == 0: # 만약 나누었을 때 나누어 떨어진다면\n",
    "            cnt += 1 # cnt의 값을 1만큼 증가시켜준다\n",
    "            \n",
    "    if cnt == 2: # 소수는 1과 자기자신일 때만 나뉘어 떨어지므로 cnt는 2가 되어야한다\n",
    "        return True # cnt가 2이므로 True를 반환\n",
    "    else: # 이외의 값은 False를 반환\n",
    "        return False\n",
    "\n",
    "# num의 값을 문자열 형태로 만들어서 거꾸로 바꿔주는 함수    \n",
    "def Check1(num): \n",
    "    return str(num)[ : :-1] # 리스트의 [ : : -1]을 이용하여 역순으로 반환해준다\n",
    "\n",
    "# num의 값이 그대로도 소수이고 거꾸로해도 소수인지 판별해주는 함수(feat. Prime함수, Check함수)\n",
    "def Check2(num):\n",
    "    if Prime(num) and Prime(int(Check1(num))): # 만약 Prime함수에 num을 넣었을 때 True이며\n",
    "        return True                            # Check1함수에 num을 넣어 숫자를 문자열 형태로 거꾸로 출력하고 \n",
    "    else:                                      # 다시 숫자 형태로 바꿔준 숫자를 Prime함수에 넣었을 때 True인 경우\n",
    "        return False\n",
    "    \n",
    "# num이 회문인지 아닌지 판별해주는 함수\n",
    "def Check3(num):     \n",
    "    if str(num) == str(num)[ : :-1]: # 문자열이 그대로인 것과 역순으로 만들어준 것이 같다면\n",
    "        return False # 회문이므로 False를 반환\n",
    "    else:\n",
    "        return True # 회문이 아니므로 True를 반환\n",
    "        \n",
    "# i의 값이 10부터 10000이하의 수 일 경우(수소인 소수는 일의 자리 수는 성립되지 않기 때문에 십의 자리 수부터 시작한다)\n",
    "for i in range(10, 10000):\n",
    "    if Check2(i) and Check3(i): # Check2함수와 Check3함수를 동시에 만족한다면\n",
    "        PerLine += 1 # PerLine의 값을 1만큼 증가시킨다\n",
    "        print(format(i, \">5d\"), end = ' ') # 가독성을 위해 format을 이용해 정렬하고, end를 이용하여 칸을 띄어주었다 \n",
    "        if (PerLine % printPerLine == 0): # 만약 PerLine이 printPerLine으로 나누어 떨어지면 10의 배수이므로\n",
    "            if PerLine == 100: # 만약 PerLine이 100이면 \n",
    "                break # 100개의 수소만 출력해준다\n",
    "            print(end = \"\\n\\n\") # 한 행을 띄어준다\n",
    "\n"
   ]
  },
  {
   "cell_type": "markdown",
   "metadata": {},
   "source": [
    "### 코드에 대한 설명\n",
    "\n",
    "#### 2번 문제는 소수 중에서 역순으로 바꿔도 소수가 되는 _'수소'_를 찾는 것이다. 다음은 '수소'의 수학적인 용어를 설명해준 \n",
    "#### 참조 사이트이다.\n",
    "<https://ko.wikipedia.org/wiki/%EC%88%98%EC%86%8C_(%EC%88%98%ED%95%99)>\n",
    "#### 위의 사이트의 정의를 통해 수소는 크게 세 가지 핵심 요소를 알면 된다. \n",
    "#### 1. 소수인지 아닌지를 판별하기\n",
    "~~~\n",
    "def Prime(n): \n",
    "~~~\n",
    "> 위의 Prime() 함수는 소수를 판별해준다. 소수를 판별하기 위해 boolean 값을 이용할 수도 있지만 나는 숫자를 세주었다. 소수의 정의는 1과 자기자신으로 밖에 나누어지지 않는 수이다. 그러므로 만약 3이라는 숫자를 1부터 3까지 나누었을 경우 1과 3으로만 나누어 떨어지므로 cnt는 2가 된다. 이처럼 소수는 cnt가 2가 되어야 한다. \n",
    "\n",
    "#### 2. 소수를 거꾸로 해도 소수인지 아닌지를 판별하기\n",
    "~~~\n",
    "def Check1(num):\n",
    "def Check2(num):\n",
    "~~~\n",
    "> 위의 Check1()함수는 소수를 거꾸로 만들어주는 함수이다. 소수는 숫자이므로 이를 문자열로 변환해주는 str()함수를 사용하고서 리스트의 문법 \n",
    "[ : : -1]을 사용하면 문자열이 역순으로 출력된다. 이를 반환하는 것이 Check1()함수이다. Check2()함수는 어떤 숫자가 입력되면 이 숫자가 소수인지 그리고 동시에 이 숫자를 Check1()함수에 넣어주어 역순으로 출력한 문자열을 다시 정수형으로 바꾸어 소수인지 판별해주는 함수이다. 만약 그대로와 역순으로 배열된 숫자가 모두 소수인 경우 _'수소'_의 조건이 된다.\n",
    "\n",
    "#### 3. 회문인지 아닌지를 판별하기\n",
    "~~~\n",
    "def Check3(num):\n",
    "~~~\n",
    "> 위의 Check3()함수는 숫자가 회문인지 아닌지를 판별해주는 함수이다. _'수소'_의 정의는 회문이 아닌 소수이므로 필요한 함수이다. 회문인지 판별하기 위해서 문자열을 거꾸로 출력해준다. 만약 이 거꾸로 출력한 숫자가 원본 숫자와 같다면 회문이 되지만 같지 않다면 회문이 되지 않는다.\n",
    "\n",
    "#### 이제 for문을 이용하여 i의 범위 동안 각 함수의 매개변수에 넣어준다. 만약 Check2()함수와 Check3()함수를 동시에 만족하는 i의 값이 있\n",
    "#### 다면 그것이 바로 _'수소'_가 된다. 그리고 _'수소'_를 100번만 출력하게 해주기 위해서 PerLine의 값을 1씩 증가시켜준다. 만일 이 PerLine \n",
    "#### 변수가 10의 배수가 된다면 10개씩 출력이 될 수 있게 end와 print()를 적절히 써준다."
   ]
  },
  {
   "cell_type": "markdown",
   "metadata": {},
   "source": [
    "# 문제 3번.\n",
    "\n",
    "## (Rectangle 클래스) Circle 클래스 예제를 참조하여 사각형을 표현하는 Rectangle이라는 클래스\n",
    "## 를 구현하시오. Rectangle 클래스는 다음을 포함한다.\n",
    "\n",
    "> 두 데이터 필드 : width와 height\n",
    "\n",
    "## 특정 폭(width)과 높이(height)를 갖는 사각형을 생성하는 생성자, 폭과 높이의 기본값은 각각 1과 \n",
    "## 2이다.\n",
    "\n",
    "> 사각형의 넓이를 반환하는 getArea() 메소드\n",
    "  사각형의 둘레를 반환하는 getPerimeter() 메소드\n",
    "\n",
    "## 하나는 폭 4, 높이 10, 다른 하나는 폭 3.5, 높이 35.7인 두 사각형을 생성하는 테스트 프로그램을 #\n",
    "## 작성하시오. 각 사각형의 폭, 높이, 넓이 및 둘레 순으로 출력하시오."
   ]
  },
  {
   "cell_type": "code",
   "execution_count": 43,
   "metadata": {},
   "outputs": [
    {
     "name": "stdout",
     "output_type": "stream",
     "text": [
      "폭: 4\n",
      "높이: 10\n",
      "넓이: 40.00\n",
      "둘레: 80.00\n",
      "\n",
      "폭: 3.5\n",
      "높이: 35.7\n",
      "넓이: 124.95\n",
      "둘레: 249.90\n"
     ]
    }
   ],
   "source": [
    "class Rectangle: # Rectangle 클래스\n",
    "    def __init__(self, width = 1, height = 2): # Rectangle 클래스의 생성자\n",
    "                                               # 디폴트 값으로 width = 1, height = 2\n",
    "        self.width = width # self.width의 self는 이 클래스의 객체를 가리킴\n",
    "        self.height = height\n",
    "    def getWidth(self): # 폭을 호출하는 메소드\n",
    "        return self.width\n",
    "    def getHeight(self): # 높이를 호출하는 메소드\n",
    "        return self.height\n",
    "    def getArea(self): # 넓이를 호출하는 메소드\n",
    "        return format(self.width * self.height, \".2f\") # format함수를 이용하여 부동소수점 두 자리까지만 호출\n",
    "    def getPerimeter(self): # 둘레를 호출하는 메소드\n",
    "        return format(2 * self.width * self.height, \".2f\") # 마찬가지로 format함수를 이용하여 부동소수점 두 자리까지만 호출\n",
    "    def printRectangleInfo(self): # 생성된 객체의 폭, 높이, 넓이, 둘레의 정보를 보여주는 메소드\n",
    "        print(\"폭:\", self.width)\n",
    "        print(\"높이:\", self.height)\n",
    "        print(\"넓이:\", self.getArea())\n",
    "        print(\"둘레:\", self.getPerimeter())\n",
    "\n",
    "rec1 = Rectangle(4, 10) # rec1이라는 객체 생성(폭은 4, 높이는 10)\n",
    "rec2 = Rectangle(3.5, 35.7) # rec2라는 객체 생성(폭은 3.5, 높이는 35.7)\n",
    "\n",
    "rec1.printRectangleInfo() # rec1 객체의 정보 호출\n",
    "print() # 가독성을 위한 띄어쓰기\n",
    "rec2.printRectangleInfo() # rec2 객체의 정보 호출\n",
    "    "
   ]
  },
  {
   "cell_type": "markdown",
   "metadata": {},
   "source": [
    "### 코드에 대한 설명\n",
    "\n",
    "#### 3번 문제는 객체 지향 프로그램의 대표인 클래스를 작성해본다.  클래스를 작성할 때 주의해야 할 점은 self를 꼭 넣어주어야 한다는 것이\n",
    "#### 다. self를 빠뜨리게 되면 나중에 객체를 생성했을 때, 객체가 클래스의 멤버 변수나 멤버 함수의 호출이 불가능해진다. \n",
    "#### 문제에서는 width와 height 변수를 가진다. 이들은 각각 기본값 1과 2를 가진다. 그러므로 생성자를 작성할 때, \n",
    "~~~  \n",
    "width = 1, height = 2 \n",
    "~~~ \n",
    "#### 를 해준다.  그 다음 폭과 높이를 호출하는 메소드와 넓이를 호출하는 메소드를 작성해준다. 넓이를 호출하는 메소드는 width와 height를 \n",
    "#### 알고 있으므로 간단히 구할 수 있다. 하지만 소수점이 길어지므로 format()함수를 이용하여 부동소수점 2자리 이하로 만들어준다. \n",
    "#### 마지막으로 모든 정보를 호출해주는 printRectangleInfo(self)함수를 작성해준다. \n",
    "#### 이렇게해서 클래스를 작성하였으면 다음으로 객체를 생성해준다. 객체를 생성하는 방법은 위의 클래스가 매개변수가 있는 생성자이므로 \n",
    "#### Rectangle(매개변수)를 할당해준다. 두 객체를 만들어 정보를 호출하였다."
   ]
  }
 ],
 "metadata": {
  "kernelspec": {
   "display_name": "Python 3",
   "language": "python",
   "name": "python3"
  },
  "language_info": {
   "codemirror_mode": {
    "name": "ipython",
    "version": 3
   },
   "file_extension": ".py",
   "mimetype": "text/x-python",
   "name": "python",
   "nbconvert_exporter": "python",
   "pygments_lexer": "ipython3",
   "version": "3.6.1"
  }
 },
 "nbformat": 4,
 "nbformat_minor": 2
}

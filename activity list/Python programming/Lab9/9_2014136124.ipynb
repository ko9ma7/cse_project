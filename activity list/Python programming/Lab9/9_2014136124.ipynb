{
 "cells": [
  {
   "cell_type": "markdown",
   "metadata": {},
   "source": [
    "# 문제 1번.\n",
    "\n",
    "(텍스트 제거) 텍스트 파일로부터 특정 문자열이 나타난 모든 부분을 제거하는 프로그램을 작성하시오. 프로그램은 사용자로부터 파일명과 제거할 문자열을 입력받는다."
   ]
  },
  {
   "cell_type": "code",
   "execution_count": 1,
   "metadata": {
    "pycharm": {
     "is_executing": false
    }
   },
   "outputs": [
    {
     "name": "stdout",
     "text": [
      "file open success!\nfinally절이 실행되었습니다.\n",
      "\nLorem ipsum dolor sit amet,  consectetur adipiscing elit, sed do eiusmod tempor incididunt ut labore et dolore magna aliqua. Aenean vel elit scelerisque mauris pellentesque pulvinar pellentesque habitant morbi. Id aliquet lectus proin nibh nisl. Integer eget aliquet nibh praesent tristique magna. Egestas dui id ornare arcu. Tempor nec feugiat nisl pretium fusce id velit. Suspendisse faucibus interdum posuere  lorem. A scelerisque purus semper eget duis at. Est sit amet facilisis magna. Nulla porttitor massa id neque.\n\nUt aliquam purus  sit amet. At tempor commodo ullamcorper a lacus vestibulum sed. Feugiat pretium nibh ipsum consequat nisl. Cras fermentum odio eu feugiat pretium nibh ipsum consequat nisl. Id porta nibh venenatis cras sed felis eget.  Sed viverra ipsum nunc aliquet bibendum enim facilisis gravida. Pretium viverra suspendisse potenti nullam ac tortor vitae purus faucibus. In ornare quam viverra orci sagittis  eu volutpat odio. Molestie a iaculis at erat pellentesque adipiscing commodo. Suspendisse in est ante in nibh mauris cursus   mattis. Ipsum suspendisse ultrices gravida dictum fusce ut placerat orci. Orci  eu lobortis elementum nibh tellus  molestie nunc non. Vitae congue eu consequat ac.\n\nAenean et tortor at risus viverra  adipiscing at in tellus. Nibh praesent tristique magna sit. Dignissim cras tincidunt lobortis feugiat vivamus. Egestas quis ipsum suspendisse ultrices gravida dictum fusce. At tempor commodo ullamcorper a lacus vestibulum sed arcu non. Ipsum nunc aliquet bibendum enim facilisis gravida. Turpis massa sed elementum tempus  egestas sed sed. Viverra justo nec ultrices dui sapien eget mi. Id eu nisl nunc mi ipsum. Habitant morbi tristique senectus et netus et malesuada fames.\n\nNulla facilisi nullam vehicula ipsum a arcu cursus vitae congue. Facilisi etiam dignissim diam quis. Luctus venenatis  lectus magna fringilla urna porttitor rhoncus dolor. Sed vulputate odio ut enim blandit volutpat maecenas. Quis ipsum suspendisse ultrices gravida dictum. Magna sit amet purus gravida quis blandit turpis cursus. Eros donec ac odio tempor orci. Tristique senectus et netus et malesuada. Adipiscing  tristique risus nec feugiat in fermentum posuere urna nec. Dui vivamus arcu felis bibendum ut tristique. Sagittis id consectetur purus ut faucibus pulvinar elementum integer. Id donec ultrices tincidunt arcu non. Blandit turpis cursus in hac habitasse. Lectus urna  duis convallis convallis tellus id interdum velit laoreet. Posuere morbi leo urna molestie. Ultricies mi eget mauris pharetra et ultrices. Pellentesque sit amet porttitor eget dolor morbi non. Et netus et malesuada fames ac. Tortor vitae purus faucibus ornare  suspendisse sed nisi. Justo nec ultrices dui sapien eget mi proin sed.\n\nId velit ut tortor pretium viverra. Faucibus purus in massa tempor nec. Bibendum neque egestas congue quisque  egestas diam. Eu sem integer vitae justo eget. Elit duis tristique sollicitudin nibh sit. Enim diam vulputate ut pharetra sit. Ut porttitor leo a diam sollicitudin tempor   id eu nisl. Id neque aliquam vestibulum morbi blandit cursus. Consequat ac felis donec et odio pellentesque. Proin fermentum leo vel orci porta non. Maecenas pharetra convallis posuere morbi leo urna  molestie at. Dis parturient montes nascetur ridiculus mus. Ipsum nunc aliquet bibendum enim facilisis gravida. Imperdiet nulla malesuada pellentesque elit eget gravida cum sociis. Donec pretium vulputate   sapien nec sagittis aliquam malesuada bibendum arcu. Non enim praesent elementum facilisis leo vel. Faucibus vitae aliquet nec  ullamcorper sit amet risus nullam eget  .\n\n완료\n"
     ],
     "output_type": "stream"
    }
   ],
   "source": [
    "# 파일 입출력 예외 처리\n",
    "try:\n",
    "    fileName = input(\"파일이름을 입력하세요:\").strip()\n",
    "    inFile = open(fileName, \"r\")\n",
    "except IOError: # 파일 입출력 예외 발생시\n",
    "    print(\"file open fail!\")\n",
    "else: # 예외가 발생되지 않을시\n",
    "    print(\"file open success!\")\n",
    "finally: # 예외가 발생하건 안하건 실행되는 finally절\n",
    "    print(\"finally절이 실행되었습니다.\")\n",
    "    \n",
    "# 사용자가 입력해준 파일을 불러서 하나의 문자열에 저장하기\n",
    "copyFileString = inFile.read()\n",
    "\n",
    "# 파일 닫기\n",
    "inFile.close()\n",
    "    \n",
    "# 저장된 문자열에서 제거할 문자열 제거하기(replace를 이용)\n",
    "removeString = input(\"제거할 문자열을 입력하세요:\")\n",
    "copyFileString = copyFileString.replace(removeString, \"\")\n",
    "    \n",
    "# 다시 쓰기 모드로 열기(이전의 내용이 사라짐)\n",
    "inFile = open(fileName, \"w\")\n",
    "\n",
    "# 내용 쓰기(저장된 문자열을 저장)\n",
    "inFile.write(copyFileString)\n",
    "\n",
    "# 파일 닫기\n",
    "inFile.close()\n",
    "    \n",
    "# 저장된 내용을 다시 읽기 모드로 불러오기\n",
    "modifyFile = open(fileName, \"r\")\n",
    "modifyString = modifyFile.read()\n",
    "\n",
    "print()\n",
    "\n",
    "# 내용 불러오기\n",
    "print(modifyString)\n",
    "        \n",
    "print(\"완료\")"
   ]
  },
  {
   "cell_type": "markdown",
   "metadata": {
    "collapsed": true
   },
   "source": [
    "## 코드에 대한 설명\n",
    "\n",
    "문제 1번은 이번에 배운 파일 입출력을 이용하는 것이다. 우선 교수님께서 주어주신 test_1.txt파일을 가지고 파일을 \"r\"을 이용하여 read모드로 파일을 연다. 이때, 파일이 없을 경우와 파일의 이름을 잘못 적었을 경우 등등의 예외의 경우가 있을 수 있으므로 파일을 열때, try~except 구문을 이용하였다. 오픈된 파일의 내용 전체를 하나의 문자열에 저장한다. 이 문자열에서 사용자로부터 입력된 제거할 문자열을 제거해준다. 이 과정까지 마치고 나면 제거된 문자열이 남는데 이 문자열을 다시 test_1.txt파일을 \"w\"을 이용하여 write모드로 파일을 연 후, 문장을 적어준다. \"w\" 모드로 여는 순간 txt파일의 내용은 다 사라지므로 이를 다시 저장하는 방식을 사용하였다. 내용을 다시 쓴 파일을 열어서 내용을 확인해보면 입력된 제거할 문자열들이 없는 것을 확인할 수 있다."
   ]
  },
  {
   "cell_type": "markdown",
   "metadata": {},
   "source": [
    "# 문제 2번.\n",
    "\n",
    "(파일에 문자, 단어 및 행의 개수 세기) 파일에 포함된 문자, 단어 및 행의 개수를 세는 프로그램을 작성하시오. 단어는 공백으로 분리된다. 프로그램은 사용자로부터 파일이름을 입력받는다."
   ]
  },
  {
   "cell_type": "code",
   "execution_count": 2,
   "metadata": {
    "pycharm": {
     "is_executing": false
    }
   },
   "outputs": [
    {
     "name": "stdout",
     "text": [
      "문자 75650 개\n단어 11353 개\n행 200 개\n"
     ],
     "output_type": "stream"
    }
   ],
   "source": [
    "fileName = input(\"파일이름을 입력하세요:\")\n",
    "infile = open(fileName, \"r\")\n",
    "\n",
    "countChar = 0    # 문자 개수\n",
    "countStr = 0     # 단어 개수\n",
    "countLines = 0   # 행 개수\n",
    "\n",
    "for line in infile:\n",
    "    # 행의 개수 세기\n",
    "    countLines += 1\n",
    "    \n",
    "    # 문자 개수 세기(특수문자, 공백문자 포함)\n",
    "    countChar += len(line) # 한 행의 문자열의 길이는 문자의 개수\n",
    "    \n",
    "    # 단어 개수 세기(공백의 개수를 세기)\n",
    "    for string in line:\n",
    "        if string.isspace():\n",
    "            countStr += 1\n",
    "\n",
    "# 파일 닫기\n",
    "infile.close()\n",
    "\n",
    "print(\"문자\", countChar, \"개\")\n",
    "# 두 개의 단어이므로 공백의 개수에서 1을 더해준다\n",
    "print(\"단어\", countStr + 1, \"개\")  \n",
    "print(\"행\", countLines + 1, \"개\") # 마지막 행은 빈 문자열이므로 세주지 않았기 때문에 1을 더해준다"
   ]
  },
  {
   "cell_type": "markdown",
   "metadata": {},
   "source": [
    "## 코드에 대한 설명\n",
    "\n",
    "문제 2번은 파일의 내용안에 행의 개수와 단어 개수, 문자의 개수를 세는 문제이다. 먼저 파일의 내용을 행으로 끊어서 읽는다. 행으로 끊어서 읽기에 행의 개수를 바로 세준다. 그 다음은 문자 개수를 세는 것이다. 여기서의 문자의 개수는 특수문자와 공백문자가 포함된다. 따라서 len() 메소드를 이용하면 간단하게 구할 수 있다. 예를 들어, str = \"abcd efg\"에서 len(str)은 8이 나온다. len() 메소드는 모든 문자의 개수를 세줄 수 있다. 따라서 한 행당의 문자열의 길이를 계속해서 합쳐서 문자의 개수를 구한다. 마지막으로 단어의 개수를 세는 방법은 공백의 개수에 따라서 끊어주면 된다. 공백을 구하는 방법은 문자열의 isspace() 메소드를 이용한다. 공백일 경우 단어의 개수를 하나씩 증가해준다. 최종적으로 계산 결과는 단어와 행은 하나씩 더해주었다. 왜냐하면, 단어의 경우는, 만약 apple pie라고 되어있을 때, apple과 pie사이에 하나 있는 공백을 기준으로 단어의 수를 세어주었기 때문에 마지막에 1을 더해주어야 한다. 행의 경우는, test_2.txt 내용을 보면, 마지막 행은 빈 문자열로 코드에서는 세어주지 않기 때문에 1을 더해주었다. 사실 행의 경우는 test_2.txt와 같이 마지막 행이 빈 문자열인 경우에나 그렇지 다른 경우는 1을 더해줄 필요가 없다."
   ]
  },
  {
   "cell_type": "markdown",
   "metadata": {},
   "source": [
    "# 문제 3번.\n",
    "\n",
    "(문자열 대체하기) 파일에 문자열을 대체하는 프로그램을 작성하시오.\n",
    "프로그램은 반드시 사용자로부터 파일명, 이전 문자열과 새로운 문자열을 입력받아야 한다."
   ]
  },
  {
   "cell_type": "code",
   "execution_count": 3,
   "metadata": {
    "pycharm": {
     "is_executing": false
    }
   },
   "outputs": [
    {
     "name": "stdout",
     "text": [
      "file open success!\nfinally절이 실행되었습니다.\n"
     ],
     "output_type": "stream"
    },
    {
     "traceback": [
      "\u001b[1;31m---------------------------------------------------------------------------\u001b[0m",
      "\u001b[1;31mUnicodeDecodeError\u001b[0m                        Traceback (most recent call last)",
      "\u001b[1;32m<ipython-input-3-70bebac68ced>\u001b[0m in \u001b[0;36m<module>\u001b[1;34m\u001b[0m\n\u001b[0;32m     12\u001b[0m \u001b[1;33m\u001b[0m\u001b[0m\n\u001b[0;32m     13\u001b[0m \u001b[1;31m# 사용자가 입력해준 파일을 불러서 하나의 문자열에 저장하기\u001b[0m\u001b[1;33m\u001b[0m\u001b[1;33m\u001b[0m\u001b[1;33m\u001b[0m\u001b[0m\n\u001b[1;32m---> 14\u001b[1;33m \u001b[0mcopyString\u001b[0m \u001b[1;33m=\u001b[0m \u001b[0moutFile\u001b[0m\u001b[1;33m.\u001b[0m\u001b[0mread\u001b[0m\u001b[1;33m(\u001b[0m\u001b[1;33m)\u001b[0m\u001b[1;33m\u001b[0m\u001b[1;33m\u001b[0m\u001b[0m\n\u001b[0m\u001b[0;32m     15\u001b[0m \u001b[1;33m\u001b[0m\u001b[0m\n\u001b[0;32m     16\u001b[0m \u001b[1;31m# 파일 닫기\u001b[0m\u001b[1;33m\u001b[0m\u001b[1;33m\u001b[0m\u001b[1;33m\u001b[0m\u001b[0m\n",
      "\u001b[1;32mc:\\users\\battl\\appdata\\local\\programs\\python\\python37\\lib\\codecs.py\u001b[0m in \u001b[0;36mdecode\u001b[1;34m(self, input, final)\u001b[0m\n\u001b[0;32m    320\u001b[0m         \u001b[1;31m# decode input (taking the buffer into account)\u001b[0m\u001b[1;33m\u001b[0m\u001b[1;33m\u001b[0m\u001b[1;33m\u001b[0m\u001b[0m\n\u001b[0;32m    321\u001b[0m         \u001b[0mdata\u001b[0m \u001b[1;33m=\u001b[0m \u001b[0mself\u001b[0m\u001b[1;33m.\u001b[0m\u001b[0mbuffer\u001b[0m \u001b[1;33m+\u001b[0m \u001b[0minput\u001b[0m\u001b[1;33m\u001b[0m\u001b[1;33m\u001b[0m\u001b[0m\n\u001b[1;32m--> 322\u001b[1;33m         \u001b[1;33m(\u001b[0m\u001b[0mresult\u001b[0m\u001b[1;33m,\u001b[0m \u001b[0mconsumed\u001b[0m\u001b[1;33m)\u001b[0m \u001b[1;33m=\u001b[0m \u001b[0mself\u001b[0m\u001b[1;33m.\u001b[0m\u001b[0m_buffer_decode\u001b[0m\u001b[1;33m(\u001b[0m\u001b[0mdata\u001b[0m\u001b[1;33m,\u001b[0m \u001b[0mself\u001b[0m\u001b[1;33m.\u001b[0m\u001b[0merrors\u001b[0m\u001b[1;33m,\u001b[0m \u001b[0mfinal\u001b[0m\u001b[1;33m)\u001b[0m\u001b[1;33m\u001b[0m\u001b[1;33m\u001b[0m\u001b[0m\n\u001b[0m\u001b[0;32m    323\u001b[0m         \u001b[1;31m# keep undecoded input until the next call\u001b[0m\u001b[1;33m\u001b[0m\u001b[1;33m\u001b[0m\u001b[1;33m\u001b[0m\u001b[0m\n\u001b[0;32m    324\u001b[0m         \u001b[0mself\u001b[0m\u001b[1;33m.\u001b[0m\u001b[0mbuffer\u001b[0m \u001b[1;33m=\u001b[0m \u001b[0mdata\u001b[0m\u001b[1;33m[\u001b[0m\u001b[0mconsumed\u001b[0m\u001b[1;33m:\u001b[0m\u001b[1;33m]\u001b[0m\u001b[1;33m\u001b[0m\u001b[1;33m\u001b[0m\u001b[0m\n",
      "\u001b[1;31mUnicodeDecodeError\u001b[0m: 'utf-8' codec can't decode byte 0xb4 in position 0: invalid start byte"
     ],
     "ename": "UnicodeDecodeError",
     "evalue": "'utf-8' codec can't decode byte 0xb4 in position 0: invalid start byte",
     "output_type": "error"
    }
   ],
   "source": [
    "# 1번 문제와 비슷한 맥락으로 코드를 짠다\n",
    "# 파일 입출력 예외 처리\n",
    "try:\n",
    "    fileName = input(\"파일이름을 입력하세요:\").strip()\n",
    "    outFile = open(fileName, \"r\", encoding = 'UTF8') # 한글 파일을 읽기 위해 UTF-8로 인코딩 해준다\n",
    "except IOError: # 파일 입출력 예외 발생시\n",
    "    print(\"file open fail!\")\n",
    "else: # 예외가 발생되지 않을시\n",
    "    print(\"file open success!\")\n",
    "finally: # 예외가 발생하건 안하건 실행되는 finally절\n",
    "    print(\"finally절이 실행되었습니다.\")\n",
    "    \n",
    "# 사용자가 입력해준 파일을 불러서 하나의 문자열에 저장하기\n",
    "copyString = outFile.read()\n",
    "\n",
    "# 파일 닫기\n",
    "outFile.close()\n",
    "    \n",
    "# 저장된 문자열에서 제거할 문자열 제거하기(replace를 이용)\n",
    "beforeString = input(\"교체될 이전 문자열을 입력하세요:\")\n",
    "afterString = input(\"이전 문자열을 대체할 새로운 문자열을 입력하세요:\")\n",
    "copyString = copyString.replace(beforeString, afterString)\n",
    "    \n",
    "# 다시 쓰기 모드로 열기(이전의 내용이 사라짐)\n",
    "outFile = open(fileName, \"w\")\n",
    "\n",
    "# 내용 쓰기(저장된 문자열을 저장)\n",
    "outFile.write(copyString)\n",
    "\n",
    "# 파일 닫기\n",
    "outFile.close()\n",
    "    \n",
    "# 저장된 내용을 다시 읽기 모드로 불러오기\n",
    "replaceFile = open(fileName, \"r\")\n",
    "replaceString = replaceFile.read()\n",
    "\n",
    "print()\n",
    "\n",
    "# 내용 불러오기\n",
    "print(replaceString)\n",
    "        \n",
    "print(\"완료되었습니다\")"
   ]
  },
  {
   "cell_type": "markdown",
   "metadata": {},
   "source": [
    "## 코드에 대한 설명\n",
    "\n",
    "문제 3번은 사실상 1번과 같은 문제라서 설명을 추가하기가 어렵다. 다만, 추가할 사항이라면 encoding을 이용하여 파일을 열었다는 점이 있다. 기본 코드 자체는 1번과 다름없이 파일을 열어서 그 내용을 하나의 문자열에 저장한 후, 그 문자열에서 사용자에게 입력받은 대체할 문자열을 이전 문자열과 바꿔준다. 그렇게 수정된 내용의 문자열을 다시 파일을 쓰기 모드로 열어서, 빈 파일에 그 내용을 저장한다. 저장되어진 수정된 파일을 열어서 확인을 해본다. 1번과 다른 점은 encoding = 'UTF8'을 썼다. 왜냐하면 test_3.txt 파일의 경우는 한글 파일이므로 텍스트가 열어지는 과정에서 한글을 인식하지 못하여 디코딩을 하질 못했기 때문에 파일을 열 수가 없다. 마치 ppt에서 글꼴과 같다고 생각하면 된다. 글꼴을 다른 곳에서 가져왔지만 ppt에 기본 글꼴에는 없기 때문에 사용하질 못한다. 따라서 이를 넣어주어야 하므로 마찬가지로 파일의 내용을 인코딩해준다."
   ]
  },
  {
   "cell_type": "markdown",
   "metadata": {
    "collapsed": true
   },
   "source": [
    "# 문제 4번.\n",
    "\n",
    "(단어 개수 세기) map을 이용하여 단어 빈도수를 센다. 하지만 우리는 map을 배우지 않았기에 다른 방법도 사용 가능하다."
   ]
  },
  {
   "cell_type": "code",
   "execution_count": null,
   "metadata": {
    "pycharm": {
     "is_executing": false
    }
   },
   "outputs": [],
   "source": [
    "def main():\n",
    "    # 파일 열기(쓰기 모드)\n",
    "    userFile = open(\"userFile.txt\", \"w\")\n",
    "    while True:\n",
    "        userFile.write(input(\"입력:\"))\n",
    "        finish = eval(input(\"입력을 마치시겠습니까(1 = Yes, 0 = No)\"))\n",
    "        # 반복문 탈출 조건\n",
    "        if finish == 1:\n",
    "            break\n",
    "        else: \n",
    "            continue\n",
    "            \n",
    "    # 파일 닫기\n",
    "    userFile.close()\n",
    "    \n",
    "    # 파일 열기(읽기 모드)\n",
    "    openFile = open(\"userFile.txt\", \"r\")\n",
    "    # 파일의 내용 저장(문자열)\n",
    "    openStr = openFile.read()\n",
    "    # 문자열 내의 공백문자, 특수문자 처리\n",
    "    Str = replacePunctuations(openStr)\n",
    "\n",
    "    # 단어 딕셔너리 생성\n",
    "    countWords = {}\n",
    "    \n",
    "    # 문자열을 공백을 기준으로 잘라서 행으로 만들기\n",
    "    line = Str.split()\n",
    "    \n",
    "    # 공백을 기준으로 자른 행안에서\n",
    "    for word in line:\n",
    "        # 만약 단어를 저장하는 딕셔너리에 단어가 포함되어 있다면(중복되면)\n",
    "        if word in countWords:\n",
    "            # 개수를 하나 더 추가\n",
    "            countWords[word] += 1\n",
    "        # 만약 단어가 포함되어 있지 않다면(처음이라면)\n",
    "        else:\n",
    "            # 개수를 1로 만든다\n",
    "            countWords[word] = 1\n",
    "            \n",
    "    print()\n",
    "        \n",
    "    # 단어 딕셔너리 출력\n",
    "    for key in countWords:\n",
    "        print(key + \":\" + str(countWords[key]))\n",
    "\n",
    "# 공백문자, 특수문자 등등을 공백문자로 통일해주는 메소드\n",
    "def replacePunctuations(modifyStr):\n",
    "    for ch in modifyStr:\n",
    "        # 만약 문자가 다음 안에 포함되어 있다면\n",
    "        if ch in \"~@#$%^&*()_-+=~<>?/,.;:!{}[]|'\\\" \":\n",
    "            # 공백문자로 대체하기\n",
    "            modifyStr = modifyStr.replace(ch, \" \")\n",
    "    return modifyStr\n",
    "\n",
    "main()"
   ]
  },
  {
   "cell_type": "markdown",
   "metadata": {},
   "source": [
    "## 코드에 대한 설명\n",
    "\n",
    "문제 4번은 여러 줄의 문자열을 받으면 그 문자열 중 단어와 그 개수를 세주는 문제이다. 처음에는 리스트로 풀어보려 했으나 계속 풀지 못하다가 오늘 12월 4일에 배운 딕셔너리를 사용하면 간단하게 풀 수 있을 것 같아서 딕셔너리를 이용하여 풀었다. 또한, 단어를 구분할 수 있게 단어와 단어 사이의 공백문자, 특수문자 등등을 모두 공백문자로 통일해줄 수 있도록 만드는 코드를 교수님 강의 자료에서 사용했다. \n",
    "\n",
    "우선 이 문제는 MapReduce 방식을 모르기 때문에 다른 어떠한 방식으로 풀어도 된다고 교수님께서 말씀하셨다. 그래서 처음엔 리스트로 풀어보려 하였다. 기본 알고리즘은 위와 같이 문자열의 단어를 공백문자를 기준으로 나누고 이 문자를 리스트의 인덱스 값에 추가하여 리스트를 구성하도록 하였다. 하지만 리스트에서는 인덱스값을 정수로만 넣을 수 있고 단어와 같은 str형 문자열은 사용할 수 없다. 그래서 고민하다가 마침 이번 강의 시간에 배운 딕셔너리를 통해 그 방법이 유용하다는 것을 깨닫게 되었다.\n",
    "\n",
    "먼저 파일을 쓰기 모드로 열어서 사용자로부터 문자열을 입력받는다. 이때, 입력받을 문자열은 계속해서 받을지 말지를 0과 1의 숫자로 입력받고 만약 1의 숫자를 입력받으면 입력을 마치고 문자열을 저장하도록 한다. 저장된 문자열이 있는 파일을 다시 읽기 모드로 열어서 파일의 내용을 하나의 문자열에 저장한다. 이때, 이 저장된 문자열은 아직 공백문자와 특수문자 등등이 구분되어 있는 문자열이다. 만약 그런 문자들이 구분이 되어 있다면, \"My name is Ji Myung Hwa!\"라는 문자열을 입력하였을 때, \"Hwa!\"와 같이 단어로 구분이 될 것이다. 따라서 모든 특수문자들도 공백문자로 변환을 해주어야 한다. 이때, 그러한 기능을 해주는 함수를 교수님꼐서 이번 강의에서 설명해주신 강의자료에 나와 있었다. 만약, 행에서 \"~$*@#%^&()_-+=~<>?/,.;:!{}[]|'\\\" \"와 같은 문자가 포함되어 있다면 \" \"인 공백문자로 대체해준다. 그래야 \"Hwa\"와 같이 단독으로 사용이 가능해진다.\n",
    "\n",
    "이렇게 처리된 문자열을 단어를 넣어줄 딕셔너리에 하나씩 추가해준다. 이때 딕셔너리에 들어가는 것은 키값이다. 키는 변하지 않는 값만 사용할 수 있으므로 문자열이 적절하다. 그러므로 키에 따라서 딕셔너리의 값이 증가해진다. 이렇게해서 생성된 딕셔너리에 대해 모든 키에 따라서 값을 출력해준다. "
   ]
  },
  {
   "cell_type": "markdown",
   "metadata": {},
   "source": [
    "# 문제 5번.\n",
    "\n",
    "(원소의 합 구하기) 숫자 n이 주어지면, 처음 n 개의 자연수로 구성된 집합의 가능한 모든 하위 집합에서 모든 원소의 합을 찾아야한다."
   ]
  },
  {
   "cell_type": "code",
   "execution_count": null,
   "metadata": {
    "pycharm": {
     "is_executing": false
    }
   },
   "outputs": [],
   "source": [
    "# 부분집합의 모든 원소의 합 구하기\n",
    "\n",
    "# 기본 풀이\n",
    "# 1. 특정한 원소가 포함된 부분집합의 개수를 찾기\n",
    "# 2. 원소와 부분집합의 개수를 곱하기\n",
    "# 3. 1, 2에서 한 방법을 모든 원소에 적용하기\n",
    "# 4. 구한 값을 모두 더하기\n",
    "\n",
    "# 응용 풀이\n",
    "# 모든 부분집합의 원소의 합에서 각각의 원소의 개수는 똑같다\n",
    "# 특정한 원소 1개를 포함한 부분집합의 개수이기 때문에\n",
    "# 집합 A\n",
    "# 모든 부분집합의 원소의 합 = (A의 모든 원소의 합) x (특정한 원소 1개가 포함된 부분집합의 개수)\n",
    "# 특정한 원소 1개가 포함된 부분집합의 개수 = 2 ^ (n - (특정 원소))\n",
    "\n",
    "import math\n",
    "\n",
    "n = eval(input(\"n의 값을 입력하시오:\"))\n",
    "print()\n",
    "\n",
    "# 빈 리스트 생성(집합)\n",
    "lst = []\n",
    "# 1 ~ n 까지의 숫자 할당해주기\n",
    "for i in range(1, n + 1):\n",
    "    lst.append(i)\n",
    "\n",
    "# lst의 모든 원소의 합\n",
    "elementTot = sum(lst)\n",
    "print(\"모든 원소의 합:\", elementTot)\n",
    "\n",
    "# 특정한 원소 1개가 포함된 부분집합의 개수(특정한 원소는 아무 원소나 상관없음)\n",
    "uniqueElementCount = pow(2, (n - lst[0]))\n",
    "print(\"특정 원소 1개가 포함된 부분집합의 개수:\", uniqueElementCount)\n",
    "\n",
    "# 모든 부분집합의 원소의 합\n",
    "subsetTot = elementTot * uniqueElementCount\n",
    "\n",
    "print(\"모든 부분집합의 원소의 합:\", subsetTot)"
   ]
  },
  {
   "cell_type": "markdown",
   "metadata": {
    "collapsed": true
   },
   "source": [
    "## 코드에 대한 설명\n",
    "\n",
    "문제 5번은 부분집합의 모든 원소의 합을 구하는 문제이다. 사실 이 문제가 제일 어렵다고 보면 된다. 여기서 구하는 문제가 부분집합의 원소들의 합만 구해서 그나마 쉽게 구했으나 부분집합의 원소들까지 구하는 것은 너무나 어려웠다. 처음에 리스트를 이용하여 for문을 반복해서 구하면 가능해질 줄 알았다. 예를 들어, n이 3의 경우 단순히 [1, 2, 3]은 리스트의 값을 출력해주면 구할 수 있다. 부분집합의 원소가 2개씩 있는 경우는 다음과 같이 {1, 2}, {1, 3}, {2, 3}이 되어야 한다. 이를 구하기 위해 for문을 이용하였다. 다음과 같은 코드를 이용하면 구할 수 있다.\n",
    "\n",
    "```\n",
    "n = 3\n",
    "lst1 = [1, 2, 3]\n",
    "lst2 = []\n",
    "\n",
    "s = 0\n",
    "u = 1\n",
    "\n",
    "for i in range(s, n - 1):\n",
    "    for j in range(u, n):\n",
    "        lst2.append(lst1[i])\n",
    "        lst2.append(lst1[j])\n",
    "    u += 1\n",
    "```\n",
    "\n",
    "lst2를 출력해보면 [1, 2, 1, 3, 2, 3]이 나오는 것을 알 수 있다. 이런식으로 n의 값이 증가함에 따라서 규칙을 이용하여 부분집합의 원소를 찾고자 하였으나 잘 되지를 않아서 이 방법이 틀린 것 같다. 원소는 비록 구하지 못했지만 원소들의 합은 인터넷을 찾아보니 공식이 있었다. \n",
    "\n",
    "단순하게 예를 들어서, {1, 2, 3}이라는 집합이 있다고 가정하면, 원소 1이 포함된 집합은 {1}, {1, 2}, {1, 3}, {1, 2, 3}으로 총 3개이다. 원소 2가 포함된 집합은 {2}, {2, 1}, {2, 3}, {2, 1, 3}으로 총 4개이다. 마찬가지로 원소 3도 총 4개이다. 이들의 각각의 합은 각각 14, 16, 18이고 공통된 부분집합은 {1, 2}, {1, 3}, {2, 3}, {1, 2, 3}, {1, 2, 3}이므로 이들의 합(24)을 빼주면 24가 나온다. \n",
    "\n",
    "위와 같은 알고리즘을 좀더 응용되게 생각해보면 {1, 2, 3}의 부분집합은 {1}, {2}, {3}, {1, 2}, {1, 3}, {2, 3}, {1, 2, 3}인데, 원소가 1개씩 있는 집합을 묶으면 {1, 2, 3}이 되고, 원소가 2개씩 있는 집합을 묶으면 {1, 2, 3} * 2개가 되며, 마지막 원소가 3개인 집합 {1, 2, 3}까지 모두 합쳐서 {1, 2, 3} 집합이 4개이다. 이를 이용하면 원소의 합 곱하기 특정 원소의 부분집합의 개수를 하면 부분집합의 모든 원소들의 합을 구할 수 있다. "
   ]
  }
 ],
 "metadata": {
  "kernelspec": {
   "display_name": "Python 3",
   "language": "python",
   "name": "python3"
  },
  "language_info": {
   "codemirror_mode": {
    "name": "ipython",
    "version": 3
   },
   "file_extension": ".py",
   "mimetype": "text/x-python",
   "name": "python",
   "nbconvert_exporter": "python",
   "pygments_lexer": "ipython3",
   "version": "3.6.1"
  }
 },
 "nbformat": 4,
 "nbformat_minor": 2
}
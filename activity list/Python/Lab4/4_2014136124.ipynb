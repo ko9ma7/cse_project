{
 "cells": [
  {
   "cell_type": "markdown",
   "metadata": {},
   "source": [
    "# 문제 1번.\n",
    "\n",
    "## (양수와 음수 개수 세기 및 평균 계산하기) 불특정 개수의 정수를 읽은 후, 양수와 음수가 몇 개씩 읽혔는지 결정하고, 입력값의 개수와 평균을 계산하는 프로그램을 작성하시오(0은 세지 않는다). 프로그램은 입력값 0으로 종료된다. 평균값을 부동소수점 숫자로 출력한다. "
   ]
  },
  {
   "cell_type": "code",
   "execution_count": 4,
   "metadata": {},
   "outputs": [
    {
     "name": "stdout",
     "output_type": "stream",
     "text": [
      "정수를 입력하세요. 입력값이 0이면 종료됩니다:1\n",
      "정수를 입력하세요. 입력값이 0이면 종료됩니다:2\n",
      "정수를 입력하세요. 입력값이 0이면 종료됩니다:-1\n",
      "정수를 입력하세요. 입력값이 0이면 종료됩니다:3\n",
      "정수를 입력하세요. 입력값이 0이면 종료됩니다:0\n",
      "양수의 개수는 3 개 입니다.\n",
      "음수의 개수는 1 개 입니다.\n",
      "총합은 5 입니다.\n",
      "평균은 1.25 입니다.\n"
     ]
    }
   ],
   "source": [
    "sum = 0 # 총합을 나타내는 sum은 처음 0으로 할당\n",
    "count = 0 # 정수의 개수를 나타내는 count는 처음 0으로 할당\n",
    "plus_count = 0 # 양수의 개수를 나타내는 plus_count는 처음 0으로 할당  \n",
    "minus_count = 0 # 음수의 개수를 나타내는 minus_count는 처음 0으로 할당\n",
    "\n",
    "num = eval(input(\"정수를 입력하세요. 입력값이 0이면 종료됩니다:\"))\n",
    "while num != 0: # num의 값이 0이 되면 종료\n",
    "    sum += num # sum은 num을 모두 합한 값\n",
    "    count += 1 # num을 입력할 때마다 count의 값이 1씩 증가\n",
    "    if num > 0: # 만약 num이 양수이면 \n",
    "        plus_count += 1 # plus_count의 값이 1씩 증가\n",
    "    else: # 만약 num이 음수이면 \n",
    "        minus_count += 1 # minus_count의 값이 1씩 증가\n",
    "    \n",
    "    num = eval(input(\"정수를 입력하세요. 입력값이 0이면 종료됩니다:\"))\n",
    "        \n",
    "\n",
    "print(\"양수의 개수는\",plus_count,\"개 입니다.\")\n",
    "print(\"음수의 개수는\",minus_count,\"개 입니다.\")\n",
    "print(\"총합은\",sum,\"입니다.\") \n",
    "print(\"평균은\", format(sum / count, \".2f\"), \"입니다.\") # format을 이용하여 부동소수점 숫자로 출력"
   ]
  },
  {
   "cell_type": "markdown",
   "metadata": {},
   "source": [
    "### 코드에 대한 설명\n",
    "#### 우선 불특정 개수의 정수를 읽어야 하므로, while문을 이용한 반복문을 활용한다. 이때, while문의 탈출 조건이 입력된 정수가 0일 경우 발생하도록 한다. 변수는 크게 5개를 사용한다. 입력된 정수를 받아오는 num, 이 num들을 모두 더해주는 sum, 입력된 num의 개수를 count, 입력된 num들 중에 양수의 개수를 나타내는 plus_count, 음수의 개수를 나타내는 minus_count이다. 이들 모두 while문 안에서 이루어진다. sum은 반복문 안에서 num의 값이 0이 입력되기 전까지 계속해서 받아주고, 양수의 개수와 음수의 개수는 if문을 활용하여 양수일 때, plus_count의 값을 증가시켜주고 음수일때, minus_count의 값을 증가시켜준다. 마지막으로 평균은 num들의 개수를 세준 count의 값과 num들을 모두 합한 sum을 이용하여 구한다. format함수를 이용하여 부동소수점 두자리까지 나타내주었다."
   ]
  },
  {
   "cell_type": "markdown",
   "metadata": {},
   "source": [
    "# 문제 2번.\n",
    "\n",
    "## (최대공약수 계산하기) 예제 코드 lec05/GreatestCommonDivisor.py에서 최대공약수를 구하는 방법을 알아보았다. 두 정수 n1과 n2의 최대공약수를 찾는 또 다른 해결방법은 다음과 같다. 우선, n1과 n2 중 작은 수를 d라고 한 후, d, d-1, d-2, ... , 2, 1의 순서로 각각 d가 n1과 n2의 공약수인지 검사한다. 첫 번째로 나타난 공약수가 두 수 n1과 n2의 최대공약수이다. 이 방법으로 최대공약수를 구하는 프로그램을 작성하시오."
   ]
  },
  {
   "cell_type": "code",
   "execution_count": 3,
   "metadata": {},
   "outputs": [
    {
     "name": "stdout",
     "output_type": "stream",
     "text": [
      "n1의 값을 입력: 24\n",
      "n2의 값을 입력: 30\n",
      "최대공약수는 6 입니다.\n"
     ]
    }
   ],
   "source": [
    "n1 = eval(input(\"n1의 값을 입력: \")) # n1의 정수값 입력\n",
    "n2 = eval(input(\"n2의 값을 입력: \")) # n2의 정수값 입력\n",
    "\n",
    "if n1 > n2: # 만약 n1이 n2보다 크다면 \n",
    "    d = n2  # d에 n2를 할당\n",
    "else:       # 만약 n1이 n2보다 작다면 \n",
    "    d = n1  # d에 n1을 할당\n",
    "\n",
    "while d != 0: # d가 0이 될 때까지(0이 되면 안되므로)\n",
    "    if n1 % d == 0 and n2 % d == 0: # d가 n1과 n2의 공약수일 때\n",
    "        gcd = d # 최대공약수 gcd는 d의 값을 할당\n",
    "        break   # 그 즉시 루프를 탈출한다\n",
    "    d -= 1  # 만약 나머지의 경우 d를 1씩 줄여나간다    \n",
    "\n",
    "print(\"최대공약수는\",d,\"입니다.\")\n",
    "    "
   ]
  },
  {
   "cell_type": "markdown",
   "metadata": {},
   "source": [
    "### 코드에 대한 설명\n",
    "#### 문제 2번의 경우 문제 설명에서 많은 힌트가 있고 이를 따라서 착실하게 수행해주면 코드를 짤 수 있다. 우선 n1과 n2 중에 작은 수를 정하므로 if문을 이용하여 d의 값을 구하고, d를 n1과 n2로 나누어야된다. 따라서 while문을 이용하여 d가 0이 되기 전까지 d-=1을 해주면서 n1과 n2를 나눈다. n1과 n2 모두 나누어지는 d의 값이 곧 최대공약수이다. "
   ]
  },
  {
   "cell_type": "markdown",
   "metadata": {},
   "source": [
    "# 문제 3번.\n",
    "\n",
    "## (윤년 출력하기) 21세기(2001년부터 2100년까지)의 모든 윤년을 한 행에 10개씩 출력하는 프로그램을 작성하시오. 연도는 단 공백 한 개로 구분된다."
   ]
  },
  {
   "cell_type": "code",
   "execution_count": 2,
   "metadata": {},
   "outputs": [
    {
     "name": "stdout",
     "output_type": "stream",
     "text": [
      "2004 2008 2012 2016 2020 2024 2028 2032 2036 2040 \n",
      "2044 2048 2052 2056 2060 2064 2068 2072 2076 2080 \n",
      "2084 2088 2092 2096 "
     ]
    }
   ],
   "source": [
    "line = 10 # 한 행에 출력할 개수\n",
    "count = 0 # 구해준 윤년의 개수\n",
    "\n",
    "for year in range(2001,2100): # for문의 형식은 다음과 같다 for 변수 in range(초기값,종료값):\n",
    "    if (year % 4 == 0 and year % 100 != 0) or year % 400 == 0: # 윤년은 연도가 4로 나누어지면서 100으로는 나누어지지 않거나 400으로 나누어진다 \n",
    "        count += 1 # 윤년을 구할 때마다 count의 값을 1씩 증가시킨다\n",
    "        print(year,end=' ') # 윤년을 출력해주는데 이때, end = ' '를 이용하면 공백으로 칸을 나누어준다 \n",
    "        if count % line == 0: # 만약 count의 값이 10으로 나누어 떨어지면 \n",
    "            print() # print()를 이용하여 한 행을 뛰어넘는다"
   ]
  },
  {
   "cell_type": "markdown",
   "metadata": {},
   "source": [
    "### 코드에 대한 설명\n",
    "#### 윤년은 4로 나누어지면서 100으로는 나누어지지 않거나 400으로는 나누어지는 연도를 윤년이라 한다. 이를 한 행에 10개씩 출력하는 프로그램을 짜야한다. 우선, count와 line이라는 변수를 생성해준다. count는 윤년의 개수를 파악하기 위해서이고, line은 한 행에 10개씩 출력해주기 위한 변수이다. if문에 윤년을 구할 때마다 count의 값이 증가되며 윤년을 출력해준다. 이때, end를 넣어 준 이유는 해당 결과값을 출력할 때 다음줄로 넘기지 않고 그 줄에 계속해서 출력하기 위해서이다. 만약 count의 값이 10의 배수가 된다면, 즉 10개씩 출력할 조건을 만족하게 된다면, print()를 이용하여 한 행을 건너뛴다."
   ]
  },
  {
   "cell_type": "markdown",
   "metadata": {},
   "source": [
    "# 문제 4번.\n",
    "\n",
    "## (가장 큰 수의 출현 빈도수) 정수를 읽은 후, 가장 큰 수를 찾고 그 수의 출현 빈도 수를 계산하는 프로그램을 작성하시오. 입력은 숫자 0일 때 종료된다고 가정한다. 3 5 2 5 5 5 0이 입력되었다고 가정하면 프로그램은 가장 큰 수 5와 5가 출현한 빈도수 4를 찾는다(힌트: 두 변수 max와 count를 사용한다. 변수 max는 현재의 최대 숫자를 저장하고 count는 그 수의 출현 빈도수를 센다. 초기에 첫 번째 숫자를 max에 1을 count에 할당한다. 각각의 뒤따르는 숫자를 max와 비교하라. 만약 그 숫자가 max보다 크면, 그 숫자를 max에 할당하고 count를 1로 재설정한다. 만약 숫자가 max와 같으면, count의 값을 1로 증가시킨다)."
   ]
  },
  {
   "cell_type": "code",
   "execution_count": 1,
   "metadata": {},
   "outputs": [
    {
     "name": "stdout",
     "output_type": "stream",
     "text": [
      "숫자를 입력하세요(0은 입력 종료):3\n",
      "숫자를 입력하세요(0은 입력 종료):5\n",
      "숫자를 입력하세요(0은 입력 종료):2\n",
      "숫자를 입력하세요(0은 입력 종료):5\n",
      "숫자를 입력하세요(0은 입력 종료):5\n",
      "숫자를 입력하세요(0은 입력 종료):5\n",
      "숫자를 입력하세요(0은 입력 종료):0\n",
      "가장 큰 수는 5 입니다.\n",
      "가장 큰 수가 나타난 빈도수는 4 번입니다.\n"
     ]
    }
   ],
   "source": [
    "num = eval(input(\"숫자를 입력하세요(0은 입력 종료):\"))# 처음 num의 값 지정\n",
    "max = num # 처음 num의 값을 max로 지정\n",
    "count = 1 # 첫 번째 max의 값이 num일 때 count의 값이 1\n",
    "\n",
    "while num != 0:\n",
    "    num = eval(input(\"숫자를 입력하세요(0은 입력 종료):\"))\n",
    "    if max < num:  # 만약 max보다 큰 수가 입력되면\n",
    "        max = num  # max에 num의 값을 할당\n",
    "        count = 1  # count의 값을 1로 재설정\n",
    "    elif max == num: # 만약 max와 같은 수가 입력되면\n",
    "        count += 1   # max가 한 번 더 출현하므로 count의 값 1 증가\n",
    "    else:         # 나머지의 경우\n",
    "        continue  # 조건을 다시 반복해준다\n",
    "        \n",
    "print(\"가장 큰 수는\",max,\"입니다.\")\n",
    "print(\"가장 큰 수가 나타난 빈도수는\",count,\"번입니다.\")"
   ]
  },
  {
   "cell_type": "markdown",
   "metadata": {},
   "source": [
    "### 코드에 대한 설명\n",
    "#### 문제 4번 역시 문제에 대한 설명에서 힌트가 자세하게 나와있다. 변수 max와 count를 이용한다. 0이 입력되기 전까지 정수를 받아와야 하므로 while문을 이용하였고, 처음 max의 값을 처음 입력 받은 정수로 할당해주었다. 또한, count의 값도 max가 지정되었으므로 1의 값으로 하나 올려주었다. 이제 반복문 안에서 num을 다시 한 번 입력받은 후, if문을 이용하여 max의 값을 정한다. max보다 입력 받은 num의 값이 더 크면  max의 값이 바뀌는 것이므로 max에 num을 할당해주고, count의 값을 1로 초기화 시켜준다. 만약 같은 수를 받았다면 count의 값만 증가시켜준다. 그 이외의 경우는 조건을 다시 반복하면 된다. "
   ]
  },
  {
   "cell_type": "markdown",
   "metadata": {},
   "source": [
    "# 문제 5번.\n",
    "\n",
    "## (정수 자릿수 합산하기) 정수의 자릿수 합을 계산하는 함수를 작서아시오. 다음의 함수 헤더를 사용하라. \n",
    "### def sumDigits(n):\n",
    "## 예를 들어, sumDigits(234)는 9(9=2+3+4이다.)를 반환한다(힌트: 자릿수 추출을 위해  % 연산자를 사용하라. 예를 들어, 234에서 4를 추출하기 위해 234%10(=4)을 사용한다. 234에서 4를 삭제하기 위해 234//10(=23)을 사용한다. 모든 자릿수가 추출될 때까지 각 자리마다 자릿수를 반복적으로 추출하고 삭제하기 위해 '루프'를 사용하라.)\n",
    "## 사용자로부터 하나의 정수를 입력 받고 이 정수의 모든 자릿수의 합을 출력하는 프로그램을 작성하시오."
   ]
  },
  {
   "cell_type": "code",
   "execution_count": 5,
   "metadata": {},
   "outputs": [
    {
     "name": "stdout",
     "output_type": "stream",
     "text": [
      "하나의 정수를 입력하시오:234\n",
      "234 의 모든 자릿수의 합은 9 입니다.\n"
     ]
    }
   ],
   "source": [
    "def sumDigits(n):\n",
    "    sum = 0 # 처음 sum의 값을 0으로 할당\n",
    "    digit_number = n % 10 # 처음 자릿수의 값은 10으로 나눈 나머지\n",
    "    while digit_number != 0: # 자릿수의 값이 0이 되면 안되므로\n",
    "        sum += digit_number # sum은 자릿수를 모두 더한 결과\n",
    "        n = n // 10 # 뒤의 숫자를 없애기 위해 n에 //를 해준다\n",
    "        digit_number = n % 10 # 다시 자릿수를 구하기 위해 n을 10으로 나눈 나머지를 구한다\n",
    "    return sum\n",
    "        \n",
    "num = eval(input(\"하나의 정수를 입력하시오:\"))\n",
    "print(num,\"의 모든 자릿수의 합은\", sumDigits(num), \"입니다.\")"
   ]
  },
  {
   "cell_type": "markdown",
   "metadata": {},
   "source": [
    "### 코드에 대한 설명\n",
    "#### 문제의 설명에서 가장 큰 힌트는 // 연산자와 % 연산자를 사용하는 것이다. % 연산자를 이용하여 자릿수를 추출해주고, // 연산자를 이용하여 앞에서 썼던 자릿수를 삭제해주고 값을 다시 지정해주는 것이다. 우선, 모든 자릿수의 합을 구해야하므로 sum이라는 정수를 선언하여 0으로 초기화 시켜준다. 그리고 digit_number라는 자릿수 변수를 만들어 n을 10으로 나눈 나머지를 할당해주면 이것이 곧 맨 끝에 자릿수가 된다. 그 후, n을 n에다가 10으로 나눈 몫이라고 정해주면 맨 끝에 자릿수는 삭제되고 나머지 정수만이 n의 값이 된다. 이를 반복하여 sum을 반환해주면 sumDigits() 함수가 생성된다. "
   ]
  },
  {
   "cell_type": "markdown",
   "metadata": {},
   "source": [
    "# 문제 6번.\n",
    "\n",
    "## (3개 숫자를 정렬하기) 3개 숫자를 오름차순으로 출력하는 다음의 함수를 작성하시오.\n",
    "### def displaySortedNumbers(num1, num2, num3):\n",
    "## 사용자로부터 3개 숫자를 입력 받고 이들 숫자를 오름차순으로 출력하기 위해 위 함수를 호출하는 테스트 프로그램을 작성하시오.\n"
   ]
  },
  {
   "cell_type": "code",
   "execution_count": 57,
   "metadata": {},
   "outputs": [
    {
     "name": "stdout",
     "output_type": "stream",
     "text": [
      "세 수를 입력하세요:3,2.4,5\n",
      "정렬된 숫자는 2.4 3 5 입니다.\n"
     ]
    }
   ],
   "source": [
    "def displaySortedNumbers(num1,num2,num3): # 크게 3 가지 경우로 나뉜다\n",
    "    if (num1 > num2) and (num1 > num3): # num1이 최대값일 경우\n",
    "        if num2 > num3: # 다시 num2가 num3보다 큰 경우\n",
    "            print(\"정렬된 숫자는\",num3,num2,num1,\"입니다.\")\n",
    "        else: # num3가 num2보다 큰 경우\n",
    "            print(\"정렬된 숫자는\",num2,num3,num1,\"입니다.\")\n",
    "    elif (num2 > num1) and (num2 > num3): # num2가 최대값일 경우\n",
    "        if num3 > num1: # 다시 num3가 num1보다 큰 경우\n",
    "            print(\"정렬된 숫자는\",num1,num3,num2,\"입니다.\")\n",
    "        else: # num1이 num3보다 큰 경우\n",
    "            print(\"정렬된 숫자는\",num3,num1,num2,\"입니다.\")\n",
    "    else: # num3가 최대값일 경우\n",
    "        if num1 > num2: # 다시 num1이 num2보다 큰 경우\n",
    "            print(\"정렬된 숫자는\",num2,num1,num3,\"입니다.\")\n",
    "        else: # num2가 num1보다 큰 경우\n",
    "            print(\"정렬된 숫자는\",num1,num2,num3,\"입니다.\")\n",
    "\n",
    "n1,n2,n3 = eval(input(\"세 수를 입력하세요:\"))\n",
    "displaySortedNumbers(n1,n2,n3)"
   ]
  },
  {
   "cell_type": "markdown",
   "metadata": {
    "collapsed": true
   },
   "source": [
    "### 코드에 대한 설명\n",
    "#### 문제 6번은 if~else문을 반복해서 사용하면 된다. 세 개의 숫자를 비교하는 것이므로 우선 크게 최대값을 하나 잡은 후, 나머지 두 개의 숫자를 비교하여 출력해주면 된다."
   ]
  }
 ],
 "metadata": {
  "kernelspec": {
   "display_name": "Python 3",
   "language": "python",
   "name": "python3"
  },
  "language_info": {
   "codemirror_mode": {
    "name": "ipython",
    "version": 3
   },
   "file_extension": ".py",
   "mimetype": "text/x-python",
   "name": "python",
   "nbconvert_exporter": "python",
   "pygments_lexer": "ipython3",
   "version": "3.6.1"
  }
 },
 "nbformat": 4,
 "nbformat_minor": 2
}

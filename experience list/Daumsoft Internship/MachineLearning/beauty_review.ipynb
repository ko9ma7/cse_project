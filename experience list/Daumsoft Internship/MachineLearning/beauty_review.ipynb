{
 "cells": [
  {
   "cell_type": "markdown",
   "metadata": {},
   "source": [
    "# 화장품 리뷰 데이터 분석"
   ]
  },
  {
   "cell_type": "markdown",
   "metadata": {},
   "source": [
    "## 1. 데이터 분석 목적성 및 수집\n",
    "30,000개의 화장품 리뷰 데이터를 자연어처리를 하고선 6개의 카테고리로 분류하기"
   ]
  },
  {
   "cell_type": "markdown",
   "metadata": {},
   "source": [
    "##### 데이터 수집"
   ]
  },
  {
   "cell_type": "code",
   "execution_count": 41,
   "metadata": {},
   "outputs": [],
   "source": [
    "import pandas as pd\n",
    "\n",
    "beauty = pd.read_excel('beauty_data_sample.xlsx')"
   ]
  },
  {
   "cell_type": "markdown",
   "metadata": {},
   "source": [
    "##### 데이터 섞기"
   ]
  },
  {
   "cell_type": "code",
   "execution_count": 42,
   "metadata": {},
   "outputs": [],
   "source": [
    "beauty = beauty.sample(frac=1).reset_index(drop=True)"
   ]
  },
  {
   "cell_type": "code",
   "execution_count": 63,
   "metadata": {},
   "outputs": [
    {
     "data": {
      "text/html": [
       "<div>\n",
       "<style scoped>\n",
       "    .dataframe tbody tr th:only-of-type {\n",
       "        vertical-align: middle;\n",
       "    }\n",
       "\n",
       "    .dataframe tbody tr th {\n",
       "        vertical-align: top;\n",
       "    }\n",
       "\n",
       "    .dataframe thead th {\n",
       "        text-align: right;\n",
       "    }\n",
       "</style>\n",
       "<table border=\"1\" class=\"dataframe\">\n",
       "  <thead>\n",
       "    <tr style=\"text-align: right;\">\n",
       "      <th></th>\n",
       "      <th>category</th>\n",
       "      <th>contents</th>\n",
       "    </tr>\n",
       "  </thead>\n",
       "  <tbody>\n",
       "    <tr>\n",
       "      <th>0</th>\n",
       "      <td>용량</td>\n",
       "      <td>재구매한건데 그럭저럭사용할만해요 ㅋㅋ근데  용량이 적다는  엄마왈 재구매한건데 그럭...</td>\n",
       "    </tr>\n",
       "    <tr>\n",
       "      <th>1</th>\n",
       "      <td>색상</td>\n",
       "      <td>너무 저렴하게 잘 샀어요^^감사합니다^^ 색도 이뻐요 ~</td>\n",
       "    </tr>\n",
       "    <tr>\n",
       "      <th>2</th>\n",
       "      <td>디자인</td>\n",
       "      <td>색상도  이쁘고 너무 좋아요</td>\n",
       "    </tr>\n",
       "    <tr>\n",
       "      <th>3</th>\n",
       "      <td>용량</td>\n",
       "      <td>이건일회용인가요?ㅋ 양이정만작네요 ...그가격만큼요</td>\n",
       "    </tr>\n",
       "    <tr>\n",
       "      <th>4</th>\n",
       "      <td>디자인</td>\n",
       "      <td>연령대 :  30대 피부타입(건성,지성,복합성):   지성. 피부 제품사용횟수 또는...</td>\n",
       "    </tr>\n",
       "  </tbody>\n",
       "</table>\n",
       "</div>"
      ],
      "text/plain": [
       "  category                                           contents\n",
       "0       용량  재구매한건데 그럭저럭사용할만해요 ㅋㅋ근데  용량이 적다는  엄마왈 재구매한건데 그럭...\n",
       "1       색상                    너무 저렴하게 잘 샀어요^^감사합니다^^ 색도 이뻐요 ~\n",
       "2      디자인                                    색상도  이쁘고 너무 좋아요\n",
       "3       용량                       이건일회용인가요?ㅋ 양이정만작네요 ...그가격만큼요\n",
       "4      디자인  연령대 :  30대 피부타입(건성,지성,복합성):   지성. 피부 제품사용횟수 또는..."
      ]
     },
     "execution_count": 63,
     "metadata": {},
     "output_type": "execute_result"
    }
   ],
   "source": [
    "beauty.head()"
   ]
  },
  {
   "cell_type": "markdown",
   "metadata": {},
   "source": [
    "## 2. 데이터 분리"
   ]
  },
  {
   "cell_type": "code",
   "execution_count": 43,
   "metadata": {},
   "outputs": [],
   "source": [
    "from sklearn.model_selection import train_test_split\n",
    "\n",
    "X_train, X_test, y_train, y_test = train_test_split(beauty.contents, beauty.category, test_size=0.2, stratify=beauty.category, random_state=42)"
   ]
  },
  {
   "cell_type": "markdown",
   "metadata": {},
   "source": [
    "## 3. 데이터 전처리\n",
    "회사에서 제공하는 keyterm client 모듈을 사용해 문장의 토크나이징"
   ]
  },
  {
   "cell_type": "code",
   "execution_count": 55,
   "metadata": {},
   "outputs": [],
   "source": [
    "from keyterm_client import KeytermClient\n",
    "\n",
    "kc = KeytermClient()\n",
    "\n",
    "# 'AJMA'        형용사\n",
    "# 'NNIN1'       고유명사\n",
    "# 'NNIN2'       일반명사\n",
    "# 'VBMA'        동사\n",
    "\n",
    "X_train_sentence = []\n",
    "X_train_sentence2 = []\n",
    "for idx, contents in enumerate(X_train.values):\n",
    "    data = kc.get_morphemes(body=contents, filter_option=['AJMA','NNIN1','NNIN2','VBMA'])\n",
    "    X_train_sentence.append(data)\n",
    "    X_train_sentence2.extend(data)\n",
    "\n",
    "X_test_sentence = []\n",
    "X_test_sentence2 = []\n",
    "for idx, contents in enumerate(X_test.values):\n",
    "    data = kc.get_morphemes(body=contents, filter_option=['AJMA','NNIN1','NNIN2','VBMA'])\n",
    "    X_test_sentence.append(data)\n",
    "    X_test_sentence2.extend(data)"
   ]
  },
  {
   "cell_type": "markdown",
   "metadata": {},
   "source": [
    "##### 정수 인코딩\n",
    "각 단어를 고유한 정수에 맵핑(mapping)시키는 작업"
   ]
  },
  {
   "cell_type": "code",
   "execution_count": 121,
   "metadata": {},
   "outputs": [],
   "source": [
    "from collections import Counter\n",
    "\n",
    "train_counts = Counter(X_train_sentence2)\n",
    "test_counts = Counter(X_test_sentence2)"
   ]
  },
  {
   "cell_type": "code",
   "execution_count": 122,
   "metadata": {},
   "outputs": [],
   "source": [
    "train_counts_sorted = sorted(train_counts.items(), key=lambda x : x[1], reverse=True)\n",
    "test_counts_sorted = sorted(test_counts.items(), key=lambda x : x[1], reverse=True)"
   ]
  },
  {
   "cell_type": "code",
   "execution_count": 123,
   "metadata": {},
   "outputs": [],
   "source": [
    "train_vocab = sorted(train_counts, key=train_counts.get, reverse=True)\n",
    "test_vocab = sorted(test_counts, key=test_counts.get, reverse=True)"
   ]
  },
  {
   "cell_type": "code",
   "execution_count": 124,
   "metadata": {},
   "outputs": [
    {
     "name": "stdout",
     "output_type": "stream",
     "text": [
      "16834\n",
      "7337\n"
     ]
    }
   ],
   "source": [
    "print(len(train_vocab))\n",
    "print(len(test_vocab))"
   ]
  },
  {
   "cell_type": "code",
   "execution_count": 125,
   "metadata": {},
   "outputs": [],
   "source": [
    "# 높은 빈도수를 가진 단어일수록 낮은 정수 인덱스 부여(훈련 데이터)\n",
    "word_mapping_table = {}\n",
    "\n",
    "idx = 0\n",
    "for (word, frequency) in train_counts_sorted :\n",
    "    word_mapping_table[word] = idx\n",
    "    idx += 1\n",
    "\n",
    "word_mapping_table_sorted = sorted(word_mapping_table.items(), key=lambda x : x[1], reverse=False)"
   ]
  },
  {
   "cell_type": "code",
   "execution_count": 126,
   "metadata": {},
   "outputs": [
    {
     "data": {
      "text/plain": [
       "16834"
      ]
     },
     "execution_count": 126,
     "metadata": {},
     "output_type": "execute_result"
    }
   ],
   "source": [
    "len(word_mapping_table_sorted)"
   ]
  },
  {
   "cell_type": "code",
   "execution_count": 136,
   "metadata": {},
   "outputs": [],
   "source": [
    "X_train_Integer_Encoding = []\n",
    "for sentence in X_train_sentence:\n",
    "    w = []\n",
    "    for word in sentence:\n",
    "        w.append(word_mapping_table[word])\n",
    "    X_train_Integer_Encoding.append(w)"
   ]
  },
  {
   "cell_type": "code",
   "execution_count": 144,
   "metadata": {},
   "outputs": [],
   "source": [
    "X_test_Integer_Encoding = []\n",
    "for sentence in X_test_sentence:\n",
    "    w = []\n",
    "    for word in sentence:\n",
    "        if word in word_mapping_table:\n",
    "            w.append(word_mapping_table[word])\n",
    "        else:\n",
    "            pass\n",
    "            \n",
    "    X_test_Integer_Encoding.append(w)"
   ]
  },
  {
   "cell_type": "markdown",
   "metadata": {},
   "source": [
    "##### 원-핫 인코딩\n",
    "단어 집합의 크기를 벡터의 차원으로 하고, 표현하고 싶은 단어의 인덱스에 1의 값을 부여하고, 다른 인덱스에는 0을 부여하는 단어의 벡터 표현 방식"
   ]
  },
  {
   "cell_type": "code",
   "execution_count": 147,
   "metadata": {},
   "outputs": [],
   "source": [
    "X_train_Onehot_Encoding = list()\n",
    "for value in X_train_Integer_Encoding:\n",
    "    letter = [0 for _ in range(len(word_mapping_table))]\n",
    "    for v in value:\n",
    "        letter[v] = 1\n",
    "    X_train_Onehot_Encoding.append(letter)\n",
    "    \n",
    "X_test_Onehot_Encoding = list()\n",
    "for value in X_test_Integer_Encoding:\n",
    "    letter = [0 for _ in range(len(word_mapping_table))]\n",
    "    for v in value:\n",
    "        letter[v] = 1\n",
    "    X_test_Onehot_Encoding.append(letter)"
   ]
  },
  {
   "cell_type": "code",
   "execution_count": 148,
   "metadata": {},
   "outputs": [],
   "source": [
    "sorted_mapping_keys = [word_mapping_table_sorted[idx][0] for idx in range(len(word_mapping_table_sorted))]"
   ]
  },
  {
   "cell_type": "code",
   "execution_count": 149,
   "metadata": {},
   "outputs": [],
   "source": [
    "X_train_df = pd.DataFrame(X_train_Onehot_Encoding, columns=sorted_mapping_keys)\n",
    "X_test_df = pd.DataFrame(X_test_Onehot_Encoding, columns=sorted_mapping_keys)"
   ]
  },
  {
   "cell_type": "code",
   "execution_count": 16,
   "metadata": {},
   "outputs": [
    {
     "name": "stdout",
     "output_type": "stream",
     "text": [
      "['색상', '디자인', '향기', '용량', '감촉', '가격']\n"
     ]
    }
   ],
   "source": [
    "# 타겟 데이터 매핑 테이블\n",
    "target_names = list(set(beauty.category))\n",
    "print(target_names)\n",
    "\n",
    "target_mapping_table = {}\n",
    "for idx, names in enumerate(target_names):\n",
    "    target_mapping_table[names] = idx"
   ]
  },
  {
   "cell_type": "code",
   "execution_count": 80,
   "metadata": {},
   "outputs": [],
   "source": [
    "# 타겟 데이터프레임 생성\n",
    "y_train_df = pd.DataFrame(columns=['target'])\n",
    "for idx, target in enumerate(y_train.values):\n",
    "    for key, value in target_mapping_table.items():\n",
    "        if target == key:\n",
    "            y_train_df.loc[idx, 'target'] = value\n",
    "            \n",
    "y_test_df = pd.DataFrame(columns=['target'])\n",
    "for idx, target in enumerate(y_test.values):\n",
    "    for key, value in target_mapping_table.items():\n",
    "        if target == key:\n",
    "            y_test_df.loc[idx, 'target'] = value\n",
    "\n",
    "y_train_df = y_train_df.astype(int)\n",
    "y_test_df = y_test_df.astype(int)"
   ]
  },
  {
   "cell_type": "code",
   "execution_count": 150,
   "metadata": {},
   "outputs": [],
   "source": [
    "train_df = pd.concat([X_train_df, y_train_df], axis=1)\n",
    "test_df = pd.concat([X_test_df, y_test_df], axis=1)"
   ]
  },
  {
   "cell_type": "code",
   "execution_count": 151,
   "metadata": {},
   "outputs": [
    {
     "data": {
      "text/html": [
       "<div>\n",
       "<style scoped>\n",
       "    .dataframe tbody tr th:only-of-type {\n",
       "        vertical-align: middle;\n",
       "    }\n",
       "\n",
       "    .dataframe tbody tr th {\n",
       "        vertical-align: top;\n",
       "    }\n",
       "\n",
       "    .dataframe thead th {\n",
       "        text-align: right;\n",
       "    }\n",
       "</style>\n",
       "<table border=\"1\" class=\"dataframe\">\n",
       "  <thead>\n",
       "    <tr style=\"text-align: right;\">\n",
       "      <th></th>\n",
       "      <th>좋다</th>\n",
       "      <th>쓰다</th>\n",
       "      <th>같다</th>\n",
       "      <th>하다</th>\n",
       "      <th>제품</th>\n",
       "      <th>가격</th>\n",
       "      <th>저렴하다</th>\n",
       "      <th>향</th>\n",
       "      <th>사다</th>\n",
       "      <th>배송</th>\n",
       "      <th>...</th>\n",
       "      <th>퍼피</th>\n",
       "      <th>맨살</th>\n",
       "      <th>양자</th>\n",
       "      <th>좋겟엥영</th>\n",
       "      <th>구마하다</th>\n",
       "      <th>머리감다</th>\n",
       "      <th>평범</th>\n",
       "      <th>사리</th>\n",
       "      <th>칼바람부</th>\n",
       "      <th>target</th>\n",
       "    </tr>\n",
       "  </thead>\n",
       "  <tbody>\n",
       "    <tr>\n",
       "      <th>0</th>\n",
       "      <td>0</td>\n",
       "      <td>1</td>\n",
       "      <td>0</td>\n",
       "      <td>0</td>\n",
       "      <td>0</td>\n",
       "      <td>0</td>\n",
       "      <td>0</td>\n",
       "      <td>0</td>\n",
       "      <td>1</td>\n",
       "      <td>0</td>\n",
       "      <td>...</td>\n",
       "      <td>0</td>\n",
       "      <td>0</td>\n",
       "      <td>0</td>\n",
       "      <td>0</td>\n",
       "      <td>0</td>\n",
       "      <td>0</td>\n",
       "      <td>0</td>\n",
       "      <td>0</td>\n",
       "      <td>0</td>\n",
       "      <td>3</td>\n",
       "    </tr>\n",
       "    <tr>\n",
       "      <th>1</th>\n",
       "      <td>1</td>\n",
       "      <td>0</td>\n",
       "      <td>0</td>\n",
       "      <td>0</td>\n",
       "      <td>0</td>\n",
       "      <td>0</td>\n",
       "      <td>0</td>\n",
       "      <td>0</td>\n",
       "      <td>0</td>\n",
       "      <td>0</td>\n",
       "      <td>...</td>\n",
       "      <td>0</td>\n",
       "      <td>0</td>\n",
       "      <td>0</td>\n",
       "      <td>0</td>\n",
       "      <td>0</td>\n",
       "      <td>0</td>\n",
       "      <td>0</td>\n",
       "      <td>0</td>\n",
       "      <td>0</td>\n",
       "      <td>0</td>\n",
       "    </tr>\n",
       "    <tr>\n",
       "      <th>2</th>\n",
       "      <td>1</td>\n",
       "      <td>0</td>\n",
       "      <td>0</td>\n",
       "      <td>0</td>\n",
       "      <td>0</td>\n",
       "      <td>0</td>\n",
       "      <td>0</td>\n",
       "      <td>0</td>\n",
       "      <td>0</td>\n",
       "      <td>0</td>\n",
       "      <td>...</td>\n",
       "      <td>0</td>\n",
       "      <td>0</td>\n",
       "      <td>0</td>\n",
       "      <td>0</td>\n",
       "      <td>0</td>\n",
       "      <td>0</td>\n",
       "      <td>0</td>\n",
       "      <td>0</td>\n",
       "      <td>0</td>\n",
       "      <td>2</td>\n",
       "    </tr>\n",
       "    <tr>\n",
       "      <th>3</th>\n",
       "      <td>0</td>\n",
       "      <td>0</td>\n",
       "      <td>0</td>\n",
       "      <td>0</td>\n",
       "      <td>0</td>\n",
       "      <td>0</td>\n",
       "      <td>0</td>\n",
       "      <td>1</td>\n",
       "      <td>0</td>\n",
       "      <td>0</td>\n",
       "      <td>...</td>\n",
       "      <td>0</td>\n",
       "      <td>0</td>\n",
       "      <td>0</td>\n",
       "      <td>0</td>\n",
       "      <td>0</td>\n",
       "      <td>0</td>\n",
       "      <td>0</td>\n",
       "      <td>0</td>\n",
       "      <td>0</td>\n",
       "      <td>2</td>\n",
       "    </tr>\n",
       "    <tr>\n",
       "      <th>4</th>\n",
       "      <td>1</td>\n",
       "      <td>1</td>\n",
       "      <td>0</td>\n",
       "      <td>0</td>\n",
       "      <td>0</td>\n",
       "      <td>0</td>\n",
       "      <td>0</td>\n",
       "      <td>0</td>\n",
       "      <td>1</td>\n",
       "      <td>0</td>\n",
       "      <td>...</td>\n",
       "      <td>0</td>\n",
       "      <td>0</td>\n",
       "      <td>0</td>\n",
       "      <td>0</td>\n",
       "      <td>0</td>\n",
       "      <td>0</td>\n",
       "      <td>0</td>\n",
       "      <td>0</td>\n",
       "      <td>0</td>\n",
       "      <td>3</td>\n",
       "    </tr>\n",
       "  </tbody>\n",
       "</table>\n",
       "<p>5 rows × 16835 columns</p>\n",
       "</div>"
      ],
      "text/plain": [
       "   좋다  쓰다  같다  하다  제품  가격  저렴하다  향  사다  배송  ...  퍼피  맨살  양자  좋겟엥영  구마하다  머리감다  \\\n",
       "0   0   1   0   0   0   0     0  0   1   0  ...   0   0   0     0     0     0   \n",
       "1   1   0   0   0   0   0     0  0   0   0  ...   0   0   0     0     0     0   \n",
       "2   1   0   0   0   0   0     0  0   0   0  ...   0   0   0     0     0     0   \n",
       "3   0   0   0   0   0   0     0  1   0   0  ...   0   0   0     0     0     0   \n",
       "4   1   1   0   0   0   0     0  0   1   0  ...   0   0   0     0     0     0   \n",
       "\n",
       "   평범  사리  칼바람부  target  \n",
       "0   0   0     0       3  \n",
       "1   0   0     0       0  \n",
       "2   0   0     0       2  \n",
       "3   0   0     0       2  \n",
       "4   0   0     0       3  \n",
       "\n",
       "[5 rows x 16835 columns]"
      ]
     },
     "execution_count": 151,
     "metadata": {},
     "output_type": "execute_result"
    }
   ],
   "source": [
    "train_df.head()"
   ]
  },
  {
   "cell_type": "code",
   "execution_count": 152,
   "metadata": {},
   "outputs": [
    {
     "data": {
      "text/html": [
       "<div>\n",
       "<style scoped>\n",
       "    .dataframe tbody tr th:only-of-type {\n",
       "        vertical-align: middle;\n",
       "    }\n",
       "\n",
       "    .dataframe tbody tr th {\n",
       "        vertical-align: top;\n",
       "    }\n",
       "\n",
       "    .dataframe thead th {\n",
       "        text-align: right;\n",
       "    }\n",
       "</style>\n",
       "<table border=\"1\" class=\"dataframe\">\n",
       "  <thead>\n",
       "    <tr style=\"text-align: right;\">\n",
       "      <th></th>\n",
       "      <th>좋다</th>\n",
       "      <th>쓰다</th>\n",
       "      <th>같다</th>\n",
       "      <th>하다</th>\n",
       "      <th>제품</th>\n",
       "      <th>가격</th>\n",
       "      <th>저렴하다</th>\n",
       "      <th>향</th>\n",
       "      <th>사다</th>\n",
       "      <th>배송</th>\n",
       "      <th>...</th>\n",
       "      <th>퍼피</th>\n",
       "      <th>맨살</th>\n",
       "      <th>양자</th>\n",
       "      <th>좋겟엥영</th>\n",
       "      <th>구마하다</th>\n",
       "      <th>머리감다</th>\n",
       "      <th>평범</th>\n",
       "      <th>사리</th>\n",
       "      <th>칼바람부</th>\n",
       "      <th>target</th>\n",
       "    </tr>\n",
       "  </thead>\n",
       "  <tbody>\n",
       "    <tr>\n",
       "      <th>0</th>\n",
       "      <td>0</td>\n",
       "      <td>0</td>\n",
       "      <td>0</td>\n",
       "      <td>0</td>\n",
       "      <td>0</td>\n",
       "      <td>0</td>\n",
       "      <td>0</td>\n",
       "      <td>0</td>\n",
       "      <td>0</td>\n",
       "      <td>0</td>\n",
       "      <td>...</td>\n",
       "      <td>0</td>\n",
       "      <td>0</td>\n",
       "      <td>0</td>\n",
       "      <td>0</td>\n",
       "      <td>0</td>\n",
       "      <td>0</td>\n",
       "      <td>0</td>\n",
       "      <td>0</td>\n",
       "      <td>0</td>\n",
       "      <td>0</td>\n",
       "    </tr>\n",
       "    <tr>\n",
       "      <th>1</th>\n",
       "      <td>0</td>\n",
       "      <td>0</td>\n",
       "      <td>0</td>\n",
       "      <td>0</td>\n",
       "      <td>0</td>\n",
       "      <td>0</td>\n",
       "      <td>0</td>\n",
       "      <td>0</td>\n",
       "      <td>0</td>\n",
       "      <td>0</td>\n",
       "      <td>...</td>\n",
       "      <td>0</td>\n",
       "      <td>0</td>\n",
       "      <td>0</td>\n",
       "      <td>0</td>\n",
       "      <td>0</td>\n",
       "      <td>0</td>\n",
       "      <td>0</td>\n",
       "      <td>0</td>\n",
       "      <td>0</td>\n",
       "      <td>1</td>\n",
       "    </tr>\n",
       "    <tr>\n",
       "      <th>2</th>\n",
       "      <td>1</td>\n",
       "      <td>0</td>\n",
       "      <td>0</td>\n",
       "      <td>0</td>\n",
       "      <td>0</td>\n",
       "      <td>0</td>\n",
       "      <td>0</td>\n",
       "      <td>0</td>\n",
       "      <td>0</td>\n",
       "      <td>0</td>\n",
       "      <td>...</td>\n",
       "      <td>0</td>\n",
       "      <td>0</td>\n",
       "      <td>0</td>\n",
       "      <td>0</td>\n",
       "      <td>0</td>\n",
       "      <td>0</td>\n",
       "      <td>0</td>\n",
       "      <td>0</td>\n",
       "      <td>0</td>\n",
       "      <td>0</td>\n",
       "    </tr>\n",
       "    <tr>\n",
       "      <th>3</th>\n",
       "      <td>1</td>\n",
       "      <td>0</td>\n",
       "      <td>0</td>\n",
       "      <td>0</td>\n",
       "      <td>0</td>\n",
       "      <td>0</td>\n",
       "      <td>0</td>\n",
       "      <td>0</td>\n",
       "      <td>0</td>\n",
       "      <td>0</td>\n",
       "      <td>...</td>\n",
       "      <td>0</td>\n",
       "      <td>0</td>\n",
       "      <td>0</td>\n",
       "      <td>0</td>\n",
       "      <td>0</td>\n",
       "      <td>0</td>\n",
       "      <td>0</td>\n",
       "      <td>0</td>\n",
       "      <td>0</td>\n",
       "      <td>4</td>\n",
       "    </tr>\n",
       "    <tr>\n",
       "      <th>4</th>\n",
       "      <td>1</td>\n",
       "      <td>1</td>\n",
       "      <td>0</td>\n",
       "      <td>0</td>\n",
       "      <td>0</td>\n",
       "      <td>0</td>\n",
       "      <td>0</td>\n",
       "      <td>0</td>\n",
       "      <td>1</td>\n",
       "      <td>0</td>\n",
       "      <td>...</td>\n",
       "      <td>0</td>\n",
       "      <td>0</td>\n",
       "      <td>0</td>\n",
       "      <td>0</td>\n",
       "      <td>0</td>\n",
       "      <td>0</td>\n",
       "      <td>0</td>\n",
       "      <td>0</td>\n",
       "      <td>0</td>\n",
       "      <td>0</td>\n",
       "    </tr>\n",
       "  </tbody>\n",
       "</table>\n",
       "<p>5 rows × 16835 columns</p>\n",
       "</div>"
      ],
      "text/plain": [
       "   좋다  쓰다  같다  하다  제품  가격  저렴하다  향  사다  배송  ...  퍼피  맨살  양자  좋겟엥영  구마하다  머리감다  \\\n",
       "0   0   0   0   0   0   0     0  0   0   0  ...   0   0   0     0     0     0   \n",
       "1   0   0   0   0   0   0     0  0   0   0  ...   0   0   0     0     0     0   \n",
       "2   1   0   0   0   0   0     0  0   0   0  ...   0   0   0     0     0     0   \n",
       "3   1   0   0   0   0   0     0  0   0   0  ...   0   0   0     0     0     0   \n",
       "4   1   1   0   0   0   0     0  0   1   0  ...   0   0   0     0     0     0   \n",
       "\n",
       "   평범  사리  칼바람부  target  \n",
       "0   0   0     0       0  \n",
       "1   0   0     0       1  \n",
       "2   0   0     0       0  \n",
       "3   0   0     0       4  \n",
       "4   0   0     0       0  \n",
       "\n",
       "[5 rows x 16835 columns]"
      ]
     },
     "execution_count": 152,
     "metadata": {},
     "output_type": "execute_result"
    }
   ],
   "source": [
    "test_df.head()"
   ]
  },
  {
   "cell_type": "code",
   "execution_count": 153,
   "metadata": {},
   "outputs": [
    {
     "name": "stdout",
     "output_type": "stream",
     "text": [
      "(24000, 16834)\n",
      "(24000,)\n",
      "(6000, 16834)\n",
      "(6000,)\n"
     ]
    }
   ],
   "source": [
    "onehot_X_train = train_df.iloc[:, 0:len(sorted_mapping_keys)].values\n",
    "onehot_y_train = train_df.loc[:, 'target'].values\n",
    "\n",
    "print(onehot_X_train.shape)\n",
    "print(onehot_y_train.shape)\n",
    "\n",
    "onehot_X_test = test_df.iloc[:, 0:len(sorted_mapping_keys)].values\n",
    "onehot_y_test = test_df.loc[:, 'target'].values\n",
    "\n",
    "print(onehot_X_test.shape)\n",
    "print(onehot_y_test.shape)"
   ]
  },
  {
   "cell_type": "markdown",
   "metadata": {},
   "source": [
    "Sparse Data로 변환"
   ]
  },
  {
   "cell_type": "code",
   "execution_count": 154,
   "metadata": {},
   "outputs": [],
   "source": [
    "from scipy.sparse import csr_matrix\n",
    "\n",
    "onehot_X_train = csr_matrix(onehot_X_train)\n",
    "onehot_X_test = csr_matrix(onehot_X_test)"
   ]
  },
  {
   "cell_type": "markdown",
   "metadata": {},
   "source": [
    "##### 분석 모델에 사용될 최종 훈련 데이터 및 테스트 데이터\n",
    "##### train: onehot_X_train, onehot_y_train  \n",
    "##### test: onehot_X_test, onehot_y_test"
   ]
  },
  {
   "cell_type": "markdown",
   "metadata": {},
   "source": [
    "## 4. 분석 모델로 데이터 훈련\n",
    "#### 다중 멀티 클래스와 멀티 라벨을 위한 classifier의 종류\n",
    "\n",
    "_[Inherently multiclass]_\n",
    "\n",
    "+ sklearn.tree.DecisionTreeClassifier\n",
    "+ sklearn.ensemble.ExtraTreesClassifier\n",
    "+ sklearn.naive_bayes.GaussianNB\n",
    "+ sklearn.neighbors.KNeighborsClassifier\n",
    "+ sklearn.svm.LinearSVC (setting multi_class=”crammer_singer”)\n",
    "+ sklearn.linear_model.LogisticRegression (setting multi_class=”multinomial”)\n",
    "+ sklearn.ensemble.RandomForestClassifier\n",
    "+ sklearn.linear_model.RidgeClassifier (규제가 필요한 경우)  \n",
    "<br/>\n",
    "<br/>\n",
    "\n",
    "_[Multiclass as One-Vs-One]_\n",
    "\n",
    "+ sklearn.svm.SVC.\n",
    "+ sklearn.gaussian_process.GaussianProcessClassifier (setting multi_class = “one_vs_one”)\n",
    "<br/>\n",
    "<br/>\n",
    "\n",
    "_[Multiclass as One-Vs-The-Rest]_\n",
    "\n",
    "+ sklearn.ensemble.GradientBoostingClassifier\n",
    "+ sklearn.svm.LinearSVC (setting multi_class=”ovr”)\n",
    "+ sklearn.linear_model.LogisticRegression (setting multi_class=”ovr”)\n",
    "+ sklearn.linear_model.SGDClassifier\n",
    "+ sklearn.linear_model.Perceptron\n",
    "<br/>\n",
    "<br/>\n",
    "\n",
    "_[Support multilabel]_\n",
    "\n",
    "+ sklearn.tree.DecisionTreeClassifier\n",
    "+ sklearn.ensemble.ExtraTreesClassifier\n",
    "+ sklearn.neighbors.KNeighborsClassifier\n",
    "+ sklearn.ensemble.RandomForestClassifier\n",
    "<br/>\n",
    "<br/>\n",
    "\n",
    "_[Support multiclass-multioutput]_\n",
    "\n",
    "+ sklearn.tree.DecisionTreeClassifier\n",
    "+ sklearn.ensemble.ExtraTreesClassifier\n",
    "+ sklearn.neighbors.KNeighborsClassifier\n",
    "+ sklearn.ensemble.RandomForestClassifier"
   ]
  },
  {
   "cell_type": "markdown",
   "metadata": {},
   "source": [
    "여러가지 분류 모델을 사용한 결과 제일 좋은 성능인 SGDClassifier와 GradientBoostingClassifier로만 사용"
   ]
  },
  {
   "cell_type": "markdown",
   "metadata": {},
   "source": [
    "#### SGDClasifier"
   ]
  },
  {
   "cell_type": "code",
   "execution_count": 161,
   "metadata": {},
   "outputs": [],
   "source": [
    "from sklearn.linear_model import SGDClassifier\n",
    "\n",
    "sgd_clf = SGDClassifier(max_iter=1000)"
   ]
  },
  {
   "cell_type": "code",
   "execution_count": 162,
   "metadata": {},
   "outputs": [
    {
     "name": "stdout",
     "output_type": "stream",
     "text": [
      "SGDClassifier accuracy: 0.875\n"
     ]
    }
   ],
   "source": [
    "from sklearn.model_selection import cross_val_score\n",
    "import numpy as np\n",
    "\n",
    "sgd_clf_scores = cross_val_score(sgd_clf, onehot_X_train, onehot_y_train, n_jobs=-1, cv=5, scoring='accuracy')\n",
    "print('SGDClassifier accuracy: {:.3f}'.format(np.mean(sgd_clf_scores)))"
   ]
  },
  {
   "cell_type": "markdown",
   "metadata": {},
   "source": [
    "최적의 하이퍼파라미터 구하기"
   ]
  },
  {
   "cell_type": "code",
   "execution_count": 163,
   "metadata": {},
   "outputs": [
    {
     "data": {
      "text/plain": [
       "SGDClassifier(alpha=0.001, average=False, class_weight=None, epsilon=0.1,\n",
       "       eta0=0.0, fit_intercept=True, l1_ratio=0.15,\n",
       "       learning_rate='optimal', loss='modified_huber', max_iter=1000,\n",
       "       n_iter=None, n_jobs=1, penalty='l2', power_t=0.5, random_state=42,\n",
       "       shuffle=True, tol=None, verbose=0, warm_start=False)"
      ]
     },
     "execution_count": 163,
     "metadata": {},
     "output_type": "execute_result"
    }
   ],
   "source": [
    "opt_onehot_sgd_clf = SGDClassifier(loss='modified_huber', max_iter=1000, alpha=1e-3, random_state=42)\n",
    "opt_onehot_sgd_clf.fit(onehot_X_train, onehot_y_train)"
   ]
  },
  {
   "cell_type": "code",
   "execution_count": 164,
   "metadata": {},
   "outputs": [],
   "source": [
    "opt_onehot_sgd_clf_y_pred = opt_onehot_sgd_clf.predict(onehot_X_test)"
   ]
  },
  {
   "cell_type": "code",
   "execution_count": 165,
   "metadata": {},
   "outputs": [
    {
     "name": "stdout",
     "output_type": "stream",
     "text": [
      "[SGDClassifier Precision ~ F1]\n",
      "Accuracy:  0.879\n",
      "Precision: 0.879\n",
      "Recall:    0.879\n",
      "F1_score:  0.878\n"
     ]
    }
   ],
   "source": [
    "from sklearn.metrics import accuracy_score, precision_score, recall_score, f1_score\n",
    "print('[SGDClassifier Precision ~ F1]')\n",
    "print('Accuracy:  {:.3f}'.format(accuracy_score(onehot_y_test, opt_onehot_sgd_clf_y_pred)))\n",
    "print('Precision: {:.3f}'.format(precision_score(onehot_y_test, opt_onehot_sgd_clf_y_pred, average='macro')))\n",
    "print('Recall:    {:.3f}'.format(recall_score(onehot_y_test, opt_onehot_sgd_clf_y_pred, average='macro')))\n",
    "print('F1_score:  {:.3f}'.format(f1_score(onehot_y_test, opt_onehot_sgd_clf_y_pred, average='macro')))"
   ]
  },
  {
   "cell_type": "markdown",
   "metadata": {},
   "source": [
    "#### GradientBoostinfClassifier"
   ]
  },
  {
   "cell_type": "code",
   "execution_count": 166,
   "metadata": {},
   "outputs": [],
   "source": [
    "from sklearn.ensemble import GradientBoostingClassifier\n",
    "from numpy.core.umath_tests import inner1d\n",
    "\n",
    "gb_clf = GradientBoostingClassifier()"
   ]
  },
  {
   "cell_type": "code",
   "execution_count": 167,
   "metadata": {},
   "outputs": [
    {
     "name": "stdout",
     "output_type": "stream",
     "text": [
      "GradientBoostingClassifier accuracy: 0.872\n"
     ]
    }
   ],
   "source": [
    "gb_clf_scores = cross_val_score(gb_clf, onehot_X_train, onehot_y_train, n_jobs=-1, cv=5, scoring='accuracy')\n",
    "print('GradientBoostingClassifier accuracy: {:.3f}'.format(np.mean(gb_clf_scores)))"
   ]
  },
  {
   "cell_type": "markdown",
   "metadata": {},
   "source": [
    "최적의 하이퍼파라미터 구하기"
   ]
  },
  {
   "cell_type": "code",
   "execution_count": 200,
   "metadata": {},
   "outputs": [],
   "source": [
    "from sklearn.model_selection import validation_curve\n",
    "\n",
    "gb_clf2 = GradientBoostingClassifier(random_state=42)\n",
    "param_name2 = 'n_estimators'\n",
    "param_range2 = [100, 300, 500, 700]\n",
    "scoring2 = 'accuracy'\n",
    "\n",
    "train_scores2, test_scores2 = validation_curve(gb_clf2, onehot_X_train, onehot_y_train, \n",
    "                                               param_name=param_name2, param_range=param_range2, cv=3, \n",
    "                                               scoring=scoring2, n_jobs=-1)"
   ]
  },
  {
   "cell_type": "code",
   "execution_count": 201,
   "metadata": {},
   "outputs": [],
   "source": [
    "train_scores_mean2 = np.mean(train_scores2, axis=1)\n",
    "train_scores_std2 = np.std(train_scores2, axis=1)\n",
    "test_scores_mean2 = np.mean(test_scores2, axis=1)\n",
    "test_scores_std2 = np.std(test_scores2, axis=1)"
   ]
  },
  {
   "cell_type": "code",
   "execution_count": 202,
   "metadata": {},
   "outputs": [
    {
     "data": {
      "image/png": "[encoded data removed]",
      "text/plain": [
       "<matplotlib.figure.Figure at 0x7fe72f923da0>"
      ]
     },
     "metadata": {},
     "output_type": "display_data"
    }
   ],
   "source": [
    "plt.figure(figsize=(13, 8))\n",
    "plt.semilogx(param_range2, train_scores_mean2, label=\"Training score\", color=\"r\")\n",
    "plt.fill_between(param_range2, train_scores_mean2 - train_scores_std2, train_scores_mean2 + train_scores_std2, alpha=0.2, color=\"r\")\n",
    "plt.semilogx(param_range2, test_scores_mean2, label=\"Cross-validation score\", color=\"g\")\n",
    "plt.fill_between(param_range2, test_scores_mean2 - test_scores_std2, test_scores_mean2 + test_scores_std2, alpha=0.2, color=\"g\")\n",
    "plt.legend(loc=\"best\")\n",
    "plt.title(\"Validation Curve with GradientBoostingClassifier\")\n",
    "plt.xlabel(\"n_estimators\")\n",
    "plt.ylabel(\"accuracy_score\")\n",
    "plt.ylim(0.0, 1.1)\n",
    "plt.show()"
   ]
  },
  {
   "cell_type": "code",
   "execution_count": 205,
   "metadata": {},
   "outputs": [],
   "source": [
    "from sklearn.model_selection import validation_curve\n",
    "\n",
    "gb_clf3 = GradientBoostingClassifier(n_estimators=400, random_state=42)\n",
    "param_name3 = 'max_depth'\n",
    "param_range3 = [i for i in range(1, 30)]\n",
    "scoring3 = 'accuracy'\n",
    "\n",
    "train_scores2, test_scores2 = validation_curve(gb_clf3, onehot_X_train, onehot_y_train, \n",
    "                                               param_name=param_name3, param_range=param_range3, cv=3, \n",
    "                                               scoring=scoring3, n_jobs=-1)"
   ]
  },
  {
   "cell_type": "code",
   "execution_count": 207,
   "metadata": {},
   "outputs": [
    {
     "data": {
      "image/png": "[encoded data removed]",
      "text/plain": [
       "<matplotlib.figure.Figure at 0x7fe72f949c50>"
      ]
     },
     "metadata": {},
     "output_type": "display_data"
    }
   ],
   "source": [
    "train_scores_mean3 = np.mean(train_scores2, axis=1)\n",
    "train_scores_std3 = np.std(train_scores2, axis=1)\n",
    "test_scores_mean3 = np.mean(test_scores2, axis=1)\n",
    "test_scores_std3 = np.std(test_scores2, axis=1)\n",
    "\n",
    "plt.figure(figsize=(13, 8))\n",
    "plt.semilogx(param_range3, train_scores_mean3, label=\"Training score\", color=\"r\")\n",
    "plt.fill_between(param_range3, train_scores_mean3 - train_scores_std3, train_scores_mean3 + train_scores_std3, alpha=0.2, color=\"r\")\n",
    "plt.semilogx(param_range3, test_scores_mean3, label=\"Cross-validation score\", color=\"g\")\n",
    "plt.fill_between(param_range3, test_scores_mean3 - test_scores_std3, test_scores_mean3 + test_scores_std3, alpha=0.2, color=\"g\")\n",
    "plt.legend(loc=\"best\")\n",
    "plt.title(\"Validation Curve with RandomForestClassifier\")\n",
    "plt.xlabel(\"max_depth\")\n",
    "plt.ylabel(\"score\")\n",
    "plt.ylim(0.0, 1.1)\n",
    "plt.show()"
   ]
  },
  {
   "cell_type": "code",
   "execution_count": 208,
   "metadata": {},
   "outputs": [],
   "source": [
    "from sklearn.model_selection import validation_curve\n",
    "\n",
    "gb_clf4 = GradientBoostingClassifier(n_estimators=400, max_depth=8, random_state=42)\n",
    "param_name4 = 'learning_rate'\n",
    "param_range4 = [0.005, 0.01, 0.02, 0.03, 0.04, 0.05, 0.06, 0.07, 0.08, 0.09, 1.0]\n",
    "scoring4 = 'accuracy'\n",
    "\n",
    "train_scores4, test_scores4 = validation_curve(gb_clf4, onehot_X_train, onehot_y_train, \n",
    "                                               param_name=param_name4, param_range=param_range4, cv=3, \n",
    "                                               scoring=scoring4, n_jobs=-1)"
   ]
  },
  {
   "cell_type": "code",
   "execution_count": 217,
   "metadata": {},
   "outputs": [
    {
     "data": {
      "image/png": "[encoded data removed]",
      "text/plain": [
       "<matplotlib.figure.Figure at 0x7fe72fbe3358>"
      ]
     },
     "metadata": {},
     "output_type": "display_data"
    }
   ],
   "source": [
    "train_scores_mean4 = np.mean(train_scores4, axis=1)\n",
    "train_scores_std4 = np.std(train_scores4, axis=1)\n",
    "test_scores_mean4 = np.mean(test_scores4, axis=1)\n",
    "test_scores_std4 = np.std(test_scores4, axis=1)\n",
    "\n",
    "plt.figure(figsize=(13, 8))\n",
    "plt.semilogx(param_range4, train_scores_mean4, label=\"Training score\", color=\"r\")\n",
    "plt.fill_between(param_range4, train_scores_mean4 - train_scores_std4, train_scores_mean4 + train_scores_std4, alpha=0.2, color=\"r\")\n",
    "plt.semilogx(param_range4, test_scores_mean4, label=\"Cross-validation score\", color=\"g\")\n",
    "plt.fill_between(param_range4, test_scores_mean4 - test_scores_std4, test_scores_mean4 + test_scores_std4, alpha=0.2, color=\"g\")\n",
    "plt.legend(loc=\"best\")\n",
    "plt.title(\"Validation Curve with RandomForestClassifier\")\n",
    "plt.xlabel(\"learning_rate\")\n",
    "plt.ylabel(\"score\")\n",
    "plt.ylim(0.0, 1.1)\n",
    "plt.show()"
   ]
  },
  {
   "cell_type": "markdown",
   "metadata": {},
   "source": [
    "** 여섯 번째 모델 **"
   ]
  },
  {
   "cell_type": "code",
   "execution_count": 214,
   "metadata": {},
   "outputs": [
    {
     "data": {
      "text/plain": [
       "GradientBoostingClassifier(criterion='friedman_mse', init=None,\n",
       "              learning_rate=0.1, loss='deviance', max_depth=8,\n",
       "              max_features=None, max_leaf_nodes=None,\n",
       "              min_impurity_decrease=0.0, min_impurity_split=None,\n",
       "              min_samples_leaf=1, min_samples_split=2,\n",
       "              min_weight_fraction_leaf=0.0, n_estimators=400,\n",
       "              presort='auto', random_state=42, subsample=1.0, verbose=0,\n",
       "              warm_start=False)"
      ]
     },
     "execution_count": 214,
     "metadata": {},
     "output_type": "execute_result"
    }
   ],
   "source": [
    "opt_onehot_gb_clf6 = GradientBoostingClassifier(n_estimators=400, max_depth=8, learning_rate=0.1, random_state=42)\n",
    "opt_onehot_gb_clf6.fit(onehot_X_train, onehot_y_train)"
   ]
  },
  {
   "cell_type": "code",
   "execution_count": 215,
   "metadata": {},
   "outputs": [],
   "source": [
    "opt_onehot_gb_clf_y_pred6 = opt_onehot_gb_clf6.predict(onehot_X_test)"
   ]
  },
  {
   "cell_type": "code",
   "execution_count": 216,
   "metadata": {},
   "outputs": [
    {
     "name": "stdout",
     "output_type": "stream",
     "text": [
      "[GradientBoostingClassifier Precision ~ F1]\n",
      "Accuracy:  0.894\n",
      "Precision: 0.893\n",
      "Recall:    0.894\n",
      "F1_score:  0.893\n"
     ]
    }
   ],
   "source": [
    "print('[GradientBoostingClassifier Precision ~ F1]')\n",
    "print('Accuracy:  {:.3f}'.format(accuracy_score(onehot_y_test, opt_onehot_gb_clf_y_pred6)))\n",
    "print('Precision: {:.3f}'.format(precision_score(onehot_y_test, opt_onehot_gb_clf_y_pred6, average='macro')))\n",
    "print('Recall:    {:.3f}'.format(recall_score(onehot_y_test, opt_onehot_gb_clf_y_pred6, average='macro')))\n",
    "print('F1_score:  {:.3f}'.format(f1_score(onehot_y_test, opt_onehot_gb_clf_y_pred6, average='macro')))"
   ]
  },
  {
   "cell_type": "markdown",
   "metadata": {},
   "source": [
    "** 일곱 번째 모델 **"
   ]
  },
  {
   "cell_type": "code",
   "execution_count": 221,
   "metadata": {},
   "outputs": [
    {
     "data": {
      "text/plain": [
       "GradientBoostingClassifier(criterion='friedman_mse', init=None,\n",
       "              learning_rate=0.1, loss='deviance', max_depth=10,\n",
       "              max_features=None, max_leaf_nodes=None,\n",
       "              min_impurity_decrease=0.0, min_impurity_split=None,\n",
       "              min_samples_leaf=1, min_samples_split=2,\n",
       "              min_weight_fraction_leaf=0.0, n_estimators=600,\n",
       "              presort='auto', random_state=42, subsample=1.0, verbose=0,\n",
       "              warm_start=False)"
      ]
     },
     "execution_count": 221,
     "metadata": {},
     "output_type": "execute_result"
    }
   ],
   "source": [
    "opt_onehot_gb_clf7 = GradientBoostingClassifier(n_estimators=600, max_depth=10, learning_rate=0.1, random_state=42)\n",
    "opt_onehot_gb_clf7.fit(onehot_X_train, onehot_y_train)"
   ]
  },
  {
   "cell_type": "code",
   "execution_count": 222,
   "metadata": {},
   "outputs": [],
   "source": [
    "opt_onehot_gb_clf_y_pred7 = opt_onehot_gb_clf7.predict(onehot_X_test)"
   ]
  },
  {
   "cell_type": "code",
   "execution_count": 223,
   "metadata": {},
   "outputs": [
    {
     "name": "stdout",
     "output_type": "stream",
     "text": [
      "[GradientBoostingClassifier Precision ~ F1]\n",
      "Accuracy:  0.894\n",
      "Precision: 0.894\n",
      "Recall:    0.894\n",
      "F1_score:  0.894\n"
     ]
    }
   ],
   "source": [
    "print('[GradientBoostingClassifier Precision ~ F1]')\n",
    "print('Accuracy:  {:.3f}'.format(accuracy_score(onehot_y_test, opt_onehot_gb_clf_y_pred7)))\n",
    "print('Precision: {:.3f}'.format(precision_score(onehot_y_test, opt_onehot_gb_clf_y_pred7, average='macro')))\n",
    "print('Recall:    {:.3f}'.format(recall_score(onehot_y_test, opt_onehot_gb_clf_y_pred7, average='macro')))\n",
    "print('F1_score:  {:.3f}'.format(f1_score(onehot_y_test, opt_onehot_gb_clf_y_pred7, average='macro')))"
   ]
  },
  {
   "cell_type": "markdown",
   "metadata": {},
   "source": [
    "가장 좋은 모델의 정밀도와 재현율 곡선 그래프"
   ]
  },
  {
   "cell_type": "code",
   "execution_count": 297,
   "metadata": {},
   "outputs": [],
   "source": [
    "en_target_names = ['color', 'design', 'scent', 'volume', 'texture', 'price']"
   ]
  },
  {
   "cell_type": "code",
   "execution_count": 274,
   "metadata": {},
   "outputs": [],
   "source": [
    "from sklearn.preprocessing import label_binarize\n",
    "\n",
    "n_classes = len(en_target_names)\n",
    "\n",
    "binary_onehot_test = label_binarize(onehot_y_test, classes=[*range(n_classes)])\n",
    "binary_onehot_scores = label_binarize(onehot_y_scores, classes=[*range(n_classes)])"
   ]
  },
  {
   "cell_type": "code",
   "execution_count": 300,
   "metadata": {},
   "outputs": [
    {
     "data": {
      "image/png": "[encoded data removed]",
      "text/plain": [
       "<matplotlib.figure.Figure at 0x7fe730218ef0>"
      ]
     },
     "metadata": {},
     "output_type": "display_data"
    }
   ],
   "source": [
    "from sklearn.metrics import precision_recall_curve\n",
    "import matplotlib.pyplot as plt\n",
    "import matplotlib.font_manager as fm\n",
    "import matplotlib\n",
    "\n",
    "path_gothic = \"NanumGothic.ttf\"\n",
    "prop = fm.FontProperties(fname=path_gothic)\n",
    "matplotlib.rcParams[\"axes.unicode_minus\"] = False\n",
    "\n",
    "plt.figure(figsize=(13, 10))\n",
    "\n",
    "precision = dict()\n",
    "recall = dict()\n",
    "for idx in range(len(target_names)):\n",
    "    precision[idx], recall[idx], _ = precision_recall_curve(binary_onehot_test[:, idx], binary_onehot_scores[:, idx])\n",
    "    plt.plot(recall[idx], precision[idx], lw=2, label='{}'.format(en_target_names[idx]))\n",
    "    plt.legend(loc=\"center left\")\n",
    "    plt.ylim([0, 1])\n",
    "   \n",
    "plt.xlabel(\"recall\")\n",
    "plt.ylabel(\"precision\")\n",
    "plt.legend(loc=\"best\")\n",
    "plt.title(\"precision vs. recall curve\")\n",
    "plt.show()"
   ]
  },
  {
   "cell_type": "markdown",
   "metadata": {},
   "source": [
    "** 첫 번째 모델 **"
   ]
  },
  {
   "cell_type": "code",
   "execution_count": 110,
   "metadata": {},
   "outputs": [
    {
     "data": {
      "text/plain": [
       "GradientBoostingClassifier(criterion='friedman_mse', init=None,\n",
       "              learning_rate=0.05, loss='deviance', max_depth=20,\n",
       "              max_features=None, max_leaf_nodes=None,\n",
       "              min_impurity_decrease=0.0, min_impurity_split=None,\n",
       "              min_samples_leaf=1, min_samples_split=2,\n",
       "              min_weight_fraction_leaf=0.0, n_estimators=200,\n",
       "              presort='auto', random_state=42, subsample=1.0, verbose=0,\n",
       "              warm_start=False)"
      ]
     },
     "execution_count": 110,
     "metadata": {},
     "output_type": "execute_result"
    }
   ],
   "source": [
    "opt_onehot_gb_clf = GradientBoostingClassifier(n_estimators=200, max_depth=20, learning_rate=0.05, random_state=42)\n",
    "opt_onehot_gb_clf.fit(onehot_X_train, onehot_y_train)"
   ]
  },
  {
   "cell_type": "code",
   "execution_count": 113,
   "metadata": {},
   "outputs": [],
   "source": [
    "opt_onehot_gb_clf_y_pred = opt_onehot_gb_clf.predict(onehot_X_test)"
   ]
  },
  {
   "cell_type": "code",
   "execution_count": 114,
   "metadata": {},
   "outputs": [
    {
     "name": "stdout",
     "output_type": "stream",
     "text": [
      "[GradientBoostingClassifier Precision ~ F1]\n",
      "Accuracy:  0.887\n",
      "Precision: 0.886\n",
      "Recall:    0.887\n",
      "F1_score:  0.886\n"
     ]
    }
   ],
   "source": [
    "print('[GradientBoostingClassifier Precision ~ F1]')\n",
    "print('Accuracy:  {:.3f}'.format(accuracy_score(onehot_y_test, opt_onehot_gb_clf_y_pred)))\n",
    "print('Precision: {:.3f}'.format(precision_score(onehot_y_test, opt_onehot_gb_clf_y_pred, average='macro')))\n",
    "print('Recall:    {:.3f}'.format(recall_score(onehot_y_test, opt_onehot_gb_clf_y_pred, average='macro')))\n",
    "print('F1_score:  {:.3f}'.format(f1_score(onehot_y_test, opt_onehot_gb_clf_y_pred, average='macro')))"
   ]
  },
  {
   "cell_type": "markdown",
   "metadata": {},
   "source": [
    "** 두 번째 모델 **"
   ]
  },
  {
   "cell_type": "code",
   "execution_count": 115,
   "metadata": {},
   "outputs": [
    {
     "data": {
      "text/plain": [
       "GradientBoostingClassifier(criterion='friedman_mse', init=None,\n",
       "              learning_rate=0.02, loss='deviance', max_depth=20,\n",
       "              max_features=None, max_leaf_nodes=None,\n",
       "              min_impurity_decrease=0.0, min_impurity_split=None,\n",
       "              min_samples_leaf=1, min_samples_split=2,\n",
       "              min_weight_fraction_leaf=0.0, n_estimators=300,\n",
       "              presort='auto', random_state=42, subsample=1.0, verbose=0,\n",
       "              warm_start=False)"
      ]
     },
     "execution_count": 115,
     "metadata": {},
     "output_type": "execute_result"
    }
   ],
   "source": [
    "opt_onehot_gb_clf2 = GradientBoostingClassifier(n_estimators=200, max_depth=20, learning_rate=0.02, random_state=42)\n",
    "opt_onehot_gb_clf2.fit(onehot_X_train, onehot_y_train)"
   ]
  },
  {
   "cell_type": "code",
   "execution_count": 116,
   "metadata": {},
   "outputs": [],
   "source": [
    "opt_onehot_gb_clf_y_pred2 = opt_onehot_gb_clf2.predict(onehot_X_test)"
   ]
  },
  {
   "cell_type": "code",
   "execution_count": 117,
   "metadata": {},
   "outputs": [
    {
     "name": "stdout",
     "output_type": "stream",
     "text": [
      "[GradientBoostingClassifier Precision ~ F1]\n",
      "Accuracy:  0.886\n",
      "Precision: 0.885\n",
      "Recall:    0.886\n",
      "F1_score:  0.885\n"
     ]
    }
   ],
   "source": [
    "print('[GradientBoostingClassifier Precision ~ F1]')\n",
    "print('Accuracy:  {:.3f}'.format(accuracy_score(onehot_y_test, opt_onehot_gb_clf_y_pred2)))\n",
    "print('Precision: {:.3f}'.format(precision_score(onehot_y_test, opt_onehot_gb_clf_y_pred2, average='macro')))\n",
    "print('Recall:    {:.3f}'.format(recall_score(onehot_y_test, opt_onehot_gb_clf_y_pred2, average='macro')))\n",
    "print('F1_score:  {:.3f}'.format(f1_score(onehot_y_test, opt_onehot_gb_clf_y_pred2, average='macro')))"
   ]
  },
  {
   "cell_type": "markdown",
   "metadata": {},
   "source": [
    "** 세 번째 모델 **"
   ]
  },
  {
   "cell_type": "code",
   "execution_count": 176,
   "metadata": {},
   "outputs": [
    {
     "data": {
      "text/plain": [
       "GradientBoostingClassifier(criterion='friedman_mse', init=None,\n",
       "              learning_rate=0.01, loss='deviance', max_depth=25,\n",
       "              max_features=None, max_leaf_nodes=None,\n",
       "              min_impurity_decrease=0.0, min_impurity_split=None,\n",
       "              min_samples_leaf=1, min_samples_split=2,\n",
       "              min_weight_fraction_leaf=0.0, n_estimators=300,\n",
       "              presort='auto', random_state=42, subsample=1.0, verbose=0,\n",
       "              warm_start=False)"
      ]
     },
     "execution_count": 176,
     "metadata": {},
     "output_type": "execute_result"
    }
   ],
   "source": [
    "opt_onehot_gb_clf3 = GradientBoostingClassifier(n_estimators=300, max_depth=25, learning_rate=0.01, random_state=42)\n",
    "opt_onehot_gb_clf3.fit(onehot_X_train, onehot_y_train)"
   ]
  },
  {
   "cell_type": "code",
   "execution_count": 177,
   "metadata": {},
   "outputs": [],
   "source": [
    "opt_onehot_gb_clf_y_pred3 = opt_onehot_gb_clf3.predict(onehot_X_test)"
   ]
  },
  {
   "cell_type": "code",
   "execution_count": 178,
   "metadata": {},
   "outputs": [
    {
     "name": "stdout",
     "output_type": "stream",
     "text": [
      "[GradientBoostingClassifier Precision ~ F1]\n",
      "Accuracy:  0.878\n",
      "Precision: 0.878\n",
      "Recall:    0.878\n",
      "F1_score:  0.878\n"
     ]
    }
   ],
   "source": [
    "print('[GradientBoostingClassifier Precision ~ F1]')\n",
    "print('Accuracy:  {:.3f}'.format(accuracy_score(onehot_y_test, opt_onehot_gb_clf_y_pred3)))\n",
    "print('Precision: {:.3f}'.format(precision_score(onehot_y_test, opt_onehot_gb_clf_y_pred3, average='macro')))\n",
    "print('Recall:    {:.3f}'.format(recall_score(onehot_y_test, opt_onehot_gb_clf_y_pred3, average='macro')))\n",
    "print('F1_score:  {:.3f}'.format(f1_score(onehot_y_test, opt_onehot_gb_clf_y_pred3, average='macro')))"
   ]
  },
  {
   "cell_type": "markdown",
   "metadata": {},
   "source": [
    "** 네 번째 모델 **"
   ]
  },
  {
   "cell_type": "code",
   "execution_count": 179,
   "metadata": {},
   "outputs": [
    {
     "data": {
      "text/plain": [
       "GradientBoostingClassifier(criterion='friedman_mse', init=None,\n",
       "              learning_rate=0.01, loss='deviance', max_depth=25,\n",
       "              max_features=None, max_leaf_nodes=None,\n",
       "              min_impurity_decrease=0.0, min_impurity_split=None,\n",
       "              min_samples_leaf=1, min_samples_split=2,\n",
       "              min_weight_fraction_leaf=0.0, n_estimators=500,\n",
       "              presort='auto', random_state=42, subsample=1.0, verbose=0,\n",
       "              warm_start=False)"
      ]
     },
     "execution_count": 179,
     "metadata": {},
     "output_type": "execute_result"
    }
   ],
   "source": [
    "opt_onehot_gb_clf4 = GradientBoostingClassifier(n_estimators=500, max_depth=25, learning_rate=0.01, random_state=42)\n",
    "opt_onehot_gb_clf4.fit(onehot_X_train, onehot_y_train)"
   ]
  },
  {
   "cell_type": "code",
   "execution_count": 180,
   "metadata": {},
   "outputs": [],
   "source": [
    "opt_onehot_gb_clf_y_pred4 = opt_onehot_gb_clf4.predict(onehot_X_test)"
   ]
  },
  {
   "cell_type": "code",
   "execution_count": 181,
   "metadata": {},
   "outputs": [
    {
     "name": "stdout",
     "output_type": "stream",
     "text": [
      "[GradientBoostingClassifier Precision ~ F1]\n",
      "Accuracy:  0.881\n",
      "Precision: 0.880\n",
      "Recall:    0.881\n",
      "F1_score:  0.880\n"
     ]
    }
   ],
   "source": [
    "print('[GradientBoostingClassifier Precision ~ F1]')\n",
    "print('Accuracy:  {:.3f}'.format(accuracy_score(onehot_y_test, opt_onehot_gb_clf_y_pred4)))\n",
    "print('Precision: {:.3f}'.format(precision_score(onehot_y_test, opt_onehot_gb_clf_y_pred4, average='macro')))\n",
    "print('Recall:    {:.3f}'.format(recall_score(onehot_y_test, opt_onehot_gb_clf_y_pred4, average='macro')))\n",
    "print('F1_score:  {:.3f}'.format(f1_score(onehot_y_test, opt_onehot_gb_clf_y_pred4, average='macro')))"
   ]
  },
  {
   "cell_type": "markdown",
   "metadata": {},
   "source": [
    "** 다섯 번째 모델 **"
   ]
  },
  {
   "cell_type": "code",
   "execution_count": 182,
   "metadata": {},
   "outputs": [
    {
     "data": {
      "text/plain": [
       "GradientBoostingClassifier(criterion='friedman_mse', init=None,\n",
       "              learning_rate=1, loss='deviance', max_depth=20,\n",
       "              max_features=None, max_leaf_nodes=None,\n",
       "              min_impurity_decrease=0.0, min_impurity_split=None,\n",
       "              min_samples_leaf=1, min_samples_split=2,\n",
       "              min_weight_fraction_leaf=0.0, n_estimators=200,\n",
       "              presort='auto', random_state=42, subsample=1.0, verbose=0,\n",
       "              warm_start=False)"
      ]
     },
     "execution_count": 182,
     "metadata": {},
     "output_type": "execute_result"
    }
   ],
   "source": [
    "opt_onehot_gb_clf5 = GradientBoostingClassifier(n_estimators=200, max_depth=20, learning_rate=1, random_state=42)\n",
    "opt_onehot_gb_clf5.fit(onehot_X_train, onehot_y_train)"
   ]
  },
  {
   "cell_type": "code",
   "execution_count": 183,
   "metadata": {},
   "outputs": [],
   "source": [
    "opt_onehot_gb_clf_y_pred5 = opt_onehot_gb_clf5.predict(onehot_X_test)"
   ]
  },
  {
   "cell_type": "code",
   "execution_count": 184,
   "metadata": {},
   "outputs": [
    {
     "name": "stdout",
     "output_type": "stream",
     "text": [
      "[GradientBoostingClassifier Precision ~ F1]\n",
      "Accuracy:  0.877\n",
      "Precision: 0.877\n",
      "Recall:    0.877\n",
      "F1_score:  0.877\n"
     ]
    }
   ],
   "source": [
    "print('[GradientBoostingClassifier Precision ~ F1]')\n",
    "print('Accuracy:  {:.3f}'.format(accuracy_score(onehot_y_test, opt_onehot_gb_clf_y_pred5)))\n",
    "print('Precision: {:.3f}'.format(precision_score(onehot_y_test, opt_onehot_gb_clf_y_pred5, average='macro')))\n",
    "print('Recall:    {:.3f}'.format(recall_score(onehot_y_test, opt_onehot_gb_clf_y_pred5, average='macro')))\n",
    "print('F1_score:  {:.3f}'.format(f1_score(onehot_y_test, opt_onehot_gb_clf_y_pred5, average='macro')))"
   ]
  },
  {
   "cell_type": "markdown",
   "metadata": {},
   "source": [
    "** 일곱 번째 모델의 오차행렬 **"
   ]
  },
  {
   "cell_type": "code",
   "execution_count": 228,
   "metadata": {},
   "outputs": [],
   "source": [
    "import matplotlib.pyplot as plt\n",
    "import seaborn as sns\n",
    "from sklearn.metrics import confusion_matrix\n",
    "\n",
    "index = ['Color', 'Design', 'Scent', 'Volume', 'Texture', 'Price']\n",
    "gb_clf_df = pd.DataFrame(confusion_matrix(onehot_y_test, opt_onehot_gb_clf_y_pred7), index=index, columns=index)"
   ]
  },
  {
   "cell_type": "code",
   "execution_count": 229,
   "metadata": {},
   "outputs": [
    {
     "data": {
      "image/png": "[encoded data removed]",
      "text/plain": [
       "<matplotlib.figure.Figure at 0x7fe495339390>"
      ]
     },
     "metadata": {},
     "output_type": "display_data"
    }
   ],
   "source": [
    "plt.figure(figsize=(13, 10))\n",
    "plt.title(\"GradientBoostingClassifier Confusion Matrix\", fontsize=18)\n",
    "\n",
    "sns.set(font_scale = 1.4)\n",
    "sns.heatmap(gb_clf_df, fmt=\"d\", cmap=\"jet\", annot=True, annot_kws={\"size\": 16}) # font size\n",
    "\n",
    "plt.show()"
   ]
  }
 ],
 "metadata": {
  "kernelspec": {
   "display_name": "Python 3",
   "language": "python",
   "name": "python3"
  },
  "language_info": {
   "codemirror_mode": {
    "name": "ipython",
    "version": 3
   },
   "file_extension": ".py",
   "mimetype": "text/x-python",
   "name": "python",
   "nbconvert_exporter": "python",
   "pygments_lexer": "ipython3",
   "version": "3.5.2"
  }
 },
 "nbformat": 4,
 "nbformat_minor": 2
}

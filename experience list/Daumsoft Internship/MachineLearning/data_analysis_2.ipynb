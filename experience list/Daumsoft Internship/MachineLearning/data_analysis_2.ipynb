{
 "cells": [
  {
   "cell_type": "markdown",
   "metadata": {},
   "source": [
    "# 화장품 리뷰 데이터"
   ]
  },
  {
   "cell_type": "markdown",
   "metadata": {},
   "source": [
    "## 1. 데이터 수집 및 탐색, 전처리"
   ]
  },
  {
   "cell_type": "code",
   "execution_count": 2,
   "metadata": {},
   "outputs": [],
   "source": [
    "import pandas as pd\n",
    "\n",
    "beauty = pd.read_excel('beauty_data_sample.xlsx')"
   ]
  },
  {
   "cell_type": "code",
   "execution_count": 3,
   "metadata": {},
   "outputs": [
    {
     "data": {
      "text/html": [
       "<div>\n",
       "<style scoped>\n",
       "    .dataframe tbody tr th:only-of-type {\n",
       "        vertical-align: middle;\n",
       "    }\n",
       "\n",
       "    .dataframe tbody tr th {\n",
       "        vertical-align: top;\n",
       "    }\n",
       "\n",
       "    .dataframe thead th {\n",
       "        text-align: right;\n",
       "    }\n",
       "</style>\n",
       "<table border=\"1\" class=\"dataframe\">\n",
       "  <thead>\n",
       "    <tr style=\"text-align: right;\">\n",
       "      <th></th>\n",
       "      <th>category</th>\n",
       "      <th>contents</th>\n",
       "    </tr>\n",
       "  </thead>\n",
       "  <tbody>\n",
       "    <tr>\n",
       "      <th>0</th>\n",
       "      <td>감촉</td>\n",
       "      <td>사용감이좋아서  재구매하는것이구요한가지불편한것은화장품병뚜껑이헐거워병을 화장대에 떨어...</td>\n",
       "    </tr>\n",
       "    <tr>\n",
       "      <th>1</th>\n",
       "      <td>향기</td>\n",
       "      <td>크기도 들고다니기 적당하고  향도 너무 좋네요 . 늘 록시*만 썼었는데 갈아타야겠어...</td>\n",
       "    </tr>\n",
       "    <tr>\n",
       "      <th>2</th>\n",
       "      <td>가격</td>\n",
       "      <td>좋은제품 싸게 잘샀네요    최저가로 산듯</td>\n",
       "    </tr>\n",
       "    <tr>\n",
       "      <th>3</th>\n",
       "      <td>향기</td>\n",
       "      <td>향도 좋고  발색도 잘 됩니다.</td>\n",
       "    </tr>\n",
       "    <tr>\n",
       "      <th>4</th>\n",
       "      <td>가격</td>\n",
       "      <td>저렴하고 딱 좋아요   가성비 좋아요 저렴하고 딱 좋아요 저렴하고 딱 좋아요 저렴하...</td>\n",
       "    </tr>\n",
       "    <tr>\n",
       "      <th>...</th>\n",
       "      <td>...</td>\n",
       "      <td>...</td>\n",
       "    </tr>\n",
       "    <tr>\n",
       "      <th>29995</th>\n",
       "      <td>디자인</td>\n",
       "      <td>단델리온할까하다가 나이도 있고 피부톤도 어둡고해서 이제품을 택했는데..정말  이쁘고...</td>\n",
       "    </tr>\n",
       "    <tr>\n",
       "      <th>29996</th>\n",
       "      <td>디자인</td>\n",
       "      <td>디자인은 별하나 뺐어요~ 너무 이쁜데~ 제가 좋아하는 감촉이  아니라서? 이건 그런...</td>\n",
       "    </tr>\n",
       "    <tr>\n",
       "      <th>29997</th>\n",
       "      <td>디자인</td>\n",
       "      <td>선물 포장 너무  깔끔하고 예쁘고  무엇보다 배송에 신경 써주셔서 제 때에 선물할 ...</td>\n",
       "    </tr>\n",
       "    <tr>\n",
       "      <th>29998</th>\n",
       "      <td>디자인</td>\n",
       "      <td>언제나 이용하고 있습니다.  가격대비 추천합니다 !  생각보다 좋은거 같아요. 잘 ...</td>\n",
       "    </tr>\n",
       "    <tr>\n",
       "      <th>29999</th>\n",
       "      <td>디자인</td>\n",
       "      <td>디자인도 깔끔하고 좋아요 !!</td>\n",
       "    </tr>\n",
       "  </tbody>\n",
       "</table>\n",
       "<p>30000 rows × 2 columns</p>\n",
       "</div>"
      ],
      "text/plain": [
       "      category                                           contents\n",
       "0           감촉  사용감이좋아서  재구매하는것이구요한가지불편한것은화장품병뚜껑이헐거워병을 화장대에 떨어...\n",
       "1           향기  크기도 들고다니기 적당하고  향도 너무 좋네요 . 늘 록시*만 썼었는데 갈아타야겠어...\n",
       "2           가격                            좋은제품 싸게 잘샀네요    최저가로 산듯\n",
       "3           향기                                 향도 좋고  발색도 잘 됩니다. \n",
       "4           가격  저렴하고 딱 좋아요   가성비 좋아요 저렴하고 딱 좋아요 저렴하고 딱 좋아요 저렴하...\n",
       "...        ...                                                ...\n",
       "29995      디자인  단델리온할까하다가 나이도 있고 피부톤도 어둡고해서 이제품을 택했는데..정말  이쁘고...\n",
       "29996      디자인  디자인은 별하나 뺐어요~ 너무 이쁜데~ 제가 좋아하는 감촉이  아니라서? 이건 그런...\n",
       "29997      디자인  선물 포장 너무  깔끔하고 예쁘고  무엇보다 배송에 신경 써주셔서 제 때에 선물할 ...\n",
       "29998      디자인  언제나 이용하고 있습니다.  가격대비 추천합니다 !  생각보다 좋은거 같아요. 잘 ...\n",
       "29999      디자인                                   디자인도 깔끔하고 좋아요 !!\n",
       "\n",
       "[30000 rows x 2 columns]"
      ]
     },
     "execution_count": 3,
     "metadata": {},
     "output_type": "execute_result"
    }
   ],
   "source": [
    "beauty"
   ]
  },
  {
   "cell_type": "code",
   "execution_count": 4,
   "metadata": {},
   "outputs": [],
   "source": [
    "# 'AJMA',        # 형용사\n",
    "# 'AX',          # 보조용언\n",
    "# 'FW',          # 외국어\n",
    "# 'NNDE1',       # 비단위성의존명사\n",
    "# 'NNDE2',       # 단위성의존명사\n",
    "# 'NNIN1',       # 고유명사\n",
    "# 'NNIN2',       # 일반명사\n",
    "# 'NU',          # 수사\n",
    "# 'VBMA',        # 동사"
   ]
  },
  {
   "cell_type": "markdown",
   "metadata": {},
   "source": [
    "### 예시문"
   ]
  },
  {
   "cell_type": "code",
   "execution_count": 47,
   "metadata": {},
   "outputs": [
    {
     "name": "stdout",
     "output_type": "stream",
     "text": [
      "[원문] \n",
      "\n",
      "사용감이좋아서  재구매하는것이구요한가지불편한것은화장품병뚜껑이헐거워병을 화장대에 떨어뜨리기쉬우니 화장대유리조심하시구요만들때좀더 신경쓰셔서단단한재질로만들었으면 좋겠네요 그리구상품기록에 스와롭스키&메소드핸드위시라고기재되어있어서목걸이도포함된줄알았는데안와서조금아쉽네요\n",
      "\n",
      "\n",
      "[Extract Keyterm] \n",
      "\n",
      "['사다', '좋다', '재구매', '구요한', '가지', '화장품', '뚜껑', '불편', '화장품병뚜껑', '병', '헐거워병', '화장대', '화장대떨어뜨리기쉽다', '떨어뜨리기쉽다', '화장대', '유리', '화장대유리', '조심하다', '만들때', '만들다', '유리조심하다', '화장대유리조심하다', '재질', '신경쓰다', '단단한', '단단하다', '만들면좋겠다', '단단한재질', '재질신경쓰다', '단단한재질신경쓰다', '상품', '기록', '상품기록', '메소드', '위시', '스와롭스키', '핸드위시라고기재되어있어서목걸이도포함된줄알았는데안와서조금아', '핸드', '라고기재되어있어서목걸이도포함된줄알았는데안와서조금아', '스와롭스키&메소드핸드위시라고기재되어있어서목걸이도포함된줄알았는데안와서조금아', '쉽다', '스와롭스키&메소드핸드위시라고기재되어있어서목걸이도포함된줄알았는데안와서조금아쉽다', '#@DU#']\n",
      "\n",
      "\n",
      "[Extract Keypair] \n",
      "\n",
      "[]\n",
      "\n",
      "\n",
      "[Extract Morphmes] \n",
      "\n",
      "['사다', '가다', '좋다', '재구매', '하다', '구요한', '가지', '불편', '하다', '화장품', '뚜껑', '헐거워병', '화장대', '떨어뜨리다', '쉽다', '화장대', '유리', '조심하다', '만들다', '신경쓰다', '단단하다', '재질', '만들다', '좋다', '상품', '기록', '스와롭스키', '메소드', '핸드', '위시', '라고기재되어있어서목걸이도포함된줄알았는데안와서조금아', '쉽다']\n"
     ]
    }
   ],
   "source": [
    "import os\n",
    "import sys\n",
    "import logging\n",
    "import re\n",
    "\n",
    "_SCRIPT_DIR = os.path.abspath(os.path.dirname('__file__'))\n",
    "sys.path.insert(0, os.path.abspath(_SCRIPT_DIR))\n",
    "\n",
    "_KC_DIR = os.path.join(_SCRIPT_DIR, 'keyterm_client_py3')\n",
    "sys.path.insert(0, os.path.abspath(_KC_DIR))\n",
    "\n",
    "from keyterm_client_py3.keyterm_client import KeytermClient\n",
    "from pprint import pprint\n",
    "\n",
    "\n",
    "kc = KeytermClient()\n",
    "\n",
    "print('[원문] \\n\\n{}'.format(beauty.contents[0]))\n",
    "print('\\n')\n",
    "text = beauty.contents[0]\n",
    "\n",
    "# extract keyterm\n",
    "keyterm, keypair = kc.analyze(mode='keyterm', body=text)\n",
    "print('[Extract Keyterm] \\n\\n{}'.format(keyterm))\n",
    "print('\\n')\n",
    "print('[Extract Keypair] \\n\\n{}'.format(keypair))\n",
    "print('\\n')\n",
    "\n",
    "# extract morphemes\n",
    "morphs = kc.get_morphemes(body=text)\n",
    "print('[Extract Morphmes] \\n\\n{}'.format(morphs))"
   ]
  },
  {
   "cell_type": "code",
   "execution_count": 6,
   "metadata": {},
   "outputs": [
    {
     "name": "stdout",
     "output_type": "stream",
     "text": [
      "크기도 들고다니기 적당하고  향도 너무 좋네요 . 늘 록시*만 썼었는데 갈아타야겠어요~~~ 엠버바닐라 최고 !\n",
      "['적당하다', '좋다']\n",
      "[]\n",
      "[]\n",
      "[]\n",
      "['크기', '향', '록시', '엠버', '바닐라', '최고']\n",
      "['들다', '다니다', '쓰다', '갈아타다']\n",
      "[]\n"
     ]
    }
   ],
   "source": [
    "# 'AJMA',        # 형용사\n",
    "# 'FW',          # 외국어\n",
    "# 'NNDE1',       # 비단위성의존명사\n",
    "# 'NNDE2',       # 단위성의존명사\n",
    "# 'NNIN1',       # 고유명사\n",
    "# 'NNIN2',       # 일반명사\n",
    "# 'VBMA',        # 동사\n",
    "\n",
    "text2 = beauty.contents[1]\n",
    "print(text2)\n",
    "\n",
    "AJMA = kc.get_morphemes(body=text2, filter_option=['AJMA'])\n",
    "NNDE1 = kc.get_morphemes(body=text2, filter_option=['NNDE1'])\n",
    "NNDE2 = kc.get_morphemes(body=text2, filter_option=['NNDE2'])\n",
    "NNIN1 = kc.get_morphemes(body=text2, filter_option=['NNIN1'])\n",
    "NNIN2 = kc.get_morphemes(body=text2, filter_option=['NNIN2'])\n",
    "VBMA = kc.get_morphemes(body=text2, filter_option=['VBMA'])\n",
    "FW = kc.get_morphemes(body=text2, filter_option=['FW'])\n",
    "\n",
    "print(AJMA)\n",
    "print(NNDE1)\n",
    "print(NNDE2)\n",
    "print(NNIN1)\n",
    "print(NNIN2)\n",
    "print(VBMA)\n",
    "print(FW)"
   ]
  },
  {
   "cell_type": "markdown",
   "metadata": {},
   "source": [
    "### 단어 빈도수 세기"
   ]
  },
  {
   "cell_type": "code",
   "execution_count": 65,
   "metadata": {},
   "outputs": [
    {
     "name": "stdout",
     "output_type": "stream",
     "text": [
      "['#@DU#', '가지', '구요한', '기록', '단단하다', '단단한', '단단한재질', '단단한재질신경쓰다', '떨어뜨리기쉽다', '뚜껑', '라고기재되어있어서목걸이도포함된줄알았는데안와서조금아', '만들다', '만들때', '만들면좋겠다', '메소드', '병', '불편', '사다', '상품', '상품기록', '쉽다', '스와롭스키', '스와롭스키&메소드핸드위시라고기재되어있어서목걸이도포함된줄알았는데안와서조금아', '스와롭스키&메소드핸드위시라고기재되어있어서목걸이도포함된줄알았는데안와서조금아쉽다', '신경쓰다', '위시', '유리', '유리조심하다', '재구매', '재질', '재질신경쓰다', '조심하다', '좋다', '핸드', '핸드위시라고기재되어있어서목걸이도포함된줄알았는데안와서조금아', '헐거워병', '화장대', '화장대떨어뜨리기쉽다', '화장대유리', '화장대유리조심하다', '화장품', '화장품병뚜껑']\n"
     ]
    }
   ],
   "source": [
    "term_count = []\n",
    "for term in keyterm:\n",
    "    term_count.append(term)\n",
    "\n",
    "term_count = list(set(term_count))\n",
    "print(sorted(term_count))\n",
    "\n",
    "# print('\\n')\n",
    "\n",
    "# n = 0\n",
    "# for result in sorted(term_count, reverse=True):\n",
    "#     n += 1\n",
    "#     print(result[1], ':', result[0])"
   ]
  },
  {
   "cell_type": "code",
   "execution_count": null,
   "metadata": {},
   "outputs": [],
   "source": []
  },
  {
   "cell_type": "code",
   "execution_count": null,
   "metadata": {},
   "outputs": [],
   "source": []
  },
  {
   "cell_type": "code",
   "execution_count": 9,
   "metadata": {},
   "outputs": [
    {
     "name": "stdout",
     "output_type": "stream",
     "text": [
      "0        사용감이좋아서  재구매하는것이구요한가지불편한것은화장품병뚜껑이헐거워병을 화장대에 떨어...\n",
      "1        크기도 들고다니기 적당하고  향도 너무 좋네요 . 늘 록시*만 썼었는데 갈아타야겠어...\n",
      "2                                  좋은제품 싸게 잘샀네요    최저가로 산듯\n",
      "3                                       향도 좋고  발색도 잘 됩니다. \n",
      "4        저렴하고 딱 좋아요   가성비 좋아요 저렴하고 딱 좋아요 저렴하고 딱 좋아요 저렴하...\n",
      "                               ...                        \n",
      "29995    단델리온할까하다가 나이도 있고 피부톤도 어둡고해서 이제품을 택했는데..정말  이쁘고...\n",
      "29996    디자인은 별하나 뺐어요~ 너무 이쁜데~ 제가 좋아하는 감촉이  아니라서? 이건 그런...\n",
      "29997    선물 포장 너무  깔끔하고 예쁘고  무엇보다 배송에 신경 써주셔서 제 때에 선물할 ...\n",
      "29998    언제나 이용하고 있습니다.  가격대비 추천합니다 !  생각보다 좋은거 같아요. 잘 ...\n",
      "29999                                     디자인도 깔끔하고 좋아요 !!\n",
      "Name: contents, Length: 30000, dtype: object\n",
      "0         감촉\n",
      "1         향기\n",
      "2         가격\n",
      "3         향기\n",
      "4         가격\n",
      "        ... \n",
      "29995    디자인\n",
      "29996    디자인\n",
      "29997    디자인\n",
      "29998    디자인\n",
      "29999    디자인\n",
      "Name: category, Length: 30000, dtype: object\n"
     ]
    }
   ],
   "source": [
    "beauty_data = beauty.iloc[:, 1]\n",
    "beauty_target = beauty.iloc[:, 0]\n",
    "\n",
    "print(beauty_data)\n",
    "print(beauty_target)"
   ]
  },
  {
   "cell_type": "code",
   "execution_count": 10,
   "metadata": {},
   "outputs": [],
   "source": [
    "import numpy as np\n",
    "\n",
    "beauty_target_df = pd.DataFrame(beauty_target)\n",
    "beauty_target_names = pd.unique(beauty_target)\n",
    "\n",
    "target_names = []\n",
    "for names in beauty_target_names:\n",
    "    target_names.append(names)"
   ]
  },
  {
   "cell_type": "code",
   "execution_count": 11,
   "metadata": {},
   "outputs": [
    {
     "data": {
      "text/plain": [
       "['감촉', '향기', '가격', '색상', '용량', '디자인']"
      ]
     },
     "execution_count": 11,
     "metadata": {},
     "output_type": "execute_result"
    }
   ],
   "source": [
    "target_names"
   ]
  },
  {
   "cell_type": "code",
   "execution_count": 12,
   "metadata": {},
   "outputs": [
    {
     "data": {
      "text/html": [
       "<div>\n",
       "<style scoped>\n",
       "    .dataframe tbody tr th:only-of-type {\n",
       "        vertical-align: middle;\n",
       "    }\n",
       "\n",
       "    .dataframe tbody tr th {\n",
       "        vertical-align: top;\n",
       "    }\n",
       "\n",
       "    .dataframe thead th {\n",
       "        text-align: right;\n",
       "    }\n",
       "</style>\n",
       "<table border=\"1\" class=\"dataframe\">\n",
       "  <thead>\n",
       "    <tr style=\"text-align: right;\">\n",
       "      <th></th>\n",
       "      <th>category_가격</th>\n",
       "      <th>category_감촉</th>\n",
       "      <th>category_디자인</th>\n",
       "      <th>category_색상</th>\n",
       "      <th>category_용량</th>\n",
       "      <th>category_향기</th>\n",
       "    </tr>\n",
       "  </thead>\n",
       "  <tbody>\n",
       "    <tr>\n",
       "      <th>0</th>\n",
       "      <td>0</td>\n",
       "      <td>1</td>\n",
       "      <td>0</td>\n",
       "      <td>0</td>\n",
       "      <td>0</td>\n",
       "      <td>0</td>\n",
       "    </tr>\n",
       "    <tr>\n",
       "      <th>1</th>\n",
       "      <td>0</td>\n",
       "      <td>0</td>\n",
       "      <td>0</td>\n",
       "      <td>0</td>\n",
       "      <td>0</td>\n",
       "      <td>1</td>\n",
       "    </tr>\n",
       "    <tr>\n",
       "      <th>2</th>\n",
       "      <td>1</td>\n",
       "      <td>0</td>\n",
       "      <td>0</td>\n",
       "      <td>0</td>\n",
       "      <td>0</td>\n",
       "      <td>0</td>\n",
       "    </tr>\n",
       "    <tr>\n",
       "      <th>3</th>\n",
       "      <td>0</td>\n",
       "      <td>0</td>\n",
       "      <td>0</td>\n",
       "      <td>0</td>\n",
       "      <td>0</td>\n",
       "      <td>1</td>\n",
       "    </tr>\n",
       "    <tr>\n",
       "      <th>4</th>\n",
       "      <td>1</td>\n",
       "      <td>0</td>\n",
       "      <td>0</td>\n",
       "      <td>0</td>\n",
       "      <td>0</td>\n",
       "      <td>0</td>\n",
       "    </tr>\n",
       "    <tr>\n",
       "      <th>...</th>\n",
       "      <td>...</td>\n",
       "      <td>...</td>\n",
       "      <td>...</td>\n",
       "      <td>...</td>\n",
       "      <td>...</td>\n",
       "      <td>...</td>\n",
       "    </tr>\n",
       "    <tr>\n",
       "      <th>29995</th>\n",
       "      <td>0</td>\n",
       "      <td>0</td>\n",
       "      <td>1</td>\n",
       "      <td>0</td>\n",
       "      <td>0</td>\n",
       "      <td>0</td>\n",
       "    </tr>\n",
       "    <tr>\n",
       "      <th>29996</th>\n",
       "      <td>0</td>\n",
       "      <td>0</td>\n",
       "      <td>1</td>\n",
       "      <td>0</td>\n",
       "      <td>0</td>\n",
       "      <td>0</td>\n",
       "    </tr>\n",
       "    <tr>\n",
       "      <th>29997</th>\n",
       "      <td>0</td>\n",
       "      <td>0</td>\n",
       "      <td>1</td>\n",
       "      <td>0</td>\n",
       "      <td>0</td>\n",
       "      <td>0</td>\n",
       "    </tr>\n",
       "    <tr>\n",
       "      <th>29998</th>\n",
       "      <td>0</td>\n",
       "      <td>0</td>\n",
       "      <td>1</td>\n",
       "      <td>0</td>\n",
       "      <td>0</td>\n",
       "      <td>0</td>\n",
       "    </tr>\n",
       "    <tr>\n",
       "      <th>29999</th>\n",
       "      <td>0</td>\n",
       "      <td>0</td>\n",
       "      <td>1</td>\n",
       "      <td>0</td>\n",
       "      <td>0</td>\n",
       "      <td>0</td>\n",
       "    </tr>\n",
       "  </tbody>\n",
       "</table>\n",
       "<p>30000 rows × 6 columns</p>\n",
       "</div>"
      ],
      "text/plain": [
       "       category_가격  category_감촉  category_디자인  category_색상  category_용량  \\\n",
       "0                0            1             0            0            0   \n",
       "1                0            0             0            0            0   \n",
       "2                1            0             0            0            0   \n",
       "3                0            0             0            0            0   \n",
       "4                1            0             0            0            0   \n",
       "...            ...          ...           ...          ...          ...   \n",
       "29995            0            0             1            0            0   \n",
       "29996            0            0             1            0            0   \n",
       "29997            0            0             1            0            0   \n",
       "29998            0            0             1            0            0   \n",
       "29999            0            0             1            0            0   \n",
       "\n",
       "       category_향기  \n",
       "0                0  \n",
       "1                1  \n",
       "2                0  \n",
       "3                1  \n",
       "4                0  \n",
       "...            ...  \n",
       "29995            0  \n",
       "29996            0  \n",
       "29997            0  \n",
       "29998            0  \n",
       "29999            0  \n",
       "\n",
       "[30000 rows x 6 columns]"
      ]
     },
     "execution_count": 12,
     "metadata": {},
     "output_type": "execute_result"
    }
   ],
   "source": [
    "beauty_target_df = pd.get_dummies(beauty_target_df)\n",
    "beauty_target_df"
   ]
  },
  {
   "cell_type": "code",
   "execution_count": 13,
   "metadata": {},
   "outputs": [
    {
     "name": "stdout",
     "output_type": "stream",
     "text": [
      "(30000, 1)\n",
      "(30000, 6)\n"
     ]
    }
   ],
   "source": [
    "X = pd.DataFrame(beauty_data)\n",
    "y = beauty_target_df\n",
    "\n",
    "print(X.shape)\n",
    "print(y.shape)"
   ]
  },
  {
   "cell_type": "code",
   "execution_count": null,
   "metadata": {},
   "outputs": [],
   "source": []
  },
  {
   "cell_type": "code",
   "execution_count": null,
   "metadata": {},
   "outputs": [],
   "source": []
  },
  {
   "cell_type": "code",
   "execution_count": null,
   "metadata": {},
   "outputs": [],
   "source": []
  },
  {
   "cell_type": "code",
   "execution_count": 14,
   "metadata": {},
   "outputs": [],
   "source": [
    "from sklearn.model_selection import train_test_split\n",
    "\n",
    "X_train, X_test, y_train, y_test = train_test_split(X, y, test_size=0.2, stratify=y, random_state=0)"
   ]
  },
  {
   "cell_type": "code",
   "execution_count": 15,
   "metadata": {},
   "outputs": [
    {
     "data": {
      "text/html": [
       "<div>\n",
       "<style scoped>\n",
       "    .dataframe tbody tr th:only-of-type {\n",
       "        vertical-align: middle;\n",
       "    }\n",
       "\n",
       "    .dataframe tbody tr th {\n",
       "        vertical-align: top;\n",
       "    }\n",
       "\n",
       "    .dataframe thead th {\n",
       "        text-align: right;\n",
       "    }\n",
       "</style>\n",
       "<table border=\"1\" class=\"dataframe\">\n",
       "  <thead>\n",
       "    <tr style=\"text-align: right;\">\n",
       "      <th></th>\n",
       "      <th>contents</th>\n",
       "    </tr>\n",
       "  </thead>\n",
       "  <tbody>\n",
       "    <tr>\n",
       "      <th>942</th>\n",
       "      <td>선물로 샀습? 향기가 진합니다 . 선물로 샀습니다. 맘에 들어하구요~</td>\n",
       "    </tr>\n",
       "    <tr>\n",
       "      <th>6567</th>\n",
       "      <td>색을 잘못선택해서 너무 밝아요 ㅠ 첨엔 양이 한꺼번에 묻어나와서 너무 아까운 그리고...</td>\n",
       "    </tr>\n",
       "    <tr>\n",
       "      <th>18247</th>\n",
       "      <td>건조한 입술땜에 이거만 씁니다.퓨어핑크만 쓰다  팝핑크주문해보니 좀더 진해서인지  ...</td>\n",
       "    </tr>\n",
       "    <tr>\n",
       "      <th>11515</th>\n",
       "      <td>촉촉하니 좋네요 .아이크림 쓰고 좋아 엠플도 구매했는데 촉촉하고 좋아요 ~ 대용량이...</td>\n",
       "    </tr>\n",
       "    <tr>\n",
       "      <th>17073</th>\n",
       "      <td>저렴하게 잘 샀어요 .뻑뻑함..</td>\n",
       "    </tr>\n",
       "    <tr>\n",
       "      <th>...</th>\n",
       "      <td>...</td>\n",
       "    </tr>\n",
       "    <tr>\n",
       "      <th>13665</th>\n",
       "      <td>색상 너무 쨍하고 이뻐요 ~~ 초콜릿 냄새나고 너무 맘에드내요 싼가격에 구매해서 좋...</td>\n",
       "    </tr>\n",
       "    <tr>\n",
       "      <th>27238</th>\n",
       "      <td>두개를 사다보니 같은제품리뷰를 두개나 쓰게 되네요ㅋㅋㅋ 이제품은  기능도 괜찮고  ...</td>\n",
       "    </tr>\n",
       "    <tr>\n",
       "      <th>17945</th>\n",
       "      <td>오늘 도... 마침 쓰던화장품 다써서 아이꺼 바르고있었는데 오늘 도착해 바로 써봤어...</td>\n",
       "    </tr>\n",
       "    <tr>\n",
       "      <th>1180</th>\n",
       "      <td>배송완전빠르고  저렴한가격에 만족스럽네요   커버력은없으니   커버력 원하시믄 다른...</td>\n",
       "    </tr>\n",
       "    <tr>\n",
       "      <th>12672</th>\n",
       "      <td>케이스도 예쁘고   촉촉한 느낌도 좋습니다 ~ 가격도 여기저기서 확인해 봤는데 저렴...</td>\n",
       "    </tr>\n",
       "  </tbody>\n",
       "</table>\n",
       "<p>24000 rows × 1 columns</p>\n",
       "</div>"
      ],
      "text/plain": [
       "                                                contents\n",
       "942               선물로 샀습? 향기가 진합니다 . 선물로 샀습니다. 맘에 들어하구요~\n",
       "6567   색을 잘못선택해서 너무 밝아요 ㅠ 첨엔 양이 한꺼번에 묻어나와서 너무 아까운 그리고...\n",
       "18247  건조한 입술땜에 이거만 씁니다.퓨어핑크만 쓰다  팝핑크주문해보니 좀더 진해서인지  ...\n",
       "11515  촉촉하니 좋네요 .아이크림 쓰고 좋아 엠플도 구매했는데 촉촉하고 좋아요 ~ 대용량이...\n",
       "17073                                  저렴하게 잘 샀어요 .뻑뻑함..\n",
       "...                                                  ...\n",
       "13665  색상 너무 쨍하고 이뻐요 ~~ 초콜릿 냄새나고 너무 맘에드내요 싼가격에 구매해서 좋...\n",
       "27238  두개를 사다보니 같은제품리뷰를 두개나 쓰게 되네요ㅋㅋㅋ 이제품은  기능도 괜찮고  ...\n",
       "17945  오늘 도... 마침 쓰던화장품 다써서 아이꺼 바르고있었는데 오늘 도착해 바로 써봤어...\n",
       "1180   배송완전빠르고  저렴한가격에 만족스럽네요   커버력은없으니   커버력 원하시믄 다른...\n",
       "12672  케이스도 예쁘고   촉촉한 느낌도 좋습니다 ~ 가격도 여기저기서 확인해 봤는데 저렴...\n",
       "\n",
       "[24000 rows x 1 columns]"
      ]
     },
     "execution_count": 15,
     "metadata": {},
     "output_type": "execute_result"
    }
   ],
   "source": [
    "X_train"
   ]
  },
  {
   "cell_type": "code",
   "execution_count": null,
   "metadata": {},
   "outputs": [
    {
     "name": "stdout",
     "output_type": "stream",
     "text": [
      "24000\n"
     ]
    }
   ],
   "source": [
    "# contents\n",
    "# -> 형용사, 고유명사, 일반명사, 동사\n",
    "\n",
    "columns = ['morpheme_AJMA', 'morpheme_NNIN1', 'morpheme_NNIN2', 'morpheme_VBMA']\n",
    "df = pd.DataFrame(columns=columns)\n",
    "\n",
    "\n",
    "print(len(X_train['contents']))\n",
    "i = 0\n",
    "for text in X_train['contents']:\n",
    "    \n",
    "    AJMA = kc.get_morphemes(body=text, filter_option=['AJMA'])\n",
    "    NNIN1 = kc.get_morphemes(body=text, filter_option=['NNIN1'])\n",
    "    NNIN2 = kc.get_morphemes(body=text, filter_option=['NNIN2'])\n",
    "    VBMA = kc.get_morphemes(body=text, filter_option=['VBMA'])\n",
    "    \n",
    "    AJMA_list = []\n",
    "    NNIN1_list = []\n",
    "    NNIN2_list = []\n",
    "    VBMA_list = []\n",
    "    \n",
    "    for a, n1 in zip(AJMA, NNIN1):\n",
    "        AJMA_list.append(a)\n",
    "        NNIN1_list.append(n1)\n",
    "        \n",
    "    for n2, v in zip(NNIN2, VBMA):\n",
    "        NNIN2_list.append(n2)\n",
    "        VBMA_list.append(v)\n",
    "\n",
    "    AJMA_list_dup = list(set(AJMA_list))\n",
    "    NNIN1_list_dup = list(set(NNIN1_list))\n",
    "    NNIN2_list_dup = list(set(NNIN2_list))\n",
    "    VBMA_list_dup = list(set(VBMA_list))\n",
    "    \n",
    "    \n",
    "    \n",
    "    df.loc[i] = [AJMA_list_dup, NNIN1_list_dup, NNIN2_list_dup, VBMA_list_dup]\n",
    "\n",
    "    i += 1\n",
    "    \n",
    "#     print(morpheme_AJMA)\n",
    "    \n",
    "#     morpheme_AJMA.append(AJMA)\n",
    "#     morpheme_NNDE1.append(NNDE1)\n",
    "#     morpheme_NNDE2.append(NNDE2)\n",
    "#     morpheme_NNIN1.append(NNIN1)\n",
    "#     morpheme_NNIN2.append(NNIN2)\n",
    "#     morpheme_VBMA.append(VBMA)\n",
    "#     morpheme_FW.append(FW)"
   ]
  },
  {
   "cell_type": "code",
   "execution_count": null,
   "metadata": {},
   "outputs": [],
   "source": [
    "df"
   ]
  },
  {
   "cell_type": "code",
   "execution_count": null,
   "metadata": {},
   "outputs": [],
   "source": [
    "X_train = "
   ]
  }
 ],
 "metadata": {
  "kernelspec": {
   "display_name": "Python 3",
   "language": "python",
   "name": "python3"
  },
  "language_info": {
   "codemirror_mode": {
    "name": "ipython",
    "version": 3
   },
   "file_extension": ".py",
   "mimetype": "text/x-python",
   "name": "python",
   "nbconvert_exporter": "python",
   "pygments_lexer": "ipython3",
   "version": "3.7.5"
  }
 },
 "nbformat": 4,
 "nbformat_minor": 2
}

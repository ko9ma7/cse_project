{
 "cells": [
  {
   "cell_type": "code",
   "execution_count": 235,
   "metadata": {},
   "outputs": [],
   "source": [
    "import torch\n",
    "import torch.nn as nn\n",
    "import torchvision.transforms as transforms\n",
    "import random\n",
    "import pandas as pd\n",
    "\n",
    "train = pd.read_csv(\"train.csv\")\n",
    "test = pd.read_csv(\"test.csv\")\n",
    "\n",
    "# 결측치가 있는지 확인하기(우선은 제거하는 방식)\n",
    "if pd.isnull(train['x']).sum() > 0 or pd.isnull(train['y']).sum() > 0:\n",
    "    train = train.dropna()\n",
    "if pd.isnull(test['x']).sum() > 0 or pd.isnull(test['y']).sum() > 0:\n",
    "    test = test.dropna()\n",
    "\n",
    "train_dataset = train.sample(frac=1).reset_index(drop=True)\n",
    "test_dataset = test.sample(frac=1).reset_index(drop=True)"
   ]
  },
  {
   "cell_type": "code",
   "execution_count": 236,
   "metadata": {},
   "outputs": [],
   "source": [
    "train_corpus = []\n",
    "for words in train['x']:\n",
    "    sentence = \"\"\n",
    "    for word in words.split(\",\"):\n",
    "        sentence += word + \" \"\n",
    "    sentence = sentence[:len(sentence)-1]\n",
    "\n",
    "    train_corpus.append(sentence)\n",
    "    \n",
    "test_corpus = []\n",
    "for words in test['x']:\n",
    "    sentence = \"\"\n",
    "    for word in words.split(\",\"):\n",
    "        sentence += word + \" \"\n",
    "    sentence = sentence[:len(sentence)-1]\n",
    "\n",
    "    test_corpus.append(sentence)"
   ]
  },
  {
   "cell_type": "code",
   "execution_count": 237,
   "metadata": {},
   "outputs": [],
   "source": [
    "from sklearn.feature_extraction.text import CountVectorizer\n",
    "vectorizer = CountVectorizer(min_df=1)\n",
    "\n",
    "\n",
    "train_vectors = vectorizer.fit_transform(train_corpus)\n",
    "# 테스트 데이터는 훈련 데이터로 맞춰놓은 벡터 변환기를 사용해야 함\n",
    "test_vectors = vectorizer.transform(test_corpus)\n",
    "\n",
    "\n",
    "X_train_df = pd.DataFrame(train_vectors.toarray(), columns=vectorizer.get_feature_names())\n",
    "X_test_df = pd.DataFrame(test_vectors.toarray(), columns=vectorizer.get_feature_names())\n",
    "y_train_df = pd.DataFrame(train['y'].values, columns=['target'])\n",
    "y_test_df = pd.DataFrame(test['y'].values, columns=['target'])\n",
    "\n",
    "\n",
    "target_names = list(set(train['y']))\n",
    "target_mapping_table = {}\n",
    "for idx, names in enumerate(target_names):\n",
    "    target_mapping_table[names] = idx\n",
    "\n",
    "    \n",
    "y_train_df['target'] = y_train_df['target'].map(target_mapping_table)\n",
    "y_test_df['target'] = y_test_df['target'].map(target_mapping_table)\n",
    "\n",
    "\n",
    "train_df = pd.concat([X_train_df, y_train_df], axis=1)\n",
    "test_df = pd.concat([X_test_df, y_test_df], axis=1)"
   ]
  },
  {
   "cell_type": "code",
   "execution_count": 238,
   "metadata": {},
   "outputs": [],
   "source": [
    "x_train = train_vectors.toarray()\n",
    "x_test = test_vectors.toarray()\n",
    "train_labels = y_train_df['target'].values\n",
    "test_labels = y_test_df['target'].values"
   ]
  },
  {
   "cell_type": "code",
   "execution_count": 239,
   "metadata": {},
   "outputs": [],
   "source": [
    "def to_one_hot(labels, dimension=6):\n",
    "    results = np.zeros((len(labels), dimension))\n",
    "    for i, label in enumerate(labels):\n",
    "        results[i, label] = 1.\n",
    "    return results\n",
    "\n",
    "one_hot_train_labels = to_one_hot(train_labels)\n",
    "one_hot_test_labels = to_one_hot(test_labels)"
   ]
  },
  {
   "cell_type": "code",
   "execution_count": 240,
   "metadata": {},
   "outputs": [
    {
     "name": "stdout",
     "output_type": "stream",
     "text": [
      "(23384, 13229)\n",
      "(23384, 6)\n",
      "(5849, 13229)\n",
      "(5849, 6)\n"
     ]
    }
   ],
   "source": [
    "print(x_train.shape)\n",
    "print(one_hot_train_labels.shape)\n",
    "\n",
    "print(x_test.shape)\n",
    "print(one_hot_test_labels.shape)"
   ]
  },
  {
   "cell_type": "code",
   "execution_count": 241,
   "metadata": {},
   "outputs": [
    {
     "data": {
      "text/plain": [
       "13229"
      ]
     },
     "execution_count": 241,
     "metadata": {},
     "output_type": "execute_result"
    }
   ],
   "source": [
    "len(x_train[0])"
   ]
  },
  {
   "cell_type": "code",
   "execution_count": 242,
   "metadata": {},
   "outputs": [],
   "source": [
    "from tensorflow.keras.models import Sequential\n",
    "from tensorflow.keras.layers import Dense\n",
    "\n",
    "model = Sequential()\n",
    "model.add(Dense(32, activation='relu', input_shape=(13229, )))\n",
    "model.add(Dense(32, activation='relu'))\n",
    "model.add(Dense(6, activation='softmax'))"
   ]
  },
  {
   "cell_type": "code",
   "execution_count": 247,
   "metadata": {},
   "outputs": [],
   "source": [
    "model.compile(optimizer='rmsprop', \n",
    "              loss='sparse_categorical_crossentropy', \n",
    "              metrics=['accuracy'])"
   ]
  },
  {
   "cell_type": "code",
   "execution_count": 248,
   "metadata": {},
   "outputs": [],
   "source": [
    "x_val = x_train[:1000]\n",
    "partial_x_train = x_train[1000:]\n",
    "\n",
    "y_val = one_hot_train_labels[:1000]\n",
    "partial_y_train = one_hot_train_labels[1000:]"
   ]
  },
  {
   "cell_type": "code",
   "execution_count": 249,
   "metadata": {},
   "outputs": [
    {
     "name": "stdout",
     "output_type": "stream",
     "text": [
      "(1000, 13229)\n",
      "(22384, 13229)\n",
      "(1000, 6)\n",
      "(22384, 6)\n"
     ]
    }
   ],
   "source": [
    "print(x_val.shape)\n",
    "print(partial_x_train.shape)\n",
    "print(y_val.shape)\n",
    "print(partial_y_train.shape)"
   ]
  },
  {
   "cell_type": "code",
   "execution_count": 250,
   "metadata": {},
   "outputs": [
    {
     "name": "stdout",
     "output_type": "stream",
     "text": [
      "Train on 23384 samples\n",
      "Epoch 1/20\n",
      "23384/23384 [==============================] - 4s 156us/sample - loss: 1.1930 - accuracy: 0.6058\n",
      "Epoch 2/20\n",
      "23384/23384 [==============================] - 3s 144us/sample - loss: 0.9356 - accuracy: 0.6768\n",
      "Epoch 3/20\n",
      "23384/23384 [==============================] - 3s 136us/sample - loss: 0.8773 - accuracy: 0.7007\n",
      "Epoch 4/20\n",
      "23384/23384 [==============================] - 3s 141us/sample - loss: 0.8328 - accuracy: 0.7164\n",
      "Epoch 5/20\n",
      "23384/23384 [==============================] - 3s 137us/sample - loss: 0.7950 - accuracy: 0.7300\n",
      "Epoch 6/20\n",
      "23384/23384 [==============================] - 3s 137us/sample - loss: 0.7646 - accuracy: 0.7425\n",
      "Epoch 7/20\n",
      "23384/23384 [==============================] - 3s 136us/sample - loss: 0.7371 - accuracy: 0.7522\n",
      "Epoch 8/20\n",
      "23384/23384 [==============================] - 3s 137us/sample - loss: 0.7135 - accuracy: 0.7600\n",
      "Epoch 9/20\n",
      "23384/23384 [==============================] - 3s 137us/sample - loss: 0.6899 - accuracy: 0.7675\n",
      "Epoch 10/20\n",
      "23384/23384 [==============================] - 3s 136us/sample - loss: 0.6694 - accuracy: 0.7763\n",
      "Epoch 11/20\n",
      "23384/23384 [==============================] - 3s 138us/sample - loss: 0.6502 - accuracy: 0.7817\n",
      "Epoch 12/20\n",
      "23384/23384 [==============================] - 3s 140us/sample - loss: 0.6305 - accuracy: 0.7879\n",
      "Epoch 13/20\n",
      "23384/23384 [==============================] - 3s 139us/sample - loss: 0.6145 - accuracy: 0.7912\n",
      "Epoch 14/20\n",
      "23384/23384 [==============================] - 3s 138us/sample - loss: 0.5980 - accuracy: 0.7973\n",
      "Epoch 15/20\n",
      "23384/23384 [==============================] - 3s 141us/sample - loss: 0.5828 - accuracy: 0.8002\n",
      "Epoch 16/20\n",
      "23384/23384 [==============================] - 3s 134us/sample - loss: 0.5690 - accuracy: 0.8053\n",
      "Epoch 17/20\n",
      "23384/23384 [==============================] - 3s 140us/sample - loss: 0.5547 - accuracy: 0.8108\n",
      "Epoch 18/20\n",
      "23384/23384 [==============================] - 3s 139us/sample - loss: 0.5429 - accuracy: 0.8149\n",
      "Epoch 19/20\n",
      "23384/23384 [==============================] - 3s 136us/sample - loss: 0.5303 - accuracy: 0.8204\n",
      "Epoch 20/20\n",
      "23384/23384 [==============================] - 3s 133us/sample - loss: 0.5203 - accuracy: 0.8236\n"
     ]
    }
   ],
   "source": [
    "history = model.fit(x_train,\n",
    "                    y_train, \n",
    "                    epochs=20)"
   ]
  },
  {
   "cell_type": "code",
   "execution_count": 145,
   "metadata": {},
   "outputs": [
    {
     "data": {
      "image/png": "[encoded data removed]",
      "text/plain": [
       "<matplotlib.figure.Figure at 0x7fcddf3b9518>"
      ]
     },
     "metadata": {
      "needs_background": "light"
     },
     "output_type": "display_data"
    }
   ],
   "source": [
    "import matplotlib.pyplot as plt\n",
    "\n",
    "loss = history.history['loss']\n",
    "val_loss = history.history['val_loss']\n",
    "\n",
    "epochs = range(1, len(loss) + 1)\n",
    "\n",
    "plt.plot(epochs, loss, 'bo', label='Training loss')\n",
    "plt.plot(epochs, val_loss, 'b', label='Validation loss')\n",
    "plt.title('Training and validation loss')\n",
    "plt.xlabel('Epochs')\n",
    "plt.ylabel('Loss')\n",
    "plt.legend()\n",
    "\n",
    "plt.show()"
   ]
  },
  {
   "cell_type": "code",
   "execution_count": 150,
   "metadata": {},
   "outputs": [
    {
     "data": {
      "image/png": "[encoded data removed]",
      "text/plain": [
       "<matplotlib.figure.Figure at 0x7fcddf3f9c50>"
      ]
     },
     "metadata": {
      "needs_background": "light"
     },
     "output_type": "display_data"
    }
   ],
   "source": [
    "plt.clf()\n",
    "\n",
    "acc = history.history['accuracy']\n",
    "val_acc = history.history['val_accuracy']\n",
    "\n",
    "plt.plot(epochs, acc, 'bo', label='Training Acc')\n",
    "plt.plot(epochs, val_acc, 'b', label='Validation Acc')\n",
    "plt.title('Training and Validation Accuracy')\n",
    "plt.xlabel('Epochs')\n",
    "plt.ylabel('Accuracy')\n",
    "plt.legend()\n",
    "plt.show()"
   ]
  },
  {
   "cell_type": "code",
   "execution_count": 227,
   "metadata": {},
   "outputs": [],
   "source": [
    "params = {\n",
    "    'input_layer': [512],\n",
    "    'hidden_layer': [512],\n",
    "    'input_layer_activation': ['relu'],\n",
    "    'hidden_layer_activation': ['relu'], \n",
    "    'output_layer_activation': ['softmax'],\n",
    "    'optimizer': ['rmsprop'], \n",
    "    'epochs': [40], \n",
    "    'batch_size': [1000],\n",
    "}"
   ]
  },
  {
   "cell_type": "code",
   "execution_count": 229,
   "metadata": {},
   "outputs": [
    {
     "name": "stdout",
     "output_type": "stream",
     "text": [
      "Train on 18707 samples, validate on 4677 samples\n",
      "Epoch 1/40\n",
      "18707/18707 [==============================] - 3s 138us/sample - loss: 1.3297 - accuracy: 0.5620 - val_loss: 1.0474 - val_accuracy: 0.6429\n",
      "Epoch 2/40\n",
      "18707/18707 [==============================] - 2s 97us/sample - loss: 0.8457 - accuracy: 0.7139 - val_loss: 0.9917 - val_accuracy: 0.6551\n",
      "Epoch 3/40\n",
      "18707/18707 [==============================] - 2s 94us/sample - loss: 0.6866 - accuracy: 0.7724 - val_loss: 1.0186 - val_accuracy: 0.6483\n",
      "Epoch 4/40\n",
      "18707/18707 [==============================] - 2s 97us/sample - loss: 0.5857 - accuracy: 0.8011 - val_loss: 1.0653 - val_accuracy: 0.6444\n",
      "Epoch 5/40\n",
      "18707/18707 [==============================] - 2s 108us/sample - loss: 0.5079 - accuracy: 0.8281 - val_loss: 1.1238 - val_accuracy: 0.6431\n",
      "Epoch 6/40\n",
      "18707/18707 [==============================] - 2s 108us/sample - loss: 0.4476 - accuracy: 0.8455 - val_loss: 1.1937 - val_accuracy: 0.6213\n",
      "Epoch 7/40\n",
      "18707/18707 [==============================] - 2s 96us/sample - loss: 0.4098 - accuracy: 0.8563 - val_loss: 1.2482 - val_accuracy: 0.6314\n",
      "Epoch 8/40\n",
      "18707/18707 [==============================] - 2s 103us/sample - loss: 0.3753 - accuracy: 0.8696 - val_loss: 1.3203 - val_accuracy: 0.6213\n",
      "Epoch 9/40\n",
      "18707/18707 [==============================] - 2s 108us/sample - loss: 0.3517 - accuracy: 0.8776 - val_loss: 1.4173 - val_accuracy: 0.6190\n",
      "Epoch 10/40\n",
      "18707/18707 [==============================] - 2s 94us/sample - loss: 0.3293 - accuracy: 0.8834 - val_loss: 1.4596 - val_accuracy: 0.6141\n",
      "Epoch 11/40\n",
      "18707/18707 [==============================] - 2s 100us/sample - loss: 0.3123 - accuracy: 0.8891 - val_loss: 1.5722 - val_accuracy: 0.6081\n",
      "Epoch 12/40\n",
      "18707/18707 [==============================] - 2s 101us/sample - loss: 0.2988 - accuracy: 0.8948 - val_loss: 1.6240 - val_accuracy: 0.6139\n",
      "Epoch 13/40\n",
      "18707/18707 [==============================] - 2s 94us/sample - loss: 0.2803 - accuracy: 0.9007 - val_loss: 1.7100 - val_accuracy: 0.6059\n",
      "Epoch 14/40\n",
      "18707/18707 [==============================] - 2s 98us/sample - loss: 0.2775 - accuracy: 0.8997 - val_loss: 1.7725 - val_accuracy: 0.6027\n",
      "Epoch 15/40\n",
      "18707/18707 [==============================] - 2s 99us/sample - loss: 0.2631 - accuracy: 0.9065 - val_loss: 1.8506 - val_accuracy: 0.6064\n",
      "Epoch 16/40\n",
      "18707/18707 [==============================] - 2s 96us/sample - loss: 0.2499 - accuracy: 0.9118 - val_loss: 1.9297 - val_accuracy: 0.6083\n",
      "Epoch 17/40\n",
      "18707/18707 [==============================] - 2s 91us/sample - loss: 0.2489 - accuracy: 0.9094 - val_loss: 2.0250 - val_accuracy: 0.6017\n",
      "Epoch 18/40\n",
      "18707/18707 [==============================] - 2s 100us/sample - loss: 0.2408 - accuracy: 0.9112 - val_loss: 2.0616 - val_accuracy: 0.5991\n",
      "Epoch 19/40\n",
      "18707/18707 [==============================] - 2s 101us/sample - loss: 0.2328 - accuracy: 0.9156 - val_loss: 2.1357 - val_accuracy: 0.5989\n",
      "Epoch 20/40\n",
      "18707/18707 [==============================] - 2s 101us/sample - loss: 0.2294 - accuracy: 0.9160 - val_loss: 2.2122 - val_accuracy: 0.6066\n",
      "Epoch 21/40\n",
      "18707/18707 [==============================] - 2s 110us/sample - loss: 0.2201 - accuracy: 0.9199 - val_loss: 2.2506 - val_accuracy: 0.5970\n",
      "Epoch 22/40\n",
      "18707/18707 [==============================] - 2s 105us/sample - loss: 0.2192 - accuracy: 0.9189 - val_loss: 2.3127 - val_accuracy: 0.5995\n",
      "Epoch 23/40\n",
      "18707/18707 [==============================] - 2s 101us/sample - loss: 0.2122 - accuracy: 0.9206 - val_loss: 2.3728 - val_accuracy: 0.5923\n",
      "Epoch 24/40\n",
      "18707/18707 [==============================] - 2s 102us/sample - loss: 0.2112 - accuracy: 0.9208 - val_loss: 2.4885 - val_accuracy: 0.5831\n",
      "Epoch 25/40\n",
      "18707/18707 [==============================] - 2s 99us/sample - loss: 0.2119 - accuracy: 0.9194 - val_loss: 2.4558 - val_accuracy: 0.5957\n",
      "Epoch 26/40\n",
      "18707/18707 [==============================] - 2s 98us/sample - loss: 0.2049 - accuracy: 0.9238 - val_loss: 2.4755 - val_accuracy: 0.6055\n",
      "Epoch 27/40\n",
      "18707/18707 [==============================] - 2s 98us/sample - loss: 0.2028 - accuracy: 0.9245 - val_loss: 2.5319 - val_accuracy: 0.5948\n",
      "Epoch 28/40\n",
      "18707/18707 [==============================] - 2s 101us/sample - loss: 0.1997 - accuracy: 0.9237 - val_loss: 2.5731 - val_accuracy: 0.6051\n",
      "Epoch 29/40\n",
      "18707/18707 [==============================] - 2s 99us/sample - loss: 0.1993 - accuracy: 0.9242 - val_loss: 2.6212 - val_accuracy: 0.6012\n",
      "Epoch 30/40\n",
      "18707/18707 [==============================] - 2s 97us/sample - loss: 0.1984 - accuracy: 0.9237 - val_loss: 2.6536 - val_accuracy: 0.5997\n",
      "Epoch 31/40\n",
      "18707/18707 [==============================] - 2s 104us/sample - loss: 0.1973 - accuracy: 0.9254 - val_loss: 2.6853 - val_accuracy: 0.6053\n",
      "Epoch 32/40\n",
      "18707/18707 [==============================] - 2s 98us/sample - loss: 0.1937 - accuracy: 0.9263 - val_loss: 2.7097 - val_accuracy: 0.5963\n",
      "Epoch 33/40\n",
      "18707/18707 [==============================] - 2s 98us/sample - loss: 0.1927 - accuracy: 0.9249 - val_loss: 2.7337 - val_accuracy: 0.6002\n",
      "Epoch 34/40\n",
      "18707/18707 [==============================] - 2s 99us/sample - loss: 0.1909 - accuracy: 0.9276 - val_loss: 2.7814 - val_accuracy: 0.6002\n",
      "Epoch 35/40\n",
      "18707/18707 [==============================] - 2s 94us/sample - loss: 0.1891 - accuracy: 0.9262 - val_loss: 2.8002 - val_accuracy: 0.5895\n",
      "Epoch 36/40\n",
      "18707/18707 [==============================] - 2s 100us/sample - loss: 0.1910 - accuracy: 0.9271 - val_loss: 2.8183 - val_accuracy: 0.6077\n",
      "Epoch 37/40\n",
      "18707/18707 [==============================] - 2s 103us/sample - loss: 0.1859 - accuracy: 0.9283 - val_loss: 2.8323 - val_accuracy: 0.6115\n",
      "Epoch 38/40\n",
      "18707/18707 [==============================] - 2s 97us/sample - loss: 0.1877 - accuracy: 0.9274 - val_loss: 2.8174 - val_accuracy: 0.6111\n",
      "Epoch 39/40\n",
      "18707/18707 [==============================] - 2s 93us/sample - loss: 0.1875 - accuracy: 0.9259 - val_loss: 2.8445 - val_accuracy: 0.6102\n",
      "Epoch 40/40\n",
      "18707/18707 [==============================] - 2s 96us/sample - loss: 0.1837 - accuracy: 0.9280 - val_loss: 2.8389 - val_accuracy: 0.6081\n"
     ]
    }
   ],
   "source": [
    "target_names = list(set(y_train))\n",
    "\n",
    "from tensorflow.keras.models import Sequential\n",
    "from tensorflow.keras.layers import Dense\n",
    "\n",
    "input_layer = int(params['input_layer'][0])\n",
    "hidden_layer = int(params['hidden_layer'][0])\n",
    "output_layer = len(target_names)\n",
    "\n",
    "input_layer_activation = params['input_layer_activation'][0]\n",
    "hidden_layer_activation = params['hidden_layer_activation'][0]\n",
    "output_layer_activation = params['output_layer_activation'][0]\n",
    "\n",
    "optimizer = params['optimizer'][0]\n",
    "epochs = int(params['epochs'][0])\n",
    "batch_size = int(params['batch_size'][0])\n",
    "\n",
    "fnn_clf = Sequential()\n",
    "fnn_clf.add(Dense(units=input_layer, activation=input_layer_activation, input_shape=(len(x_train[0]), )))\n",
    "fnn_clf.add(Dense(units=hidden_layer, activation=hidden_layer_activation))\n",
    "fnn_clf.add(Dense(units=output_layer, activation=output_layer_activation))\n",
    "\n",
    "fnn_clf.compile(optimizer=optimizer,\n",
    "                loss='sparse_categorical_crossentropy',\n",
    "                metrics=['accuracy'])\n",
    "\n",
    "fnn_clf.fit(x_train, y_train, epochs=epochs, batch_size=batch_size, validation_split=0.2)\n",
    "\n",
    "train_y_pred = fnn_clf.predict(x_train)\n",
    "test_y_pred = fnn_clf.predict(x_test)"
   ]
  },
  {
   "cell_type": "code",
   "execution_count": 230,
   "metadata": {},
   "outputs": [
    {
     "name": "stdout",
     "output_type": "stream",
     "text": [
      "Train on 18707 samples, validate on 4677 samples\n",
      "Epoch 1/40\n",
      "18707/18707 [==============================] - 3s 174us/sample - loss: 1.3240 - accuracy: 0.5639 - precision: 0.6021 - recall: 0.2630 - f1: 0.3393 - val_loss: 1.0374 - val_accuracy: 0.6436 - val_precision: 0.7781 - val_recall: 0.5725 - val_f1: 0.6593\n",
      "Epoch 2/40\n",
      " 1000/18707 [>.............................] - ETA: 1s"
     ]
    },
    {
     "ename": "KeyboardInterrupt",
     "evalue": "",
     "output_type": "error",
     "traceback": [
      "\u001b[0;31m---------------------------------------------------------------------------\u001b[0m",
      "\u001b[0;31mKeyboardInterrupt\u001b[0m                         Traceback (most recent call last)",
      "\u001b[0;32m<ipython-input-230-1ac9aebafd73>\u001b[0m in \u001b[0;36m<module>\u001b[0;34m()\u001b[0m\n\u001b[1;32m     12\u001b[0m                      \u001b[0mepochs\u001b[0m\u001b[0;34m=\u001b[0m\u001b[0;36m40\u001b[0m\u001b[0;34m,\u001b[0m\u001b[0;34m\u001b[0m\u001b[0m\n\u001b[1;32m     13\u001b[0m                      \u001b[0mbatch_size\u001b[0m\u001b[0;34m=\u001b[0m\u001b[0;36m1000\u001b[0m\u001b[0;34m,\u001b[0m\u001b[0;34m\u001b[0m\u001b[0m\n\u001b[0;32m---> 14\u001b[0;31m                      validation_split = 0.2)\n\u001b[0m\u001b[1;32m     15\u001b[0m \u001b[0;34m\u001b[0m\u001b[0m\n\u001b[1;32m     16\u001b[0m \u001b[0mresults\u001b[0m \u001b[0;34m=\u001b[0m \u001b[0mmodel\u001b[0m\u001b[0;34m.\u001b[0m\u001b[0mevaluate\u001b[0m\u001b[0;34m(\u001b[0m\u001b[0mx_test\u001b[0m\u001b[0;34m,\u001b[0m \u001b[0my_test\u001b[0m\u001b[0;34m)\u001b[0m\u001b[0;34m\u001b[0m\u001b[0m\n",
      "\u001b[0;32m~/.local/lib/python3.5/site-packages/tensorflow_core/python/keras/engine/training.py\u001b[0m in \u001b[0;36mfit\u001b[0;34m(self, x, y, batch_size, epochs, verbose, callbacks, validation_split, validation_data, shuffle, class_weight, sample_weight, initial_epoch, steps_per_epoch, validation_steps, validation_freq, max_queue_size, workers, use_multiprocessing, **kwargs)\u001b[0m\n\u001b[1;32m    817\u001b[0m         \u001b[0mmax_queue_size\u001b[0m\u001b[0;34m=\u001b[0m\u001b[0mmax_queue_size\u001b[0m\u001b[0;34m,\u001b[0m\u001b[0;34m\u001b[0m\u001b[0m\n\u001b[1;32m    818\u001b[0m         \u001b[0mworkers\u001b[0m\u001b[0;34m=\u001b[0m\u001b[0mworkers\u001b[0m\u001b[0;34m,\u001b[0m\u001b[0;34m\u001b[0m\u001b[0m\n\u001b[0;32m--> 819\u001b[0;31m         use_multiprocessing=use_multiprocessing)\n\u001b[0m\u001b[1;32m    820\u001b[0m \u001b[0;34m\u001b[0m\u001b[0m\n\u001b[1;32m    821\u001b[0m   def evaluate(self,\n",
      "\u001b[0;32m~/.local/lib/python3.5/site-packages/tensorflow_core/python/keras/engine/training_v2.py\u001b[0m in \u001b[0;36mfit\u001b[0;34m(self, model, x, y, batch_size, epochs, verbose, callbacks, validation_split, validation_data, shuffle, class_weight, sample_weight, initial_epoch, steps_per_epoch, validation_steps, validation_freq, max_queue_size, workers, use_multiprocessing, **kwargs)\u001b[0m\n\u001b[1;32m    340\u001b[0m                 \u001b[0mmode\u001b[0m\u001b[0;34m=\u001b[0m\u001b[0mModeKeys\u001b[0m\u001b[0;34m.\u001b[0m\u001b[0mTRAIN\u001b[0m\u001b[0;34m,\u001b[0m\u001b[0;34m\u001b[0m\u001b[0m\n\u001b[1;32m    341\u001b[0m                 \u001b[0mtraining_context\u001b[0m\u001b[0;34m=\u001b[0m\u001b[0mtraining_context\u001b[0m\u001b[0;34m,\u001b[0m\u001b[0;34m\u001b[0m\u001b[0m\n\u001b[0;32m--> 342\u001b[0;31m                 total_epochs=epochs)\n\u001b[0m\u001b[1;32m    343\u001b[0m             \u001b[0mcbks\u001b[0m\u001b[0;34m.\u001b[0m\u001b[0mmake_logs\u001b[0m\u001b[0;34m(\u001b[0m\u001b[0mmodel\u001b[0m\u001b[0;34m,\u001b[0m \u001b[0mepoch_logs\u001b[0m\u001b[0;34m,\u001b[0m \u001b[0mtraining_result\u001b[0m\u001b[0;34m,\u001b[0m \u001b[0mModeKeys\u001b[0m\u001b[0;34m.\u001b[0m\u001b[0mTRAIN\u001b[0m\u001b[0;34m)\u001b[0m\u001b[0;34m\u001b[0m\u001b[0m\n\u001b[1;32m    344\u001b[0m \u001b[0;34m\u001b[0m\u001b[0m\n",
      "\u001b[0;32m~/.local/lib/python3.5/site-packages/tensorflow_core/python/keras/engine/training_v2.py\u001b[0m in \u001b[0;36mrun_one_epoch\u001b[0;34m(model, iterator, execution_function, dataset_size, batch_size, strategy, steps_per_epoch, num_samples, mode, training_context, total_epochs)\u001b[0m\n\u001b[1;32m    126\u001b[0m         step=step, mode=mode, size=current_batch_size) as batch_logs:\n\u001b[1;32m    127\u001b[0m       \u001b[0;32mtry\u001b[0m\u001b[0;34m:\u001b[0m\u001b[0;34m\u001b[0m\u001b[0m\n\u001b[0;32m--> 128\u001b[0;31m         \u001b[0mbatch_outs\u001b[0m \u001b[0;34m=\u001b[0m \u001b[0mexecution_function\u001b[0m\u001b[0;34m(\u001b[0m\u001b[0miterator\u001b[0m\u001b[0;34m)\u001b[0m\u001b[0;34m\u001b[0m\u001b[0m\n\u001b[0m\u001b[1;32m    129\u001b[0m       \u001b[0;32mexcept\u001b[0m \u001b[0;34m(\u001b[0m\u001b[0mStopIteration\u001b[0m\u001b[0;34m,\u001b[0m \u001b[0merrors\u001b[0m\u001b[0;34m.\u001b[0m\u001b[0mOutOfRangeError\u001b[0m\u001b[0;34m)\u001b[0m\u001b[0;34m:\u001b[0m\u001b[0;34m\u001b[0m\u001b[0m\n\u001b[1;32m    130\u001b[0m         \u001b[0;31m# TODO(kaftan): File bug about tf function and errors.OutOfRangeError?\u001b[0m\u001b[0;34m\u001b[0m\u001b[0;34m\u001b[0m\u001b[0m\n",
      "\u001b[0;32m~/.local/lib/python3.5/site-packages/tensorflow_core/python/keras/engine/training_v2_utils.py\u001b[0m in \u001b[0;36mexecution_function\u001b[0;34m(input_fn)\u001b[0m\n\u001b[1;32m     96\u001b[0m     \u001b[0;31m# `numpy` translates Tensors to values in Eager mode.\u001b[0m\u001b[0;34m\u001b[0m\u001b[0;34m\u001b[0m\u001b[0m\n\u001b[1;32m     97\u001b[0m     return nest.map_structure(_non_none_constant_value,\n\u001b[0;32m---> 98\u001b[0;31m                               distributed_function(input_fn))\n\u001b[0m\u001b[1;32m     99\u001b[0m \u001b[0;34m\u001b[0m\u001b[0m\n\u001b[1;32m    100\u001b[0m   \u001b[0;32mreturn\u001b[0m \u001b[0mexecution_function\u001b[0m\u001b[0;34m\u001b[0m\u001b[0m\n",
      "\u001b[0;32m~/.local/lib/python3.5/site-packages/tensorflow_core/python/eager/def_function.py\u001b[0m in \u001b[0;36m__call__\u001b[0;34m(self, *args, **kwds)\u001b[0m\n\u001b[1;32m    566\u001b[0m         \u001b[0mxla_context\u001b[0m\u001b[0;34m.\u001b[0m\u001b[0mExit\u001b[0m\u001b[0;34m(\u001b[0m\u001b[0;34m)\u001b[0m\u001b[0;34m\u001b[0m\u001b[0m\n\u001b[1;32m    567\u001b[0m     \u001b[0;32melse\u001b[0m\u001b[0;34m:\u001b[0m\u001b[0;34m\u001b[0m\u001b[0m\n\u001b[0;32m--> 568\u001b[0;31m       \u001b[0mresult\u001b[0m \u001b[0;34m=\u001b[0m \u001b[0mself\u001b[0m\u001b[0;34m.\u001b[0m\u001b[0m_call\u001b[0m\u001b[0;34m(\u001b[0m\u001b[0;34m*\u001b[0m\u001b[0margs\u001b[0m\u001b[0;34m,\u001b[0m \u001b[0;34m**\u001b[0m\u001b[0mkwds\u001b[0m\u001b[0;34m)\u001b[0m\u001b[0;34m\u001b[0m\u001b[0m\n\u001b[0m\u001b[1;32m    569\u001b[0m \u001b[0;34m\u001b[0m\u001b[0m\n\u001b[1;32m    570\u001b[0m     \u001b[0;32mif\u001b[0m \u001b[0mtracing_count\u001b[0m \u001b[0;34m==\u001b[0m \u001b[0mself\u001b[0m\u001b[0;34m.\u001b[0m\u001b[0m_get_tracing_count\u001b[0m\u001b[0;34m(\u001b[0m\u001b[0;34m)\u001b[0m\u001b[0;34m:\u001b[0m\u001b[0;34m\u001b[0m\u001b[0m\n",
      "\u001b[0;32m~/.local/lib/python3.5/site-packages/tensorflow_core/python/eager/def_function.py\u001b[0m in \u001b[0;36m_call\u001b[0;34m(self, *args, **kwds)\u001b[0m\n\u001b[1;32m    597\u001b[0m       \u001b[0;31m# In this case we have created variables on the first call, so we run the\u001b[0m\u001b[0;34m\u001b[0m\u001b[0;34m\u001b[0m\u001b[0m\n\u001b[1;32m    598\u001b[0m       \u001b[0;31m# defunned version which is guaranteed to never create variables.\u001b[0m\u001b[0;34m\u001b[0m\u001b[0;34m\u001b[0m\u001b[0m\n\u001b[0;32m--> 599\u001b[0;31m       \u001b[0;32mreturn\u001b[0m \u001b[0mself\u001b[0m\u001b[0;34m.\u001b[0m\u001b[0m_stateless_fn\u001b[0m\u001b[0;34m(\u001b[0m\u001b[0;34m*\u001b[0m\u001b[0margs\u001b[0m\u001b[0;34m,\u001b[0m \u001b[0;34m**\u001b[0m\u001b[0mkwds\u001b[0m\u001b[0;34m)\u001b[0m  \u001b[0;31m# pylint: disable=not-callable\u001b[0m\u001b[0;34m\u001b[0m\u001b[0m\n\u001b[0m\u001b[1;32m    600\u001b[0m     \u001b[0;32melif\u001b[0m \u001b[0mself\u001b[0m\u001b[0;34m.\u001b[0m\u001b[0m_stateful_fn\u001b[0m \u001b[0;32mis\u001b[0m \u001b[0;32mnot\u001b[0m \u001b[0;32mNone\u001b[0m\u001b[0;34m:\u001b[0m\u001b[0;34m\u001b[0m\u001b[0m\n\u001b[1;32m    601\u001b[0m       \u001b[0;31m# Release the lock early so that multiple threads can perform the call\u001b[0m\u001b[0;34m\u001b[0m\u001b[0;34m\u001b[0m\u001b[0m\n",
      "\u001b[0;32m~/.local/lib/python3.5/site-packages/tensorflow_core/python/eager/function.py\u001b[0m in \u001b[0;36m__call__\u001b[0;34m(self, *args, **kwargs)\u001b[0m\n\u001b[1;32m   2361\u001b[0m     \u001b[0;32mwith\u001b[0m \u001b[0mself\u001b[0m\u001b[0;34m.\u001b[0m\u001b[0m_lock\u001b[0m\u001b[0;34m:\u001b[0m\u001b[0;34m\u001b[0m\u001b[0m\n\u001b[1;32m   2362\u001b[0m       \u001b[0mgraph_function\u001b[0m\u001b[0;34m,\u001b[0m \u001b[0margs\u001b[0m\u001b[0;34m,\u001b[0m \u001b[0mkwargs\u001b[0m \u001b[0;34m=\u001b[0m \u001b[0mself\u001b[0m\u001b[0;34m.\u001b[0m\u001b[0m_maybe_define_function\u001b[0m\u001b[0;34m(\u001b[0m\u001b[0margs\u001b[0m\u001b[0;34m,\u001b[0m \u001b[0mkwargs\u001b[0m\u001b[0;34m)\u001b[0m\u001b[0;34m\u001b[0m\u001b[0m\n\u001b[0;32m-> 2363\u001b[0;31m     \u001b[0;32mreturn\u001b[0m \u001b[0mgraph_function\u001b[0m\u001b[0;34m.\u001b[0m\u001b[0m_filtered_call\u001b[0m\u001b[0;34m(\u001b[0m\u001b[0margs\u001b[0m\u001b[0;34m,\u001b[0m \u001b[0mkwargs\u001b[0m\u001b[0;34m)\u001b[0m  \u001b[0;31m# pylint: disable=protected-access\u001b[0m\u001b[0;34m\u001b[0m\u001b[0m\n\u001b[0m\u001b[1;32m   2364\u001b[0m \u001b[0;34m\u001b[0m\u001b[0m\n\u001b[1;32m   2365\u001b[0m   \u001b[0;34m@\u001b[0m\u001b[0mproperty\u001b[0m\u001b[0;34m\u001b[0m\u001b[0m\n",
      "\u001b[0;32m~/.local/lib/python3.5/site-packages/tensorflow_core/python/eager/function.py\u001b[0m in \u001b[0;36m_filtered_call\u001b[0;34m(self, args, kwargs)\u001b[0m\n\u001b[1;32m   1609\u001b[0m          if isinstance(t, (ops.Tensor,\n\u001b[1;32m   1610\u001b[0m                            resource_variable_ops.BaseResourceVariable))),\n\u001b[0;32m-> 1611\u001b[0;31m         self.captured_inputs)\n\u001b[0m\u001b[1;32m   1612\u001b[0m \u001b[0;34m\u001b[0m\u001b[0m\n\u001b[1;32m   1613\u001b[0m   \u001b[0;32mdef\u001b[0m \u001b[0m_call_flat\u001b[0m\u001b[0;34m(\u001b[0m\u001b[0mself\u001b[0m\u001b[0;34m,\u001b[0m \u001b[0margs\u001b[0m\u001b[0;34m,\u001b[0m \u001b[0mcaptured_inputs\u001b[0m\u001b[0;34m,\u001b[0m \u001b[0mcancellation_manager\u001b[0m\u001b[0;34m=\u001b[0m\u001b[0;32mNone\u001b[0m\u001b[0;34m)\u001b[0m\u001b[0;34m:\u001b[0m\u001b[0;34m\u001b[0m\u001b[0m\n",
      "\u001b[0;32m~/.local/lib/python3.5/site-packages/tensorflow_core/python/eager/function.py\u001b[0m in \u001b[0;36m_call_flat\u001b[0;34m(self, args, captured_inputs, cancellation_manager)\u001b[0m\n\u001b[1;32m   1690\u001b[0m       \u001b[0;31m# No tape is watching; skip to running the function.\u001b[0m\u001b[0;34m\u001b[0m\u001b[0;34m\u001b[0m\u001b[0m\n\u001b[1;32m   1691\u001b[0m       return self._build_call_outputs(self._inference_function.call(\n\u001b[0;32m-> 1692\u001b[0;31m           ctx, args, cancellation_manager=cancellation_manager))\n\u001b[0m\u001b[1;32m   1693\u001b[0m     forward_backward = self._select_forward_and_backward_functions(\n\u001b[1;32m   1694\u001b[0m         \u001b[0margs\u001b[0m\u001b[0;34m,\u001b[0m\u001b[0;34m\u001b[0m\u001b[0m\n",
      "\u001b[0;32m~/.local/lib/python3.5/site-packages/tensorflow_core/python/eager/function.py\u001b[0m in \u001b[0;36mcall\u001b[0;34m(self, ctx, args, cancellation_manager)\u001b[0m\n\u001b[1;32m    543\u001b[0m               \u001b[0minputs\u001b[0m\u001b[0;34m=\u001b[0m\u001b[0margs\u001b[0m\u001b[0;34m,\u001b[0m\u001b[0;34m\u001b[0m\u001b[0m\n\u001b[1;32m    544\u001b[0m               \u001b[0mattrs\u001b[0m\u001b[0;34m=\u001b[0m\u001b[0;34m(\u001b[0m\u001b[0;34m\"executor_type\"\u001b[0m\u001b[0;34m,\u001b[0m \u001b[0mexecutor_type\u001b[0m\u001b[0;34m,\u001b[0m \u001b[0;34m\"config_proto\"\u001b[0m\u001b[0;34m,\u001b[0m \u001b[0mconfig\u001b[0m\u001b[0;34m)\u001b[0m\u001b[0;34m,\u001b[0m\u001b[0;34m\u001b[0m\u001b[0m\n\u001b[0;32m--> 545\u001b[0;31m               ctx=ctx)\n\u001b[0m\u001b[1;32m    546\u001b[0m         \u001b[0;32melse\u001b[0m\u001b[0;34m:\u001b[0m\u001b[0;34m\u001b[0m\u001b[0m\n\u001b[1;32m    547\u001b[0m           outputs = execute.execute_with_cancellation(\n",
      "\u001b[0;32m~/.local/lib/python3.5/site-packages/tensorflow_core/python/eager/execute.py\u001b[0m in \u001b[0;36mquick_execute\u001b[0;34m(op_name, num_outputs, inputs, attrs, ctx, name)\u001b[0m\n\u001b[1;32m     59\u001b[0m     tensors = pywrap_tensorflow.TFE_Py_Execute(ctx._handle, device_name,\n\u001b[1;32m     60\u001b[0m                                                \u001b[0mop_name\u001b[0m\u001b[0;34m,\u001b[0m \u001b[0minputs\u001b[0m\u001b[0;34m,\u001b[0m \u001b[0mattrs\u001b[0m\u001b[0;34m,\u001b[0m\u001b[0;34m\u001b[0m\u001b[0m\n\u001b[0;32m---> 61\u001b[0;31m                                                num_outputs)\n\u001b[0m\u001b[1;32m     62\u001b[0m   \u001b[0;32mexcept\u001b[0m \u001b[0mcore\u001b[0m\u001b[0;34m.\u001b[0m\u001b[0m_NotOkStatusException\u001b[0m \u001b[0;32mas\u001b[0m \u001b[0me\u001b[0m\u001b[0;34m:\u001b[0m\u001b[0;34m\u001b[0m\u001b[0m\n\u001b[1;32m     63\u001b[0m     \u001b[0;32mif\u001b[0m \u001b[0mname\u001b[0m \u001b[0;32mis\u001b[0m \u001b[0;32mnot\u001b[0m \u001b[0;32mNone\u001b[0m\u001b[0;34m:\u001b[0m\u001b[0;34m\u001b[0m\u001b[0m\n",
      "\u001b[0;31mKeyboardInterrupt\u001b[0m: "
     ]
    }
   ],
   "source": [
    "model = Sequential()\n",
    "model.add(Dense(512, activation='relu', input_shape=(13229, )))\n",
    "model.add(Dense(512, activation='relu'))\n",
    "model.add(Dense(6, activation='softmax'))\n",
    "\n",
    "model.compile(optimizer='rmsprop',\n",
    "              loss='sparse_categorical_crossentropy',\n",
    "              metrics=['accuracy', precision, recall, f1])\n",
    "\n",
    "history2 = model.fit(x_train, \n",
    "                     y_train, \n",
    "                     epochs=40,\n",
    "                     batch_size=1000,\n",
    "                     validation_split = 0.2)\n",
    "\n",
    "results = model.evaluate(x_test, y_test)"
   ]
  },
  {
   "cell_type": "code",
   "execution_count": 231,
   "metadata": {},
   "outputs": [
    {
     "data": {
      "text/plain": [
       "[2.9953789576483008, 0.59087026, 0.8267753, 0.9112438, 0.86510086]"
      ]
     },
     "execution_count": 231,
     "metadata": {},
     "output_type": "execute_result"
    }
   ],
   "source": [
    "results"
   ]
  },
  {
   "cell_type": "code",
   "execution_count": 218,
   "metadata": {},
   "outputs": [
    {
     "data": {
      "image/png": "[encoded data removed]",
      "text/plain": [
       "<matplotlib.figure.Figure at 0x7fcf54387780>"
      ]
     },
     "metadata": {
      "needs_background": "light"
     },
     "output_type": "display_data"
    }
   ],
   "source": [
    "loss = history2.history['loss']\n",
    "val_loss = history2.history['val_loss']\n",
    "\n",
    "epochs = range(1, len(loss) + 1)\n",
    "\n",
    "plt.plot(epochs, loss, 'bo', label='Training loss')\n",
    "plt.plot(epochs, val_loss, 'b', label='Validation loss')\n",
    "plt.title('Training and validation loss')\n",
    "plt.xlabel('Epochs')\n",
    "plt.ylabel('Loss')\n",
    "plt.legend()\n",
    "plt.show()"
   ]
  },
  {
   "cell_type": "code",
   "execution_count": 214,
   "metadata": {},
   "outputs": [
    {
     "data": {
      "image/png": "[encoded data removed]",
      "text/plain": [
       "<matplotlib.figure.Figure at 0x7fcdc1ce5c50>"
      ]
     },
     "metadata": {
      "needs_background": "light"
     },
     "output_type": "display_data"
    }
   ],
   "source": [
    "plt.clf()\n",
    "\n",
    "acc = history2.history['accuracy']\n",
    "val_acc = history2.history['val_accuracy']\n",
    "\n",
    "plt.plot(epochs, acc, 'bo', label='Training Acc')\n",
    "plt.plot(epochs, val_acc, 'b', label='Validation Acc')\n",
    "plt.title('Training and Validation Accuracy')\n",
    "plt.xlabel('Epochs')\n",
    "plt.ylabel('Accuracy')\n",
    "plt.legend()\n",
    "plt.show()"
   ]
  },
  {
   "cell_type": "code",
   "execution_count": 215,
   "metadata": {},
   "outputs": [],
   "source": [
    "# 새로운 데이터 예측\n",
    "predictions = model.predict(x_test)"
   ]
  },
  {
   "cell_type": "code",
   "execution_count": 203,
   "metadata": {},
   "outputs": [
    {
     "name": "stdout",
     "output_type": "stream",
     "text": [
      "4\n"
     ]
    }
   ],
   "source": [
    "# 46개의 항목에서 가장 큰 값이 예측 클래스가 됨\n",
    "print(np.argmax(predictions[0]))"
   ]
  },
  {
   "cell_type": "code",
   "execution_count": 168,
   "metadata": {},
   "outputs": [
    {
     "data": {
      "text/plain": [
       "array([9.3204025e-03, 1.6488084e-04, 5.6723520e-02, 2.5222498e-01,\n",
       "       6.7725074e-01, 4.3154517e-03], dtype=float32)"
      ]
     },
     "execution_count": 168,
     "metadata": {},
     "output_type": "execute_result"
    }
   ],
   "source": [
    "predictions[0]"
   ]
  },
  {
   "cell_type": "code",
   "execution_count": 204,
   "metadata": {},
   "outputs": [],
   "source": [
    "pred_list = []\n",
    "for i in range(len(predictions)):\n",
    "    pred_list.append(np.argmax(predictions[i]))"
   ]
  },
  {
   "cell_type": "code",
   "execution_count": 205,
   "metadata": {},
   "outputs": [],
   "source": [
    "pred_list = np.array(pred_list)"
   ]
  },
  {
   "cell_type": "code",
   "execution_count": 206,
   "metadata": {},
   "outputs": [
    {
     "data": {
      "text/plain": [
       "array([4, 2, 4, ..., 5, 0, 1])"
      ]
     },
     "execution_count": 206,
     "metadata": {},
     "output_type": "execute_result"
    }
   ],
   "source": [
    "y_test"
   ]
  },
  {
   "cell_type": "code",
   "execution_count": 251,
   "metadata": {},
   "outputs": [
    {
     "name": "stdout",
     "output_type": "stream",
     "text": [
      "3371\n"
     ]
    }
   ],
   "source": [
    "cnt = 0\n",
    "for i, j in zip(pred_list, y_test):\n",
    "    if i == j:\n",
    "        cnt += 1\n",
    "\n",
    "print(cnt)"
   ]
  },
  {
   "cell_type": "code",
   "execution_count": 252,
   "metadata": {},
   "outputs": [
    {
     "data": {
      "text/plain": [
       "5849"
      ]
     },
     "execution_count": 252,
     "metadata": {},
     "output_type": "execute_result"
    }
   ],
   "source": [
    "len(y_test)"
   ]
  },
  {
   "cell_type": "code",
   "execution_count": 253,
   "metadata": {},
   "outputs": [
    {
     "data": {
      "text/plain": [
       "array([4, 2, 2, ..., 5, 0, 4])"
      ]
     },
     "execution_count": 253,
     "metadata": {},
     "output_type": "execute_result"
    }
   ],
   "source": [
    "pred_list"
   ]
  },
  {
   "cell_type": "code",
   "execution_count": 254,
   "metadata": {},
   "outputs": [],
   "source": [
    "target_names = list(set(y_train))"
   ]
  },
  {
   "cell_type": "code",
   "execution_count": 255,
   "metadata": {},
   "outputs": [
    {
     "data": {
      "text/plain": [
       "[0, 1, 2, 3, 4, 5]"
      ]
     },
     "execution_count": 255,
     "metadata": {},
     "output_type": "execute_result"
    }
   ],
   "source": [
    "target_names"
   ]
  },
  {
   "cell_type": "code",
   "execution_count": 256,
   "metadata": {},
   "outputs": [
    {
     "data": {
      "text/html": [
       "<div>\n",
       "<style scoped>\n",
       "    .dataframe tbody tr th:only-of-type {\n",
       "        vertical-align: middle;\n",
       "    }\n",
       "\n",
       "    .dataframe tbody tr th {\n",
       "        vertical-align: top;\n",
       "    }\n",
       "\n",
       "    .dataframe thead th {\n",
       "        text-align: right;\n",
       "    }\n",
       "</style>\n",
       "<table border=\"1\" class=\"dataframe\">\n",
       "  <thead>\n",
       "    <tr style=\"text-align: right;\">\n",
       "      <th></th>\n",
       "      <th>0</th>\n",
       "      <th>1</th>\n",
       "      <th>2</th>\n",
       "      <th>3</th>\n",
       "      <th>4</th>\n",
       "      <th>5</th>\n",
       "    </tr>\n",
       "  </thead>\n",
       "  <tbody>\n",
       "    <tr>\n",
       "      <th>0</th>\n",
       "      <td>663</td>\n",
       "      <td>68</td>\n",
       "      <td>41</td>\n",
       "      <td>105</td>\n",
       "      <td>32</td>\n",
       "      <td>90</td>\n",
       "    </tr>\n",
       "    <tr>\n",
       "      <th>1</th>\n",
       "      <td>74</td>\n",
       "      <td>590</td>\n",
       "      <td>69</td>\n",
       "      <td>71</td>\n",
       "      <td>47</td>\n",
       "      <td>85</td>\n",
       "    </tr>\n",
       "    <tr>\n",
       "      <th>2</th>\n",
       "      <td>46</td>\n",
       "      <td>62</td>\n",
       "      <td>552</td>\n",
       "      <td>69</td>\n",
       "      <td>185</td>\n",
       "      <td>55</td>\n",
       "    </tr>\n",
       "    <tr>\n",
       "      <th>3</th>\n",
       "      <td>91</td>\n",
       "      <td>81</td>\n",
       "      <td>69</td>\n",
       "      <td>533</td>\n",
       "      <td>53</td>\n",
       "      <td>173</td>\n",
       "    </tr>\n",
       "    <tr>\n",
       "      <th>4</th>\n",
       "      <td>40</td>\n",
       "      <td>72</td>\n",
       "      <td>143</td>\n",
       "      <td>98</td>\n",
       "      <td>558</td>\n",
       "      <td>88</td>\n",
       "    </tr>\n",
       "    <tr>\n",
       "      <th>5</th>\n",
       "      <td>115</td>\n",
       "      <td>81</td>\n",
       "      <td>59</td>\n",
       "      <td>146</td>\n",
       "      <td>70</td>\n",
       "      <td>475</td>\n",
       "    </tr>\n",
       "  </tbody>\n",
       "</table>\n",
       "</div>"
      ],
      "text/plain": [
       "     0    1    2    3    4    5\n",
       "0  663   68   41  105   32   90\n",
       "1   74  590   69   71   47   85\n",
       "2   46   62  552   69  185   55\n",
       "3   91   81   69  533   53  173\n",
       "4   40   72  143   98  558   88\n",
       "5  115   81   59  146   70  475"
      ]
     },
     "execution_count": 256,
     "metadata": {},
     "output_type": "execute_result"
    }
   ],
   "source": [
    "from sklearn.metrics import confusion_matrix\n",
    "import pandas as pd\n",
    "\n",
    "pd.DataFrame(confusion_matrix(y_test, pred_list),\n",
    "                            index=target_names,\n",
    "                            columns=target_names)"
   ]
  },
  {
   "cell_type": "code",
   "execution_count": null,
   "metadata": {},
   "outputs": [],
   "source": []
  }
 ],
 "metadata": {
  "kernelspec": {
   "display_name": "Python 3",
   "language": "python",
   "name": "python3"
  },
  "language_info": {
   "codemirror_mode": {
    "name": "ipython",
    "version": 3
   },
   "file_extension": ".py",
   "mimetype": "text/x-python",
   "name": "python",
   "nbconvert_exporter": "python",
   "pygments_lexer": "ipython3",
   "version": "3.5.2"
  }
 },
 "nbformat": 4,
 "nbformat_minor": 2
}
